{
 "cells": [
  {
   "cell_type": "markdown",
   "metadata": {},
   "source": [
    "# 평가"
   ]
  },
  {
   "cell_type": "markdown",
   "metadata": {},
   "source": [
    "### 분류모델 평가"
   ]
  },
  {
   "cell_type": "markdown",
   "metadata": {},
   "source": [
    "#### 정확도 (Accuracy)\n",
    "- 전체 샘플 중에서 올바르게 예측한 샘플의 비율\n",
    "- 데이터가 불균형한 경우 정확도는 비현실적인 성능을 낼 수 있음"
   ]
  },
  {
   "cell_type": "code",
   "execution_count": 2,
   "metadata": {},
   "outputs": [],
   "source": [
    "# 잘못 학습된 모델 만들어보기\n",
    "from sklearn.base import BaseEstimator\n",
    "import numpy as np\n",
    "\n",
    "# 성별로만 판별하는 모델 작성\n",
    "class MyTitanicClassifier(BaseEstimator):\n",
    "    def fit(self, X, y):\n",
    "        # 훈련 메서드\n",
    "        pass\n",
    "\n",
    "    def predict(self, X):\n",
    "        # 결과 예측 메서드\n",
    "        pred = np.zeros((X.shape[0], 1))\n",
    "        for i in range(X.shape[0]):\n",
    "            sex = X['Sex'].iloc[i]\n",
    "            if sex == 0:    # 여성\n",
    "                pred[i] = 1     # 생존\n",
    "        return pred"
   ]
  },
  {
   "cell_type": "code",
   "execution_count": 3,
   "metadata": {},
   "outputs": [],
   "source": [
    "# 전처리 -> 함수\n",
    "from sklearn.preprocessing import LabelEncoder\n",
    "from sklearn.preprocessing import StandardScaler\n",
    "\n",
    "def fillna(df):\n",
    "    \"\"\"\n",
    "    결측치 처리 함수\n",
    "    - Age : 평균치로 대체\n",
    "    - Cabin : 'N' 기본값으로 대체\n",
    "    - Embarked : 'N' 기본값으로 대체\n",
    "    \"\"\"\n",
    "    df['Age'] = df['Age'].fillna(df['Age'].mean())\n",
    "    df['Cabin'] = df['Cabin'].fillna('N')\n",
    "    df['Embarked'] = df['Embarked'].fillna('N')\n",
    "\n",
    "    return df\n",
    "\n",
    "def drop_feature(df):\n",
    "    \"\"\"\n",
    "    모델 훈련과 관련 없는 속성 제거\n",
    "    - PassengerId, Name, Ticket\n",
    "    \"\"\"\n",
    "    return df.drop(['PassengerId', 'Name', 'Ticket'], axis=1)\n",
    "\n",
    "def encode_feature(df):\n",
    "    \"\"\"\n",
    "    범주형 데이터를 숫자로 인코딩\n",
    "    - Sex, Cabin, Embarked\n",
    "    \"\"\"\n",
    "    df['Cabin'] = df['Cabin'].str[:1]    # Cabin 데이터의 앞 글자만 가져옴\n",
    "\n",
    "    categories = ['Sex', 'Cabin', 'Embarked']\n",
    "    for cate_item in categories:\n",
    "        label_encoder = LabelEncoder()\n",
    "        df[cate_item] = label_encoder.fit_transform(df[cate_item])\n",
    "    \n",
    "    return df\n",
    "    \n",
    "def scailing_feature(train_data, test_data):\n",
    "    \"\"\"\n",
    "    특성 스케일링\n",
    "    \"\"\"\n",
    "    scaler = StandardScaler()\n",
    "    train_scaled = scaler.fit_transform(train_data)\n",
    "    test_scaled = scaler.transform(test_data)\n",
    "    \n",
    "    return train_scaled, test_scaled\n",
    "\n",
    "def preprocess_data(df):\n",
    "    df = drop_feature(df)\n",
    "    df = fillna(df)\n",
    "    df = encode_feature(df)\n",
    "\n",
    "    return df"
   ]
  },
  {
   "cell_type": "code",
   "execution_count": 4,
   "metadata": {},
   "outputs": [],
   "source": [
    "import pandas as pd\n",
    "from sklearn.model_selection import train_test_split\n",
    "\n",
    "df = pd.read_csv('./data/titanic.csv')\n",
    "\n",
    "# 입력/라벨 데이터 분리\n",
    "X = df.drop('Survived', axis=1)\n",
    "y = df['Survived']\n",
    "\n",
    "# 전처리\n",
    "X = preprocess_data(X)\n",
    "\n",
    "# 훈련/테스트 데이터 분리\n",
    "X_train, X_test, y_train, y_test = train_test_split(X, y, random_state=0)"
   ]
  },
  {
   "cell_type": "code",
   "execution_count": 5,
   "metadata": {},
   "outputs": [
    {
     "name": "stdout",
     "output_type": "stream",
     "text": [
      "훈련 데이터 정확도: 0.7889221556886228\n",
      "평가 데이터 정확도: 0.7802690582959642\n"
     ]
    }
   ],
   "source": [
    "from sklearn.metrics import accuracy_score\n",
    "\n",
    "# 모델 훈련\n",
    "my_classifier = MyTitanicClassifier()\n",
    "my_classifier.fit(X_train, y_train)\n",
    "\n",
    "# 예측\n",
    "pred_train = my_classifier.predict(X_train)\n",
    "pred_test = my_classifier.predict(X_test)\n",
    "\n",
    "# 평가 (accuracy_score 사용)\n",
    "print(\"훈련 데이터 정확도:\", accuracy_score(y_train, pred_train))\n",
    "print(\"평가 데이터 정확도:\", accuracy_score(y_test, pred_test))"
   ]
  },
  {
   "cell_type": "markdown",
   "metadata": {},
   "source": [
    "##### 혼동행렬 (Confusion Matrix)\n",
    "\n",
    "![](https://d.pr/i/rtYBJv+)"
   ]
  },
  {
   "cell_type": "code",
   "execution_count": 6,
   "metadata": {},
   "outputs": [],
   "source": [
    "from sklearn.metrics import confusion_matrix, precision_score, recall_score"
   ]
  },
  {
   "cell_type": "markdown",
   "metadata": {},
   "source": [
    "- 정밀도 (Precision)\n",
    "    - 양성이라고 예측한 것(TP + FP) 중에 실제 양성(TP)일 확률\n",
    "    - 정밀도가 중요한 지표인 경우: 음성인 데이터를 양성으로 예측하면 안되는 경우 (스팸메일 분류 등)"
   ]
  },
  {
   "cell_type": "code",
   "execution_count": 7,
   "metadata": {},
   "outputs": [
    {
     "data": {
      "text/plain": [
       "array([[115,  24],\n",
       "       [ 25,  59]], dtype=int64)"
      ]
     },
     "execution_count": 7,
     "metadata": {},
     "output_type": "execute_result"
    }
   ],
   "source": [
    "matrix = confusion_matrix(y_test, pred_test)\n",
    "matrix"
   ]
  },
  {
   "cell_type": "code",
   "execution_count": 8,
   "metadata": {},
   "outputs": [
    {
     "data": {
      "text/plain": [
       "(0.7108433734939759, 0.7108433734939759)"
      ]
     },
     "execution_count": 8,
     "metadata": {},
     "output_type": "execute_result"
    }
   ],
   "source": [
    "p_score = 59 / (24 + 59)\n",
    "p_score, precision_score(y_test, pred_test)"
   ]
  },
  {
   "cell_type": "markdown",
   "metadata": {},
   "source": [
    "- 재현율\n",
    "    - 실제 양성(TP+FN) 중에 양성으로 예측(TP)한 확률\n",
    "    - 재현율이 중요한 지표인 경우 : 양성인 데이터를 음성으로 예측하면 안되는 경우 (암 진단, 보험/금융 사기 등)"
   ]
  },
  {
   "cell_type": "code",
   "execution_count": 9,
   "metadata": {},
   "outputs": [
    {
     "data": {
      "text/plain": [
       "0.7023809523809523"
      ]
     },
     "execution_count": 9,
     "metadata": {},
     "output_type": "execute_result"
    }
   ],
   "source": [
    "recall_score(y_test, pred_test)"
   ]
  },
  {
   "cell_type": "code",
   "execution_count": 10,
   "metadata": {},
   "outputs": [
    {
     "name": "stdout",
     "output_type": "stream",
     "text": [
      "훈련 데이터 혼동행렬:\n",
      " [[410   0]\n",
      " [258   0]]\n",
      "훈련 데이터 정확도:\n",
      " 0.6137724550898204\n",
      "훈련 데이터 정밀도:\n",
      " 0.0\n",
      "훈련 데이터 재현율:\n",
      " 0.0\n",
      "평가 데이터 혼동행렬:\n",
      " [[139   0]\n",
      " [ 84   0]]\n",
      "평가 데이터 정확도:\n",
      " 0.6233183856502242\n",
      "평가 데이터 정밀도:\n",
      " 0.0\n",
      "평가 데이터 재현율:\n",
      " 0.0\n"
     ]
    },
    {
     "name": "stderr",
     "output_type": "stream",
     "text": [
      "c:\\Users\\Playdata\\AppData\\Local\\anaconda3\\envs\\sky_env\\Lib\\site-packages\\sklearn\\metrics\\_classification.py:1565: UndefinedMetricWarning: Precision is ill-defined and being set to 0.0 due to no predicted samples. Use `zero_division` parameter to control this behavior.\n",
      "  _warn_prf(average, modifier, f\"{metric.capitalize()} is\", len(result))\n",
      "c:\\Users\\Playdata\\AppData\\Local\\anaconda3\\envs\\sky_env\\Lib\\site-packages\\sklearn\\metrics\\_classification.py:1565: UndefinedMetricWarning: Precision is ill-defined and being set to 0.0 due to no predicted samples. Use `zero_division` parameter to control this behavior.\n",
      "  _warn_prf(average, modifier, f\"{metric.capitalize()} is\", len(result))\n"
     ]
    }
   ],
   "source": [
    "# 잘못 학습된 모델 만들어보기 2\n",
    "class MyDeathClassifier(BaseEstimator):\n",
    "    def fit(self, X, y):\n",
    "        pass\n",
    "\n",
    "    def predict(self, X):\n",
    "        return np.zeros((X.shape[0], 1))    # 전부 사망\n",
    "    \n",
    "my_classifier = MyDeathClassifier()\n",
    "my_classifier.fit(X_train, y_train)\n",
    "\n",
    "pred_train = my_classifier.predict(X_train)\n",
    "pred_test = my_classifier.predict(X_test)\n",
    "\n",
    "print(\"훈련 데이터 혼동행렬:\\n\", confusion_matrix(y_train, pred_train))\n",
    "print(\"훈련 데이터 정확도:\\n\", accuracy_score(y_train, pred_train))\n",
    "print(\"훈련 데이터 정밀도:\\n\", precision_score(y_train, pred_train))\n",
    "print(\"훈련 데이터 재현율:\\n\", recall_score(y_train, pred_train))\n",
    "\n",
    "print(\"평가 데이터 혼동행렬:\\n\", confusion_matrix(y_test, pred_test))\n",
    "print(\"평가 데이터 정확도:\\n\", accuracy_score(y_test, pred_test))\n",
    "print(\"평가 데이터 정밀도:\\n\", precision_score(y_test, pred_test))\n",
    "print(\"평가 데이터 재현율:\\n\", recall_score(y_test, pred_test))"
   ]
  },
  {
   "cell_type": "code",
   "execution_count": 11,
   "metadata": {},
   "outputs": [],
   "source": [
    "# 오차행렬, 정확도, 정밀도, 재현율 계산 및 출력 함수\n",
    "def evalute_binary_classification(y_true, y_pred):\n",
    "    print('혼동행렬:\\n', confusion_matrix(y_true, y_pred))\n",
    "    print(f'정확도: {accuracy_score(y_true, y_pred)}, 정밀도: {precision_score(y_true, y_pred)}, 재현율: {recall_score(y_true, y_pred)}')"
   ]
  },
  {
   "cell_type": "code",
   "execution_count": 12,
   "metadata": {},
   "outputs": [
    {
     "name": "stdout",
     "output_type": "stream",
     "text": [
      "혼동행렬:\n",
      " [[350  60]\n",
      " [ 77 181]]\n",
      "정확도: 0.7949101796407185, 정밀도: 0.7510373443983402, 재현율: 0.7015503875968992\n",
      "혼동행렬:\n",
      " [[116  23]\n",
      " [ 23  61]]\n",
      "정확도: 0.7937219730941704, 정밀도: 0.7261904761904762, 재현율: 0.7261904761904762\n"
     ]
    },
    {
     "name": "stderr",
     "output_type": "stream",
     "text": [
      "c:\\Users\\Playdata\\AppData\\Local\\anaconda3\\envs\\sky_env\\Lib\\site-packages\\sklearn\\linear_model\\_logistic.py:465: ConvergenceWarning: lbfgs failed to converge (status=1):\n",
      "STOP: TOTAL NO. OF ITERATIONS REACHED LIMIT.\n",
      "\n",
      "Increase the number of iterations (max_iter) or scale the data as shown in:\n",
      "    https://scikit-learn.org/stable/modules/preprocessing.html\n",
      "Please also refer to the documentation for alternative solver options:\n",
      "    https://scikit-learn.org/stable/modules/linear_model.html#logistic-regression\n",
      "  n_iter_i = _check_optimize_result(\n"
     ]
    }
   ],
   "source": [
    "from sklearn.linear_model import LogisticRegression\n",
    "\n",
    "df = pd.read_csv('./data/titanic.csv')\n",
    "\n",
    "# 입력/라벨 데이터 분리\n",
    "X = df.drop('Survived', axis=1)\n",
    "y = df['Survived']\n",
    "\n",
    "# 전처리\n",
    "X = preprocess_data(X)\n",
    "X_train, X_test, y_train, y_test = train_test_split(X, y, random_state=0)\n",
    "\n",
    "# 모델 훈련\n",
    "lr_clf = LogisticRegression()\n",
    "lr_clf.fit(X_train, y_train)\n",
    "\n",
    "# 예측 및 평가\n",
    "pred_train = lr_clf.predict(X_train)\n",
    "pred_test = lr_clf.predict(X_test)\n",
    "evalute_binary_classification(y_train, pred_train)\n",
    "evalute_binary_classification(y_test, pred_test)"
   ]
  },
  {
   "cell_type": "markdown",
   "metadata": {},
   "source": [
    "- 정밀도-재현율의 trade-off\n",
    "    - 분류 결정 임계치(threshold)를 낮추면? Positive로 예측할 확률이 높아진다!\n",
    "        - 정밀도는 낮아지고, 재현율은 높아진다.\n",
    "    - 분류 결정 임계치(threshold)를 높이면? Positive로 예측할 확률이 낮아진다!\n",
    "        - 정밀도는 높아지고, 재현율은 낮아진다."
   ]
  },
  {
   "cell_type": "code",
   "execution_count": 13,
   "metadata": {},
   "outputs": [
    {
     "name": "stdout",
     "output_type": "stream",
     "text": [
      "[[0.83789169 0.16210831]\n",
      " [0.8887822  0.1112178 ]\n",
      " [0.9209338  0.0790662 ]\n",
      " [0.05566891 0.94433109]\n",
      " [0.29713555 0.70286445]\n",
      " [0.5055174  0.4944826 ]\n",
      " [0.09160747 0.90839253]]\n",
      "[0 0 0 1 1 0 1]\n"
     ]
    }
   ],
   "source": [
    "pred_proba = lr_clf.predict_proba(X_test)\n",
    "print(pred_proba[:7])\n",
    "\n",
    "pred = lr_clf.predict(X_test)\n",
    "print(pred[:7])"
   ]
  },
  {
   "cell_type": "code",
   "execution_count": 14,
   "metadata": {},
   "outputs": [
    {
     "data": {
      "text/plain": [
       "array([[1., 0., 1.],\n",
       "       [1., 0., 0.],\n",
       "       [0., 1., 1.]])"
      ]
     },
     "execution_count": 14,
     "metadata": {},
     "output_type": "execute_result"
    }
   ],
   "source": [
    "from sklearn.preprocessing import Binarizer\n",
    "\n",
    "temp_X = [[1, -1, 2], [2, 0, 0], [0, 1.1, 1.2]]\n",
    "binarizer = Binarizer(threshold=0)\n",
    "adj_X = binarizer.fit_transform(temp_X)\n",
    "adj_X"
   ]
  },
  {
   "cell_type": "code",
   "execution_count": 15,
   "metadata": {},
   "outputs": [
    {
     "name": "stdout",
     "output_type": "stream",
     "text": [
      "혼동행렬:\n",
      " [[116  23]\n",
      " [ 23  61]]\n",
      "정확도: 0.7937219730941704, 정밀도: 0.7261904761904762, 재현율: 0.7261904761904762\n"
     ]
    }
   ],
   "source": [
    "from sklearn.preprocessing import Binarizer\n",
    "\n",
    "predict_proba_1 = pred_proba[:, 1].reshape(-1, 1)\n",
    "\n",
    "binarizer = Binarizer(threshold=0.5)\n",
    "custom_pred = binarizer.fit_transform(predict_proba_1)\n",
    "evalute_binary_classification(y_test, custom_pred)"
   ]
  },
  {
   "cell_type": "code",
   "execution_count": 16,
   "metadata": {},
   "outputs": [
    {
     "name": "stdout",
     "output_type": "stream",
     "text": [
      "혼동행렬:\n",
      " [[109  30]\n",
      " [ 19  65]]\n",
      "정확도: 0.7802690582959642, 정밀도: 0.6842105263157895, 재현율: 0.7738095238095238\n",
      "혼동행렬:\n",
      " [[114  25]\n",
      " [ 19  65]]\n",
      "정확도: 0.8026905829596412, 정밀도: 0.7222222222222222, 재현율: 0.7738095238095238\n",
      "혼동행렬:\n",
      " [[116  23]\n",
      " [ 23  61]]\n",
      "정확도: 0.7937219730941704, 정밀도: 0.7261904761904762, 재현율: 0.7261904761904762\n",
      "혼동행렬:\n",
      " [[121  18]\n",
      " [ 23  61]]\n",
      "정확도: 0.8161434977578476, 정밀도: 0.7721518987341772, 재현율: 0.7261904761904762\n",
      "혼동행렬:\n",
      " [[124  15]\n",
      " [ 30  54]]\n",
      "정확도: 0.7982062780269058, 정밀도: 0.782608695652174, 재현율: 0.6428571428571429\n"
     ]
    }
   ],
   "source": [
    "# 임계치 별 평가 방법 확인\n",
    "thresholds = [0.4, 0.45, 0.5, 0.55, 0.6]\n",
    "\n",
    "def evaluate_by_threshold(y_true, y_pred, threshold):\n",
    "    for threshold in thresholds:\n",
    "        binarizer = Binarizer(threshold=threshold)\n",
    "        custom_pred = binarizer.fit_transform(y_pred)\n",
    "        evalute_binary_classification(y_true, custom_pred)\n",
    "\n",
    "evaluate_by_threshold(y_test, predict_proba_1, thresholds)"
   ]
  },
  {
   "cell_type": "code",
   "execution_count": 17,
   "metadata": {},
   "outputs": [
    {
     "data": {
      "image/png": "[encoded data removed]",
      "text/plain": [
       "<Figure size 600x400 with 1 Axes>"
      ]
     },
     "metadata": {},
     "output_type": "display_data"
    }
   ],
   "source": [
    "# 정밀도-재현율 변화 과정 시각화\n",
    "from sklearn.metrics import precision_recall_curve\n",
    "import matplotlib.pyplot as plt\n",
    "\n",
    "# threshold에 따른 precision, recall 값 반환\n",
    "precisions, recalls, thresholds = precision_recall_curve(y_test, predict_proba_1)\n",
    "\n",
    "# 기준 thresholds 211개\n",
    "# - 정밀도와 재현율에 추가된 마지막 값은 극단적 임계값 설정에 대한 계산 결과\n",
    "# - 정밀도는 마지막에 1 추가 (임계값이 매우 낮아 모든 샘플이 양성으로 예측된 경우)\n",
    "# - 재현율은 마지막에 0 추가(임계값이 매우 높아 모든 샘플이 음성으로 예측된 경우)\n",
    "# precisions.shape, recalls.shape, thresholds.shape\n",
    "\n",
    "plt.figure(figsize=(6, 4))\n",
    "plt.plot(thresholds, precisions[:-1], linestyle='--', label='Precision')\n",
    "plt.plot(thresholds, recalls[:-1], label='Recall')\n",
    "plt.xlabel('Threshold')\n",
    "plt.ylabel('Precision and Recall values')\n",
    "plt.legend()\n",
    "plt.show()"
   ]
  },
  {
   "cell_type": "markdown",
   "metadata": {},
   "source": [
    "- F1-score\n",
    "    - 정밀도와 재현율을 결합한 지표"
   ]
  },
  {
   "cell_type": "code",
   "execution_count": 18,
   "metadata": {},
   "outputs": [
    {
     "data": {
      "text/plain": [
       "0.7261904761904762"
      ]
     },
     "execution_count": 18,
     "metadata": {},
     "output_type": "execute_result"
    }
   ],
   "source": [
    "from sklearn.metrics import f1_score\n",
    "\n",
    "f1_score(y_test, pred_test)"
   ]
  },
  {
   "cell_type": "markdown",
   "metadata": {},
   "source": [
    "### ROC Curve - AUC\n",
    "- ROC Curve (Receiver Operation Characteristic Curve, 수신자 조작 특성 커브)\n",
    "    - x축 : FPR (False Positive Rate), 실제 음성을 잘못 예측한 비율\n",
    "        - FPT = FP/(FP + TN)\n",
    "    - y축 : TPR (True Positive Rate), recall score\n",
    "        - TPR = TP/(FN + TP)\n",
    "- AUC(Area Under Curve): ROC 곡선 아래 면적 (1에 가까울수록 성능 좋음)"
   ]
  },
  {
   "cell_type": "code",
   "execution_count": 19,
   "metadata": {},
   "outputs": [
    {
     "data": {
      "text/plain": [
       "(array([0. , 0. , 0.5, 0.5, 1. ]),\n",
       " array([0. , 0.5, 0.5, 1. , 1. ]),\n",
       " array([ inf, 0.8 , 0.4 , 0.35, 0.1 ]))"
      ]
     },
     "execution_count": 19,
     "metadata": {},
     "output_type": "execute_result"
    }
   ],
   "source": [
    "from sklearn.metrics import roc_curve\n",
    "\n",
    "y_true_sample = np.array([0, 0, 1, 1])\n",
    "y_pred_sample = np.array([0.1, 0.4, 0.35, 0.8])\n",
    "\n",
    "fpr, tpr, thresholds = roc_curve(y_true_sample, y_pred_sample)\n",
    "fpr, tpr, thresholds"
   ]
  },
  {
   "cell_type": "code",
   "execution_count": null,
   "metadata": {},
   "outputs": [
    {
     "name": "stderr",
     "output_type": "stream",
     "text": [
      "c:\\Users\\Playdata\\AppData\\Local\\anaconda3\\envs\\sky_env\\Lib\\site-packages\\sklearn\\linear_model\\_logistic.py:465: ConvergenceWarning: lbfgs failed to converge (status=1):\n",
      "STOP: TOTAL NO. OF ITERATIONS REACHED LIMIT.\n",
      "\n",
      "Increase the number of iterations (max_iter) or scale the data as shown in:\n",
      "    https://scikit-learn.org/stable/modules/preprocessing.html\n",
      "Please also refer to the documentation for alternative solver options:\n",
      "    https://scikit-learn.org/stable/modules/linear_model.html#logistic-regression\n",
      "  n_iter_i = _check_optimize_result(\n"
     ]
    },
    {
     "data": {
      "image/png": "[encoded data removed]",
      "text/plain": [
       "<Figure size 640x480 with 1 Axes>"
      ]
     },
     "metadata": {},
     "output_type": "display_data"
    }
   ],
   "source": [
    "from sklearn.metrics import auc\n",
    "\n",
    "model = LogisticRegression()\n",
    "model.fit(X_train, y_train)\n",
    "\n",
    "y_pred_proba = model.predict_proba(X_test)[:, 1]\n",
    "\n",
    "fpr, tpr, thresholds = roc_curve(y_test, y_pred_proba)\n",
    "\n",
    "plt.plot(fpr, tpr, color='blue', label='ROC Curve')\n",
    "plt.plot([0, 1], [0, 1], color='gray', linestyle='--')\n",
    "plt.xlabel('FPR (False Positive Rate)')\n",
    "plt.ylabel('TPR (True Positive Rate)')\n",
    "plt.legend()\n",
    "plt.show()"
   ]
  },
  {
   "cell_type": "code",
   "execution_count": 23,
   "metadata": {},
   "outputs": [],
   "source": [
    "from sklearn.metrics import confusion_matrix, precision_score, recall_score"
   ]
  },
  {
   "cell_type": "code",
   "execution_count": null,
   "metadata": {},
   "outputs": [],
   "source": [
    "from sklearn.datasets import load_digits\n",
    "from sklearn.ensemble import RandomForestClassifier\n",
    "\n",
    "digits = load_digits()\n",
    "X_train, X_test, y_train, y_test = train_test_split(digits.data, digits.target, test_size=0.2, random_state=42)\n",
    "\n",
    "model = RandomForestClassifier(n_estimators=100, random_state=42)\n",
    "model.fit(X_train, y_train)\n",
    "\n",
    "\n"
   ]
  },
  {
   "cell_type": "markdown",
   "metadata": {},
   "source": [
    "### 회귀 모델 평가"
   ]
  },
  {
   "cell_type": "code",
   "execution_count": 20,
   "metadata": {},
   "outputs": [],
   "source": [
    "# 샘플 데이터\n",
    "\n",
    "y_true = [3, 0.5, 2, 7]\n",
    "y_pred = [2.5, 0, 2, 9]"
   ]
  },
  {
   "cell_type": "code",
   "execution_count": 21,
   "metadata": {},
   "outputs": [],
   "source": [
    "from sklearn.metrics import mean_absolute_error\n",
    "from sklearn.metrics import mean_squared_error\n",
    "from sklearn.metrics import root_mean_squared_error\n",
    "from sklearn.metrics import mean_squared_log_error\n",
    "from sklearn.metrics import root_mean_squared_log_error\n",
    "from sklearn.metrics import r2_score"
   ]
  },
  {
   "cell_type": "code",
   "execution_count": null,
   "metadata": {},
   "outputs": [],
   "source": []
  }
 ],
 "metadata": {
  "kernelspec": {
   "display_name": "Python 3",
   "language": "python",
   "name": "python3"
  },
  "language_info": {
   "codemirror_mode": {
    "name": "ipython",
    "version": 3
   },
   "file_extension": ".py",
   "mimetype": "text/x-python",
   "name": "python",
   "nbconvert_exporter": "python",
   "pygments_lexer": "ipython3",
   "version": "3.12.8"
  }
 },
 "nbformat": 4,
 "nbformat_minor": 2
}
