{
 "cells": [
  {
   "cell_type": "markdown",
   "metadata": {},
   "source": [
    "### 지도학습 분류 미리보기"
   ]
  },
  {
   "cell_type": "code",
   "execution_count": 1,
   "metadata": {},
   "outputs": [
    {
     "name": "stdout",
     "output_type": "stream",
     "text": [
      "Collecting scikit-learn\n",
      "  Downloading scikit_learn-1.6.1-cp312-cp312-win_amd64.whl.metadata (15 kB)\n",
      "Requirement already satisfied: numpy>=1.19.5 in c:\\users\\playdata\\appdata\\local\\anaconda3\\envs\\sky_env\\lib\\site-packages (from scikit-learn) (2.2.1)\n",
      "Requirement already satisfied: scipy>=1.6.0 in c:\\users\\playdata\\appdata\\local\\anaconda3\\envs\\sky_env\\lib\\site-packages (from scikit-learn) (1.15.0)\n",
      "Collecting joblib>=1.2.0 (from scikit-learn)\n",
      "  Downloading joblib-1.4.2-py3-none-any.whl.metadata (5.4 kB)\n",
      "Collecting threadpoolctl>=3.1.0 (from scikit-learn)\n",
      "  Downloading threadpoolctl-3.5.0-py3-none-any.whl.metadata (13 kB)\n",
      "Downloading scikit_learn-1.6.1-cp312-cp312-win_amd64.whl (11.1 MB)\n",
      "   ---------------------------------------- 0.0/11.1 MB ? eta -:--:--\n",
      "    --------------------------------------- 0.3/11.1 MB ? eta -:--:--\n",
      "   --- ------------------------------------ 1.0/11.1 MB 3.6 MB/s eta 0:00:03\n",
      "   ----- ---------------------------------- 1.6/11.1 MB 3.0 MB/s eta 0:00:04\n",
      "   ------- -------------------------------- 2.1/11.1 MB 2.9 MB/s eta 0:00:04\n",
      "   ---------- ----------------------------- 2.9/11.1 MB 3.0 MB/s eta 0:00:03\n",
      "   -------------- ------------------------- 3.9/11.1 MB 3.4 MB/s eta 0:00:03\n",
      "   ----------------- ---------------------- 5.0/11.1 MB 3.6 MB/s eta 0:00:02\n",
      "   --------------------- ------------------ 6.0/11.1 MB 3.8 MB/s eta 0:00:02\n",
      "   ----------------------- ---------------- 6.6/11.1 MB 3.8 MB/s eta 0:00:02\n",
      "   -------------------------- ------------- 7.3/11.1 MB 3.7 MB/s eta 0:00:02\n",
      "   ----------------------------- ---------- 8.1/11.1 MB 3.8 MB/s eta 0:00:01\n",
      "   ------------------------------- -------- 8.7/11.1 MB 3.6 MB/s eta 0:00:01\n",
      "   ---------------------------------- ----- 9.7/11.1 MB 3.7 MB/s eta 0:00:01\n",
      "   ---------------------------------------  11.0/11.1 MB 3.9 MB/s eta 0:00:01\n",
      "   ---------------------------------------- 11.1/11.1 MB 3.9 MB/s eta 0:00:00\n",
      "Downloading joblib-1.4.2-py3-none-any.whl (301 kB)\n",
      "Downloading threadpoolctl-3.5.0-py3-none-any.whl (18 kB)\n",
      "Installing collected packages: threadpoolctl, joblib, scikit-learn\n",
      "Successfully installed joblib-1.4.2 scikit-learn-1.6.1 threadpoolctl-3.5.0\n"
     ]
    }
   ],
   "source": [
    "# !pip install scikit-learn"
   ]
  },
  {
   "cell_type": "code",
   "execution_count": 161,
   "metadata": {},
   "outputs": [],
   "source": [
    "import numpy as np\n",
    "import pandas as pd\n",
    "import matplotlib.pyplot as plt\n",
    "import matplotlib.font_manager as fm\n",
    "import matplotlib\n",
    "\n",
    "\n",
    "font_path = 'C:/Windows/Fonts/gulim.ttc'\n",
    "font = fm.FontProperties(fname=font_path).get_name()\n",
    "matplotlib.rc('font', family=font)"
   ]
  },
  {
   "cell_type": "markdown",
   "metadata": {},
   "source": [
    "##### 생선 이진분류 - 도미(Bream) or 빙어(Smelt)"
   ]
  },
  {
   "cell_type": "markdown",
   "metadata": {},
   "source": [
    "- 이진분류는 0, 1로 구분\n",
    "- 도미야? (1) 도미가 아니야? (0)"
   ]
  },
  {
   "cell_type": "code",
   "execution_count": 162,
   "metadata": {},
   "outputs": [
    {
     "data": {
      "text/plain": [
       "(35, 35)"
      ]
     },
     "execution_count": 162,
     "metadata": {},
     "output_type": "execute_result"
    }
   ],
   "source": [
    "# 도미\n",
    "bream_length = [25.4, 26.3, 26.5, 29.0, 29.0, 29.7, 29.7, 30.0, 30.0, 30.7, 31.0, 31.0, 31.5, 32.0, 32.0, 32.0, 33.0, 33.0, 33.5, 33.5, 34.0, 34.0, 34.5, 35.0, 35.0, 35.0, 35.0, 36.0, 36.0, 37.0, 38.5, 38.5, 39.5, 41.0, 41.0]\n",
    "bream_weight = [242.0, 290.0, 340.0, 363.0, 430.0, 450.0, 500.0, 390.0, 450.0, 500.0, 475.0, 500.0, 500.0, 340.0, 600.0, 600.0, 700.0, 700.0, 610.0, 650.0, 575.0, 685.0, 620.0, 680.0, 700.0, 725.0, 720.0, 714.0, 850.0, 1000.0, 920.0, 955.0, 925.0, 975.0, 950.0]\n",
    "len(bream_length), len(bream_weight)"
   ]
  },
  {
   "cell_type": "code",
   "execution_count": 163,
   "metadata": {},
   "outputs": [
    {
     "data": {
      "text/plain": [
       "(14, 14)"
      ]
     },
     "execution_count": 163,
     "metadata": {},
     "output_type": "execute_result"
    }
   ],
   "source": [
    "# 빙어\n",
    "smelt_length = [9.8, 10.5, 10.6, 11.0, 11.2, 11.3, 11.8, 11.8, 12.0, 12.2, 12.4, 13.0, 14.3, 15.0]\n",
    "smelt_weight = [6.7, 7.5, 7.0, 9.7, 9.8, 8.7, 10.0, 9.9, 9.8, 12.2, 13.4, 12.2, 19.7, 19.9]\n",
    "len(smelt_length), len(smelt_weight)"
   ]
  },
  {
   "cell_type": "code",
   "execution_count": 164,
   "metadata": {},
   "outputs": [
    {
     "data": {
      "image/png": "[encoded data removed]",
      "text/plain": [
       "<Figure size 640x480 with 1 Axes>"
      ]
     },
     "metadata": {},
     "output_type": "display_data"
    }
   ],
   "source": [
    "# 데이터 분포 확인 (산점도)\n",
    "plt.scatter(bream_length, bream_weight, label='도미')\n",
    "plt.scatter(smelt_length, smelt_weight, label='빙어')\n",
    "plt.xlabel('length')\n",
    "plt.ylabel('weight')\n",
    "plt.legend()\n",
    "plt.show()\n"
   ]
  },
  {
   "cell_type": "markdown",
   "metadata": {},
   "source": [
    "##### 데이터 전처리\n",
    "- 모델이 원하는 형태로 데이터 가공\n",
    "    - 입력 : [길이, 무게] 2차원 배열\n",
    "    - 결과(정답) : 도미 or 빙어 -> 1,0으로 구성된 1차원 배열"
   ]
  },
  {
   "cell_type": "code",
   "execution_count": 165,
   "metadata": {},
   "outputs": [],
   "source": [
    "fish_length = bream_length + smelt_length\n",
    "fish_weight = bream_weight + smelt_weight\n",
    "len(fish_weight), len(fish_length)\n",
    "\n",
    "# 훈련 입력 데이터\n",
    "train_input = []\n",
    "# print(list(zip(fish_length, fish_weight)))\n",
    "for l, w in zip(fish_length, fish_weight):\n",
    "    train_input.append([l, w])\n",
    "\n",
    "# 훈련 정답 데이터\n",
    "train_label = [1] * len(bream_length) + [0] * len(smelt_length)\n"
   ]
  },
  {
   "cell_type": "markdown",
   "metadata": {},
   "source": [
    "##### K-최근접 이웃 분류 모델"
   ]
  },
  {
   "cell_type": "code",
   "execution_count": 166,
   "metadata": {},
   "outputs": [],
   "source": [
    "from sklearn.neighbors import KNeighborsClassifier"
   ]
  },
  {
   "cell_type": "code",
   "execution_count": 167,
   "metadata": {},
   "outputs": [
    {
     "data": {
      "text/plain": [
       "array([1, 0])"
      ]
     },
     "execution_count": 167,
     "metadata": {},
     "output_type": "execute_result"
    }
   ],
   "source": [
    "kn = KNeighborsClassifier()\n",
    "\n",
    "# fit(훈련/학습) - score(평가) - predict(예측)\n",
    "# 최근접 이웃 모델의 훈련은 별도의 연산 없이 모델이 데이터를 로드하면 끝\n",
    "kn.fit(train_input, train_label)   # 입력 데이터, 정답 데이터\n",
    "kn.score(train_input, train_label) # 100%\n",
    "kn.predict([[30, 500], [10, 5]])   # length, weight\n"
   ]
  },
  {
   "cell_type": "code",
   "execution_count": 168,
   "metadata": {},
   "outputs": [
    {
     "name": "stdout",
     "output_type": "stream",
     "text": [
      "[[ 0.3         0.7         1.          1.5        25.01999201]]\n",
      "[[ 6  9 11 12 10]]\n",
      "[[[ 29.7 500. ]\n",
      "  [ 30.7 500. ]\n",
      "  [ 31.  500. ]\n",
      "  [ 31.5 500. ]\n",
      "  [ 31.  475. ]]]\n",
      "[[1 1 1 1 1]]\n"
     ]
    }
   ],
   "source": [
    "# 최근접 이웃 모델의 작동 원리\n",
    "# - 주어진 데이터와 가장 가까운 k개의 이웃을 찾고, 이웃 데이터를 이용해 예측\n",
    "# - distances : 모델 데이터포인트와의 거리 (유클리드 거리 측정 방식식)\n",
    "# - index : 모델 데이터포인트의 인덱스스\n",
    "# distances, index = kn.kneighbors([[10, 5]])\n",
    "distances, index = kn.kneighbors([[30, 500]])\n",
    "print(distances)\n",
    "print(index)\n",
    "\n",
    "print(np.array(train_input)[index])\n",
    "print(np.array(train_label)[index])"
   ]
  },
  {
   "cell_type": "code",
   "execution_count": 169,
   "metadata": {},
   "outputs": [
    {
     "data": {
      "image/png": "[encoded data removed]",
      "text/plain": [
       "<Figure size 640x480 with 1 Axes>"
      ]
     },
     "metadata": {},
     "output_type": "display_data"
    }
   ],
   "source": [
    "train_input = np.array(train_input)\n",
    "\n",
    "# 데이터 분포 확인 (산점도)\n",
    "plt.scatter(bream_length, bream_weight, label='도미')\n",
    "plt.scatter(smelt_length, smelt_weight, label='빙어')\n",
    "plt.scatter(30, 500, label='에측', marker='^')\n",
    "plt.scatter(train_input[index, 0], train_input[index, 1], label='최근접이웃', marker='x') \n",
    "plt.xlabel('length')\n",
    "plt.ylabel('weight')\n",
    "plt.legend()\n",
    "plt.show()"
   ]
  },
  {
   "cell_type": "code",
   "execution_count": 170,
   "metadata": {},
   "outputs": [
    {
     "data": {
      "text/plain": [
       "0.7142857142857143"
      ]
     },
     "execution_count": 170,
     "metadata": {},
     "output_type": "execute_result"
    }
   ],
   "source": [
    "# K 개수 변경\n",
    "kn49 = KNeighborsClassifier(n_neighbors=49)\n",
    "\n",
    "kn49.fit(train_input, train_label)\n",
    "kn49.score(train_input, train_label)"
   ]
  },
  {
   "cell_type": "code",
   "execution_count": 171,
   "metadata": {},
   "outputs": [
    {
     "data": {
      "text/plain": [
       "0.7142857142857143"
      ]
     },
     "execution_count": 171,
     "metadata": {},
     "output_type": "execute_result"
    }
   ],
   "source": [
    "35 / 49  # 도미 개수 / 전체 개수"
   ]
  },
  {
   "cell_type": "markdown",
   "metadata": {},
   "source": [
    "##### 훈련 데이터 - 테스트 데이터 분리"
   ]
  },
  {
   "cell_type": "code",
   "execution_count": 172,
   "metadata": {},
   "outputs": [],
   "source": [
    "fish_input = []\n",
    "for l, w in zip(fish_length, fish_weight):\n",
    "    fish_input.append([l, w])\n",
    "\n",
    "fish_label = [1] * len(bream_length) + [0] * len(smelt_length)"
   ]
  },
  {
   "cell_type": "code",
   "execution_count": 173,
   "metadata": {},
   "outputs": [
    {
     "data": {
      "text/plain": [
       "0.0"
      ]
     },
     "execution_count": 173,
     "metadata": {},
     "output_type": "execute_result"
    }
   ],
   "source": [
    "# sampling 편향 : 데이터가 한쪽으로 치우친 현상\n",
    "# train 데이터는 전부 다 도미, test 데이터는 전부 다 빙어 \n",
    "train_input = fish_input[:35]\n",
    "train_label = fish_label[:35] # 1\n",
    "\n",
    "test_input = fish_input[35:]\n",
    "test_label = fish_label[35:] # 0\n",
    "\n",
    "kn = KNeighborsClassifier()\n",
    "kn.fit(train_input, train_label)\n",
    "kn.score(test_input, test_label)"
   ]
  },
  {
   "cell_type": "code",
   "execution_count": 174,
   "metadata": {},
   "outputs": [
    {
     "data": {
      "text/plain": [
       "(24, 11)"
      ]
     },
     "execution_count": 174,
     "metadata": {},
     "output_type": "execute_result"
    }
   ],
   "source": [
    "from sklearn.model_selection import train_test_split\n",
    "\n",
    "# stratify 속성 의미 / random_state 42는 통상적으로 시용\n",
    "train_input, test_input, train_label, test_label = train_test_split(fish_input, fish_label, test_size=0.3, stratify=fish_label, random_state=42)\n",
    "\n",
    "train_input, test_input, train_label, test_label\n",
    "sum(train_label), sum(test_label)\n"
   ]
  },
  {
   "cell_type": "code",
   "execution_count": 175,
   "metadata": {},
   "outputs": [
    {
     "data": {
      "image/png": "[encoded data removed]",
      "text/plain": [
       "<Figure size 640x480 with 1 Axes>"
      ]
     },
     "metadata": {},
     "output_type": "display_data"
    }
   ],
   "source": [
    "train_input = np.array(train_input)\n",
    "test_input = np.array(test_input)\n",
    "\n",
    "# 데이터 분포 확인 (산점도)\n",
    "plt.scatter(train_input[:, 0], train_input[:, 1], label='훈련')\n",
    "plt.scatter(test_input[:, 0], test_input[:, 1], label='평가')\n",
    "plt.xlabel('length')\n",
    "plt.ylabel('weight')\n",
    "plt.legend()\n",
    "plt.show()"
   ]
  },
  {
   "cell_type": "code",
   "execution_count": 176,
   "metadata": {},
   "outputs": [
    {
     "data": {
      "text/plain": [
       "1.0"
      ]
     },
     "execution_count": 176,
     "metadata": {},
     "output_type": "execute_result"
    }
   ],
   "source": [
    "kn.fit(train_input, train_label)\n",
    "kn.score(test_input, test_label)"
   ]
  },
  {
   "cell_type": "markdown",
   "metadata": {},
   "source": [
    "##### 정규화\n",
    "- 데이터포인트의 값의 범위를 재정의하는 것\n",
    "    - StandardScalar\n",
    "    - MinMaxScalar"
   ]
  },
  {
   "cell_type": "code",
   "execution_count": 177,
   "metadata": {},
   "outputs": [
    {
     "data": {
      "text/plain": [
       "array([0])"
      ]
     },
     "execution_count": 177,
     "metadata": {},
     "output_type": "execute_result"
    }
   ],
   "source": [
    "kn = KNeighborsClassifier()\n",
    "kn.fit(train_input, train_label)\n",
    "kn.score(test_input, test_label)\n",
    "\n",
    "predict_input = [24, 150]\n",
    "kn.predict([predict_input]) # 배치 차원으로 확장해서 넘겨줌"
   ]
  },
  {
   "cell_type": "code",
   "execution_count": 178,
   "metadata": {},
   "outputs": [
    {
     "data": {
      "image/png": "[encoded data removed]",
      "text/plain": [
       "<Figure size 640x480 with 1 Axes>"
      ]
     },
     "metadata": {},
     "output_type": "display_data"
    }
   ],
   "source": [
    "# train_input = np.array(train_input)\n",
    "# predict_input = np.array(train_input)\n",
    "\n",
    "\n",
    "# 데이터 분포 확인 (산점도)\n",
    "plt.scatter(train_input[:, 0], train_input[:, 1], label='훈련')\n",
    "# plt.scatter(test_input[:, 0], test_input[:, 1], label='평가')\n",
    "plt.scatter(predict_input[0], predict_input[1], label='예측', marker='D')\n",
    "plt.xlabel('length')\n",
    "plt.ylabel('weight')\n",
    "plt.xlim((0, 1000))\n",
    "plt.legend()\n",
    "plt.show()"
   ]
  },
  {
   "cell_type": "code",
   "execution_count": 182,
   "metadata": {},
   "outputs": [
    {
     "data": {
      "text/plain": [
       "array([[0, 0, 0, 0, 0]])"
      ]
     },
     "execution_count": 182,
     "metadata": {},
     "output_type": "execute_result"
    }
   ],
   "source": [
    "distances, index = kn.kneighbors([predict_input])\n",
    "np.array(train_label)[index]"
   ]
  },
  {
   "cell_type": "markdown",
   "metadata": {},
   "source": [
    "##### 표준 점수 (Z-Score)\n",
    "- 평균에서 얼마나 떨어져 있는지를 표준편차 단위로 계산한 값\n",
    "$$\n",
    "    표준 점수 = \\frac{데이터포인트 - 평균}{표준편차}\n",
    "$$"
   ]
  },
  {
   "cell_type": "code",
   "execution_count": 183,
   "metadata": {},
   "outputs": [
    {
     "data": {
      "text/plain": [
       "(array([ 27.02352941, 445.60294118]), array([ 10.0816099 , 319.21122132]))"
      ]
     },
     "execution_count": 183,
     "metadata": {},
     "output_type": "execute_result"
    }
   ],
   "source": [
    "mean = np.mean(train_input, axis=0)\n",
    "std = np.std(train_input, axis=0)\n",
    "mean, std"
   ]
  },
  {
   "cell_type": "code",
   "execution_count": 184,
   "metadata": {},
   "outputs": [
    {
     "data": {
      "text/plain": [
       "array([[-1.4703534 , -1.35773091],\n",
       "       [ 0.49361864,  0.48368306],\n",
       "       [ 0.74159491,  0.54633749],\n",
       "       [ 0.36467098,  0.17041086],\n",
       "       [ 0.49361864,  0.48368306],\n",
       "       [ 0.79119016,  0.85960969],\n",
       "       [-1.55962486, -1.36869543],\n",
       "       [ 0.89038067,  0.84081336],\n",
       "       [ 0.19604712, -0.04887968],\n",
       "       [-1.56954391, -1.36524944],\n",
       "       [ 0.26548048,  0.17041086],\n",
       "       [-1.4901915 , -1.36524944],\n",
       "       [ 0.39442813,  0.09209281],\n",
       "       [ 0.98957118,  1.73677184],\n",
       "       [ 0.19604712, -0.25877205],\n",
       "       [ 0.59280915,  0.79695525],\n",
       "       [-1.26205334, -1.33423549],\n",
       "       [ 0.44402339,  0.17041086],\n",
       "       [ 1.23754745,  1.50181769],\n",
       "       [-1.70841062, -1.37496088],\n",
       "       [ 0.89038067,  1.26686354],\n",
       "       [-1.63897726, -1.3724547 ],\n",
       "       [ 0.6424044 ,  0.51501027],\n",
       "       [-1.62905821, -1.37402106],\n",
       "       [ 0.79119016,  0.79695525],\n",
       "       [ 0.79119016,  0.8752733 ],\n",
       "       [-1.391001  , -1.35773091],\n",
       "       [ 0.29523763,  0.01377476],\n",
       "       [ 0.59280915,  0.79695525],\n",
       "       [-1.19261998, -1.33360895],\n",
       "       [ 0.49361864, -0.33082465],\n",
       "       [ 0.6424044 ,  0.64031915],\n",
       "       [ 0.29523763, -0.17418855],\n",
       "       [ 1.38633321,  1.65845379]])"
      ]
     },
     "execution_count": 184,
     "metadata": {},
     "output_type": "execute_result"
    }
   ],
   "source": [
    "train_scaled = (train_input - mean) / std\n",
    "train_scaled"
   ]
  },
  {
   "cell_type": "code",
   "execution_count": 185,
   "metadata": {},
   "outputs": [
    {
     "data": {
      "text/plain": [
       "array([[-1.58938201, -1.36556271],\n",
       "       [-1.51002961, -1.36493617],\n",
       "       [ 1.13835694,  1.59579935],\n",
       "       [ 0.79119016,  0.73430081],\n",
       "       [ 0.69199966,  0.40536501],\n",
       "       [-1.4505153 , -1.35397164],\n",
       "       [-0.07176725, -0.48746075],\n",
       "       [ 1.38633321,  1.58013574],\n",
       "       [-0.16103871, -0.6378314 ],\n",
       "       [ 0.69199966,  0.74996442],\n",
       "       [ 0.39442813,  0.17041086],\n",
       "       [ 1.13835694,  1.48615408],\n",
       "       [ 0.26548048,  0.01377476],\n",
       "       [-1.51002961, -1.3646229 ],\n",
       "       [-0.05192915, -0.33082465]])"
      ]
     },
     "execution_count": 185,
     "metadata": {},
     "output_type": "execute_result"
    }
   ],
   "source": [
    "test_scaled = (test_input - mean) / std\n",
    "test_scaled"
   ]
  },
  {
   "cell_type": "code",
   "execution_count": 186,
   "metadata": {},
   "outputs": [
    {
     "data": {
      "text/plain": [
       "1.0"
      ]
     },
     "execution_count": 186,
     "metadata": {},
     "output_type": "execute_result"
    }
   ],
   "source": [
    "kn.fit(train_scaled, train_label)\n",
    "kn.score(test_scaled, test_label)"
   ]
  },
  {
   "cell_type": "code",
   "execution_count": 187,
   "metadata": {},
   "outputs": [
    {
     "data": {
      "text/plain": [
       "array([-0.29990542, -0.92604182])"
      ]
     },
     "execution_count": 187,
     "metadata": {},
     "output_type": "execute_result"
    }
   ],
   "source": [
    "# 훈련, 테스트, 예측 데이터 모두 같은 스케일링을 적용해야 함함\n",
    "predict_scaled = (predict_input - mean) / std\n",
    "predict_scaled"
   ]
  },
  {
   "cell_type": "code",
   "execution_count": 189,
   "metadata": {},
   "outputs": [
    {
     "data": {
      "text/plain": [
       "array([1])"
      ]
     },
     "execution_count": 189,
     "metadata": {},
     "output_type": "execute_result"
    }
   ],
   "source": [
    "kn.predict([predict_input])"
   ]
  },
  {
   "cell_type": "code",
   "execution_count": 194,
   "metadata": {},
   "outputs": [
    {
     "data": {
      "image/png": "[encoded data removed]",
      "text/plain": [
       "<Figure size 640x480 with 1 Axes>"
      ]
     },
     "metadata": {},
     "output_type": "display_data"
    }
   ],
   "source": [
    "# 데이터 분포 확인 (산점도)\n",
    "plt.scatter(train_scaled[:, 0], train_scaled[:, 1], label='훈련')\n",
    "plt.scatter(test_scaled[:, 0], test_scaled[:, 1], label='평가')\n",
    "plt.scatter(predict_scaled[0], predict_scaled[1], label='예측', marker='D')\n",
    "plt.xlabel('length')\n",
    "plt.ylabel('weight')\n",
    "# plt.xlim((0, 1000))\n",
    "plt.legend()\n",
    "plt.show()"
   ]
  },
  {
   "cell_type": "code",
   "execution_count": 195,
   "metadata": {},
   "outputs": [
    {
     "data": {
      "text/plain": [
       "array([[-1.4703534 , -1.35773091],\n",
       "       [ 0.49361864,  0.48368306],\n",
       "       [ 0.74159491,  0.54633749],\n",
       "       [ 0.36467098,  0.17041086],\n",
       "       [ 0.49361864,  0.48368306],\n",
       "       [ 0.79119016,  0.85960969],\n",
       "       [-1.55962486, -1.36869543],\n",
       "       [ 0.89038067,  0.84081336],\n",
       "       [ 0.19604712, -0.04887968],\n",
       "       [-1.56954391, -1.36524944],\n",
       "       [ 0.26548048,  0.17041086],\n",
       "       [-1.4901915 , -1.36524944],\n",
       "       [ 0.39442813,  0.09209281],\n",
       "       [ 0.98957118,  1.73677184],\n",
       "       [ 0.19604712, -0.25877205],\n",
       "       [ 0.59280915,  0.79695525],\n",
       "       [-1.26205334, -1.33423549],\n",
       "       [ 0.44402339,  0.17041086],\n",
       "       [ 1.23754745,  1.50181769],\n",
       "       [-1.70841062, -1.37496088],\n",
       "       [ 0.89038067,  1.26686354],\n",
       "       [-1.63897726, -1.3724547 ],\n",
       "       [ 0.6424044 ,  0.51501027],\n",
       "       [-1.62905821, -1.37402106],\n",
       "       [ 0.79119016,  0.79695525],\n",
       "       [ 0.79119016,  0.8752733 ],\n",
       "       [-1.391001  , -1.35773091],\n",
       "       [ 0.29523763,  0.01377476],\n",
       "       [ 0.59280915,  0.79695525],\n",
       "       [-1.19261998, -1.33360895],\n",
       "       [ 0.49361864, -0.33082465],\n",
       "       [ 0.6424044 ,  0.64031915],\n",
       "       [ 0.29523763, -0.17418855],\n",
       "       [ 1.38633321,  1.65845379]])"
      ]
     },
     "execution_count": 195,
     "metadata": {},
     "output_type": "execute_result"
    }
   ],
   "source": [
    "# StandardScalar\n",
    "from sklearn.preprocessing import StandardScaler\n",
    "std_scalar = StandardScaler()\n",
    "train_scaled = std_scalar.fit_transform(train_input)\n",
    "train_scaled"
   ]
  },
  {
   "cell_type": "markdown",
   "metadata": {},
   "source": [
    "##### 생선 다중분류"
   ]
  },
  {
   "cell_type": "code",
   "execution_count": 196,
   "metadata": {},
   "outputs": [
    {
     "data": {
      "text/plain": [
       "Species\n",
       "Perch        56\n",
       "Bream        35\n",
       "Roach        20\n",
       "Pike         17\n",
       "Smelt        14\n",
       "Parkki       11\n",
       "Whitefish     6\n",
       "Name: count, dtype: int64"
      ]
     },
     "execution_count": 196,
     "metadata": {},
     "output_type": "execute_result"
    }
   ],
   "source": [
    "df = pd.read_csv('./data/fish.csv')\n",
    "df['Species'].value_counts()"
   ]
  },
  {
   "cell_type": "code",
   "execution_count": 113,
   "metadata": {},
   "outputs": [
    {
     "data": {
      "text/plain": [
       "array(['Bream', 'Roach', 'Whitefish', 'Parkki', 'Perch', 'Pike', 'Smelt'],\n",
       "      dtype=object)"
      ]
     },
     "execution_count": 113,
     "metadata": {},
     "output_type": "execute_result"
    }
   ],
   "source": [
    "df['Species'].unique()"
   ]
  },
  {
   "cell_type": "code",
   "execution_count": 114,
   "metadata": {},
   "outputs": [
    {
     "name": "stdout",
     "output_type": "stream",
     "text": [
      "<class 'pandas.core.frame.DataFrame'>\n",
      "RangeIndex: 159 entries, 0 to 158\n",
      "Data columns (total 6 columns):\n",
      " #   Column    Non-Null Count  Dtype  \n",
      "---  ------    --------------  -----  \n",
      " 0   Species   159 non-null    object \n",
      " 1   Weight    159 non-null    float64\n",
      " 2   Length    159 non-null    float64\n",
      " 3   Diagonal  159 non-null    float64\n",
      " 4   Height    159 non-null    float64\n",
      " 5   Width     159 non-null    float64\n",
      "dtypes: float64(5), object(1)\n",
      "memory usage: 7.6+ KB\n"
     ]
    }
   ],
   "source": [
    "df.info()"
   ]
  },
  {
   "cell_type": "code",
   "execution_count": 115,
   "metadata": {},
   "outputs": [
    {
     "data": {
      "text/html": [
       "<div>\n",
       "<style scoped>\n",
       "    .dataframe tbody tr th:only-of-type {\n",
       "        vertical-align: middle;\n",
       "    }\n",
       "\n",
       "    .dataframe tbody tr th {\n",
       "        vertical-align: top;\n",
       "    }\n",
       "\n",
       "    .dataframe thead th {\n",
       "        text-align: right;\n",
       "    }\n",
       "</style>\n",
       "<table border=\"1\" class=\"dataframe\">\n",
       "  <thead>\n",
       "    <tr style=\"text-align: right;\">\n",
       "      <th></th>\n",
       "      <th>Weight</th>\n",
       "      <th>Length</th>\n",
       "      <th>Diagonal</th>\n",
       "      <th>Height</th>\n",
       "      <th>Width</th>\n",
       "    </tr>\n",
       "  </thead>\n",
       "  <tbody>\n",
       "    <tr>\n",
       "      <th>count</th>\n",
       "      <td>159.000000</td>\n",
       "      <td>159.000000</td>\n",
       "      <td>159.000000</td>\n",
       "      <td>159.000000</td>\n",
       "      <td>159.000000</td>\n",
       "    </tr>\n",
       "    <tr>\n",
       "      <th>mean</th>\n",
       "      <td>398.326415</td>\n",
       "      <td>28.415723</td>\n",
       "      <td>31.227044</td>\n",
       "      <td>8.970994</td>\n",
       "      <td>4.417486</td>\n",
       "    </tr>\n",
       "    <tr>\n",
       "      <th>std</th>\n",
       "      <td>357.978317</td>\n",
       "      <td>10.716328</td>\n",
       "      <td>11.610246</td>\n",
       "      <td>4.286208</td>\n",
       "      <td>1.685804</td>\n",
       "    </tr>\n",
       "    <tr>\n",
       "      <th>min</th>\n",
       "      <td>0.000000</td>\n",
       "      <td>8.400000</td>\n",
       "      <td>8.800000</td>\n",
       "      <td>1.728400</td>\n",
       "      <td>1.047600</td>\n",
       "    </tr>\n",
       "    <tr>\n",
       "      <th>25%</th>\n",
       "      <td>120.000000</td>\n",
       "      <td>21.000000</td>\n",
       "      <td>23.150000</td>\n",
       "      <td>5.944800</td>\n",
       "      <td>3.385650</td>\n",
       "    </tr>\n",
       "    <tr>\n",
       "      <th>50%</th>\n",
       "      <td>273.000000</td>\n",
       "      <td>27.300000</td>\n",
       "      <td>29.400000</td>\n",
       "      <td>7.786000</td>\n",
       "      <td>4.248500</td>\n",
       "    </tr>\n",
       "    <tr>\n",
       "      <th>75%</th>\n",
       "      <td>650.000000</td>\n",
       "      <td>35.500000</td>\n",
       "      <td>39.650000</td>\n",
       "      <td>12.365900</td>\n",
       "      <td>5.584500</td>\n",
       "    </tr>\n",
       "    <tr>\n",
       "      <th>max</th>\n",
       "      <td>1650.000000</td>\n",
       "      <td>63.400000</td>\n",
       "      <td>68.000000</td>\n",
       "      <td>18.957000</td>\n",
       "      <td>8.142000</td>\n",
       "    </tr>\n",
       "  </tbody>\n",
       "</table>\n",
       "</div>"
      ],
      "text/plain": [
       "            Weight      Length    Diagonal      Height       Width\n",
       "count   159.000000  159.000000  159.000000  159.000000  159.000000\n",
       "mean    398.326415   28.415723   31.227044    8.970994    4.417486\n",
       "std     357.978317   10.716328   11.610246    4.286208    1.685804\n",
       "min       0.000000    8.400000    8.800000    1.728400    1.047600\n",
       "25%     120.000000   21.000000   23.150000    5.944800    3.385650\n",
       "50%     273.000000   27.300000   29.400000    7.786000    4.248500\n",
       "75%     650.000000   35.500000   39.650000   12.365900    5.584500\n",
       "max    1650.000000   63.400000   68.000000   18.957000    8.142000"
      ]
     },
     "execution_count": 115,
     "metadata": {},
     "output_type": "execute_result"
    }
   ],
   "source": [
    "df.describe()"
   ]
  },
  {
   "cell_type": "markdown",
   "metadata": {},
   "source": [
    "##### 데이터 정제"
   ]
  },
  {
   "cell_type": "code",
   "execution_count": 120,
   "metadata": {},
   "outputs": [
    {
     "data": {
      "text/plain": [
       "Index([40], dtype='int64')"
      ]
     },
     "execution_count": 120,
     "metadata": {},
     "output_type": "execute_result"
    }
   ],
   "source": [
    "df[df['Weight'] == 0].index"
   ]
  },
  {
   "cell_type": "code",
   "execution_count": 121,
   "metadata": {},
   "outputs": [
    {
     "data": {
      "text/html": [
       "<div>\n",
       "<style scoped>\n",
       "    .dataframe tbody tr th:only-of-type {\n",
       "        vertical-align: middle;\n",
       "    }\n",
       "\n",
       "    .dataframe tbody tr th {\n",
       "        vertical-align: top;\n",
       "    }\n",
       "\n",
       "    .dataframe thead th {\n",
       "        text-align: right;\n",
       "    }\n",
       "</style>\n",
       "<table border=\"1\" class=\"dataframe\">\n",
       "  <thead>\n",
       "    <tr style=\"text-align: right;\">\n",
       "      <th></th>\n",
       "      <th>Weight</th>\n",
       "      <th>Length</th>\n",
       "      <th>Diagonal</th>\n",
       "      <th>Height</th>\n",
       "      <th>Width</th>\n",
       "    </tr>\n",
       "  </thead>\n",
       "  <tbody>\n",
       "    <tr>\n",
       "      <th>count</th>\n",
       "      <td>158.000000</td>\n",
       "      <td>158.000000</td>\n",
       "      <td>158.000000</td>\n",
       "      <td>158.000000</td>\n",
       "      <td>158.000000</td>\n",
       "    </tr>\n",
       "    <tr>\n",
       "      <th>mean</th>\n",
       "      <td>400.847468</td>\n",
       "      <td>28.465823</td>\n",
       "      <td>31.280380</td>\n",
       "      <td>8.986790</td>\n",
       "      <td>4.424232</td>\n",
       "    </tr>\n",
       "    <tr>\n",
       "      <th>std</th>\n",
       "      <td>357.697796</td>\n",
       "      <td>10.731707</td>\n",
       "      <td>11.627605</td>\n",
       "      <td>4.295191</td>\n",
       "      <td>1.689010</td>\n",
       "    </tr>\n",
       "    <tr>\n",
       "      <th>min</th>\n",
       "      <td>5.900000</td>\n",
       "      <td>8.400000</td>\n",
       "      <td>8.800000</td>\n",
       "      <td>1.728400</td>\n",
       "      <td>1.047600</td>\n",
       "    </tr>\n",
       "    <tr>\n",
       "      <th>25%</th>\n",
       "      <td>121.250000</td>\n",
       "      <td>21.000000</td>\n",
       "      <td>23.200000</td>\n",
       "      <td>5.940600</td>\n",
       "      <td>3.398650</td>\n",
       "    </tr>\n",
       "    <tr>\n",
       "      <th>50%</th>\n",
       "      <td>281.500000</td>\n",
       "      <td>27.400000</td>\n",
       "      <td>29.700000</td>\n",
       "      <td>7.789000</td>\n",
       "      <td>4.277050</td>\n",
       "    </tr>\n",
       "    <tr>\n",
       "      <th>75%</th>\n",
       "      <td>650.000000</td>\n",
       "      <td>35.750000</td>\n",
       "      <td>39.675000</td>\n",
       "      <td>12.371850</td>\n",
       "      <td>5.586750</td>\n",
       "    </tr>\n",
       "    <tr>\n",
       "      <th>max</th>\n",
       "      <td>1650.000000</td>\n",
       "      <td>63.400000</td>\n",
       "      <td>68.000000</td>\n",
       "      <td>18.957000</td>\n",
       "      <td>8.142000</td>\n",
       "    </tr>\n",
       "  </tbody>\n",
       "</table>\n",
       "</div>"
      ],
      "text/plain": [
       "            Weight      Length    Diagonal      Height       Width\n",
       "count   158.000000  158.000000  158.000000  158.000000  158.000000\n",
       "mean    400.847468   28.465823   31.280380    8.986790    4.424232\n",
       "std     357.697796   10.731707   11.627605    4.295191    1.689010\n",
       "min       5.900000    8.400000    8.800000    1.728400    1.047600\n",
       "25%     121.250000   21.000000   23.200000    5.940600    3.398650\n",
       "50%     281.500000   27.400000   29.700000    7.789000    4.277050\n",
       "75%     650.000000   35.750000   39.675000   12.371850    5.586750\n",
       "max    1650.000000   63.400000   68.000000   18.957000    8.142000"
      ]
     },
     "execution_count": 121,
     "metadata": {},
     "output_type": "execute_result"
    }
   ],
   "source": [
    "df = df.drop(40).reset_index(drop=True)\n",
    "df.describe()"
   ]
  },
  {
   "cell_type": "markdown",
   "metadata": {},
   "source": [
    "##### 데이터 전처리\n",
    "- 훈련 데이터의 규격 : input + label (numpy ndarray)\n",
    "- 훈련 데이터/테스트(평가) 데이터 분리\n",
    "- 정규화 (컬럼값 사이의 차이를 완화)"
   ]
  },
  {
   "cell_type": "code",
   "execution_count": 125,
   "metadata": {},
   "outputs": [
    {
     "data": {
      "text/html": [
       "<div>\n",
       "<style scoped>\n",
       "    .dataframe tbody tr th:only-of-type {\n",
       "        vertical-align: middle;\n",
       "    }\n",
       "\n",
       "    .dataframe tbody tr th {\n",
       "        vertical-align: top;\n",
       "    }\n",
       "\n",
       "    .dataframe thead th {\n",
       "        text-align: right;\n",
       "    }\n",
       "</style>\n",
       "<table border=\"1\" class=\"dataframe\">\n",
       "  <thead>\n",
       "    <tr style=\"text-align: right;\">\n",
       "      <th></th>\n",
       "      <th>Weight</th>\n",
       "      <th>Length</th>\n",
       "      <th>Diagonal</th>\n",
       "      <th>Height</th>\n",
       "      <th>Width</th>\n",
       "    </tr>\n",
       "  </thead>\n",
       "  <tbody>\n",
       "    <tr>\n",
       "      <th>count</th>\n",
       "      <td>158.000000</td>\n",
       "      <td>158.000000</td>\n",
       "      <td>158.000000</td>\n",
       "      <td>158.000000</td>\n",
       "      <td>158.000000</td>\n",
       "    </tr>\n",
       "    <tr>\n",
       "      <th>mean</th>\n",
       "      <td>400.847468</td>\n",
       "      <td>28.465823</td>\n",
       "      <td>31.280380</td>\n",
       "      <td>8.986790</td>\n",
       "      <td>4.424232</td>\n",
       "    </tr>\n",
       "    <tr>\n",
       "      <th>std</th>\n",
       "      <td>357.697796</td>\n",
       "      <td>10.731707</td>\n",
       "      <td>11.627605</td>\n",
       "      <td>4.295191</td>\n",
       "      <td>1.689010</td>\n",
       "    </tr>\n",
       "    <tr>\n",
       "      <th>min</th>\n",
       "      <td>5.900000</td>\n",
       "      <td>8.400000</td>\n",
       "      <td>8.800000</td>\n",
       "      <td>1.728400</td>\n",
       "      <td>1.047600</td>\n",
       "    </tr>\n",
       "    <tr>\n",
       "      <th>25%</th>\n",
       "      <td>121.250000</td>\n",
       "      <td>21.000000</td>\n",
       "      <td>23.200000</td>\n",
       "      <td>5.940600</td>\n",
       "      <td>3.398650</td>\n",
       "    </tr>\n",
       "    <tr>\n",
       "      <th>50%</th>\n",
       "      <td>281.500000</td>\n",
       "      <td>27.400000</td>\n",
       "      <td>29.700000</td>\n",
       "      <td>7.789000</td>\n",
       "      <td>4.277050</td>\n",
       "    </tr>\n",
       "    <tr>\n",
       "      <th>75%</th>\n",
       "      <td>650.000000</td>\n",
       "      <td>35.750000</td>\n",
       "      <td>39.675000</td>\n",
       "      <td>12.371850</td>\n",
       "      <td>5.586750</td>\n",
       "    </tr>\n",
       "    <tr>\n",
       "      <th>max</th>\n",
       "      <td>1650.000000</td>\n",
       "      <td>63.400000</td>\n",
       "      <td>68.000000</td>\n",
       "      <td>18.957000</td>\n",
       "      <td>8.142000</td>\n",
       "    </tr>\n",
       "  </tbody>\n",
       "</table>\n",
       "</div>"
      ],
      "text/plain": [
       "            Weight      Length    Diagonal      Height       Width\n",
       "count   158.000000  158.000000  158.000000  158.000000  158.000000\n",
       "mean    400.847468   28.465823   31.280380    8.986790    4.424232\n",
       "std     357.697796   10.731707   11.627605    4.295191    1.689010\n",
       "min       5.900000    8.400000    8.800000    1.728400    1.047600\n",
       "25%     121.250000   21.000000   23.200000    5.940600    3.398650\n",
       "50%     281.500000   27.400000   29.700000    7.789000    4.277050\n",
       "75%     650.000000   35.750000   39.675000   12.371850    5.586750\n",
       "max    1650.000000   63.400000   68.000000   18.957000    8.142000"
      ]
     },
     "execution_count": 125,
     "metadata": {},
     "output_type": "execute_result"
    }
   ],
   "source": [
    "df.describe()"
   ]
  },
  {
   "cell_type": "code",
   "execution_count": 127,
   "metadata": {},
   "outputs": [
    {
     "data": {
      "text/plain": [
       "((158, 5), (158,))"
      ]
     },
     "execution_count": 127,
     "metadata": {},
     "output_type": "execute_result"
    }
   ],
   "source": [
    "# 입력-라벨 데이터 분리\n",
    "fish_input = df[['Weight', 'Length', 'Diagonal', 'Height', 'Width']].to_numpy()\n",
    "fish_label = df['Species'].to_numpy()\n",
    "\n",
    "fish_input.shape, fish_label.shape"
   ]
  },
  {
   "cell_type": "code",
   "execution_count": 128,
   "metadata": {},
   "outputs": [
    {
     "data": {
      "text/plain": [
       "((142, 5), (16, 5), (142,), (16,))"
      ]
     },
     "execution_count": 128,
     "metadata": {},
     "output_type": "execute_result"
    }
   ],
   "source": [
    "# 훈련-테스트 데이터 분리\n",
    "train_input, test_input, train_label, test_label = train_test_split(fish_input, fish_label, test_size=0.1, random_state=42)\n",
    "\n",
    "train_input.shape, test_input.shape, train_label.shape, test_label.shape"
   ]
  },
  {
   "cell_type": "code",
   "execution_count": 129,
   "metadata": {},
   "outputs": [],
   "source": [
    "# 정규화\n",
    "StandardScaler = StandardScaler()\n",
    "StandardScaler.fit(train_input)    # 훈련 데이터 기준 평균/표준편차 작업\n",
    "train_scaled = StandardScaler.transform(train_input) # 정규화 반영 -> 훈련 데이터\n",
    "test_scaled = StandardScaler.transform(test_input)   # 정규화 반영 -> 테스트 데이터"
   ]
  },
  {
   "cell_type": "markdown",
   "metadata": {},
   "source": [
    "##### 훈련"
   ]
  },
  {
   "cell_type": "code",
   "execution_count": 148,
   "metadata": {},
   "outputs": [
    {
     "data": {
      "text/html": [
       "<style>#sk-container-id-5 {\n",
       "  /* Definition of color scheme common for light and dark mode */\n",
       "  --sklearn-color-text: #000;\n",
       "  --sklearn-color-text-muted: #666;\n",
       "  --sklearn-color-line: gray;\n",
       "  /* Definition of color scheme for unfitted estimators */\n",
       "  --sklearn-color-unfitted-level-0: #fff5e6;\n",
       "  --sklearn-color-unfitted-level-1: #f6e4d2;\n",
       "  --sklearn-color-unfitted-level-2: #ffe0b3;\n",
       "  --sklearn-color-unfitted-level-3: chocolate;\n",
       "  /* Definition of color scheme for fitted estimators */\n",
       "  --sklearn-color-fitted-level-0: #f0f8ff;\n",
       "  --sklearn-color-fitted-level-1: #d4ebff;\n",
       "  --sklearn-color-fitted-level-2: #b3dbfd;\n",
       "  --sklearn-color-fitted-level-3: cornflowerblue;\n",
       "\n",
       "  /* Specific color for light theme */\n",
       "  --sklearn-color-text-on-default-background: var(--sg-text-color, var(--theme-code-foreground, var(--jp-content-font-color1, black)));\n",
       "  --sklearn-color-background: var(--sg-background-color, var(--theme-background, var(--jp-layout-color0, white)));\n",
       "  --sklearn-color-border-box: var(--sg-text-color, var(--theme-code-foreground, var(--jp-content-font-color1, black)));\n",
       "  --sklearn-color-icon: #696969;\n",
       "\n",
       "  @media (prefers-color-scheme: dark) {\n",
       "    /* Redefinition of color scheme for dark theme */\n",
       "    --sklearn-color-text-on-default-background: var(--sg-text-color, var(--theme-code-foreground, var(--jp-content-font-color1, white)));\n",
       "    --sklearn-color-background: var(--sg-background-color, var(--theme-background, var(--jp-layout-color0, #111)));\n",
       "    --sklearn-color-border-box: var(--sg-text-color, var(--theme-code-foreground, var(--jp-content-font-color1, white)));\n",
       "    --sklearn-color-icon: #878787;\n",
       "  }\n",
       "}\n",
       "\n",
       "#sk-container-id-5 {\n",
       "  color: var(--sklearn-color-text);\n",
       "}\n",
       "\n",
       "#sk-container-id-5 pre {\n",
       "  padding: 0;\n",
       "}\n",
       "\n",
       "#sk-container-id-5 input.sk-hidden--visually {\n",
       "  border: 0;\n",
       "  clip: rect(1px 1px 1px 1px);\n",
       "  clip: rect(1px, 1px, 1px, 1px);\n",
       "  height: 1px;\n",
       "  margin: -1px;\n",
       "  overflow: hidden;\n",
       "  padding: 0;\n",
       "  position: absolute;\n",
       "  width: 1px;\n",
       "}\n",
       "\n",
       "#sk-container-id-5 div.sk-dashed-wrapped {\n",
       "  border: 1px dashed var(--sklearn-color-line);\n",
       "  margin: 0 0.4em 0.5em 0.4em;\n",
       "  box-sizing: border-box;\n",
       "  padding-bottom: 0.4em;\n",
       "  background-color: var(--sklearn-color-background);\n",
       "}\n",
       "\n",
       "#sk-container-id-5 div.sk-container {\n",
       "  /* jupyter's `normalize.less` sets `[hidden] { display: none; }`\n",
       "     but bootstrap.min.css set `[hidden] { display: none !important; }`\n",
       "     so we also need the `!important` here to be able to override the\n",
       "     default hidden behavior on the sphinx rendered scikit-learn.org.\n",
       "     See: https://github.com/scikit-learn/scikit-learn/issues/21755 */\n",
       "  display: inline-block !important;\n",
       "  position: relative;\n",
       "}\n",
       "\n",
       "#sk-container-id-5 div.sk-text-repr-fallback {\n",
       "  display: none;\n",
       "}\n",
       "\n",
       "div.sk-parallel-item,\n",
       "div.sk-serial,\n",
       "div.sk-item {\n",
       "  /* draw centered vertical line to link estimators */\n",
       "  background-image: linear-gradient(var(--sklearn-color-text-on-default-background), var(--sklearn-color-text-on-default-background));\n",
       "  background-size: 2px 100%;\n",
       "  background-repeat: no-repeat;\n",
       "  background-position: center center;\n",
       "}\n",
       "\n",
       "/* Parallel-specific style estimator block */\n",
       "\n",
       "#sk-container-id-5 div.sk-parallel-item::after {\n",
       "  content: \"\";\n",
       "  width: 100%;\n",
       "  border-bottom: 2px solid var(--sklearn-color-text-on-default-background);\n",
       "  flex-grow: 1;\n",
       "}\n",
       "\n",
       "#sk-container-id-5 div.sk-parallel {\n",
       "  display: flex;\n",
       "  align-items: stretch;\n",
       "  justify-content: center;\n",
       "  background-color: var(--sklearn-color-background);\n",
       "  position: relative;\n",
       "}\n",
       "\n",
       "#sk-container-id-5 div.sk-parallel-item {\n",
       "  display: flex;\n",
       "  flex-direction: column;\n",
       "}\n",
       "\n",
       "#sk-container-id-5 div.sk-parallel-item:first-child::after {\n",
       "  align-self: flex-end;\n",
       "  width: 50%;\n",
       "}\n",
       "\n",
       "#sk-container-id-5 div.sk-parallel-item:last-child::after {\n",
       "  align-self: flex-start;\n",
       "  width: 50%;\n",
       "}\n",
       "\n",
       "#sk-container-id-5 div.sk-parallel-item:only-child::after {\n",
       "  width: 0;\n",
       "}\n",
       "\n",
       "/* Serial-specific style estimator block */\n",
       "\n",
       "#sk-container-id-5 div.sk-serial {\n",
       "  display: flex;\n",
       "  flex-direction: column;\n",
       "  align-items: center;\n",
       "  background-color: var(--sklearn-color-background);\n",
       "  padding-right: 1em;\n",
       "  padding-left: 1em;\n",
       "}\n",
       "\n",
       "\n",
       "/* Toggleable style: style used for estimator/Pipeline/ColumnTransformer box that is\n",
       "clickable and can be expanded/collapsed.\n",
       "- Pipeline and ColumnTransformer use this feature and define the default style\n",
       "- Estimators will overwrite some part of the style using the `sk-estimator` class\n",
       "*/\n",
       "\n",
       "/* Pipeline and ColumnTransformer style (default) */\n",
       "\n",
       "#sk-container-id-5 div.sk-toggleable {\n",
       "  /* Default theme specific background. It is overwritten whether we have a\n",
       "  specific estimator or a Pipeline/ColumnTransformer */\n",
       "  background-color: var(--sklearn-color-background);\n",
       "}\n",
       "\n",
       "/* Toggleable label */\n",
       "#sk-container-id-5 label.sk-toggleable__label {\n",
       "  cursor: pointer;\n",
       "  display: flex;\n",
       "  width: 100%;\n",
       "  margin-bottom: 0;\n",
       "  padding: 0.5em;\n",
       "  box-sizing: border-box;\n",
       "  text-align: center;\n",
       "  align-items: start;\n",
       "  justify-content: space-between;\n",
       "  gap: 0.5em;\n",
       "}\n",
       "\n",
       "#sk-container-id-5 label.sk-toggleable__label .caption {\n",
       "  font-size: 0.6rem;\n",
       "  font-weight: lighter;\n",
       "  color: var(--sklearn-color-text-muted);\n",
       "}\n",
       "\n",
       "#sk-container-id-5 label.sk-toggleable__label-arrow:before {\n",
       "  /* Arrow on the left of the label */\n",
       "  content: \"▸\";\n",
       "  float: left;\n",
       "  margin-right: 0.25em;\n",
       "  color: var(--sklearn-color-icon);\n",
       "}\n",
       "\n",
       "#sk-container-id-5 label.sk-toggleable__label-arrow:hover:before {\n",
       "  color: var(--sklearn-color-text);\n",
       "}\n",
       "\n",
       "/* Toggleable content - dropdown */\n",
       "\n",
       "#sk-container-id-5 div.sk-toggleable__content {\n",
       "  max-height: 0;\n",
       "  max-width: 0;\n",
       "  overflow: hidden;\n",
       "  text-align: left;\n",
       "  /* unfitted */\n",
       "  background-color: var(--sklearn-color-unfitted-level-0);\n",
       "}\n",
       "\n",
       "#sk-container-id-5 div.sk-toggleable__content.fitted {\n",
       "  /* fitted */\n",
       "  background-color: var(--sklearn-color-fitted-level-0);\n",
       "}\n",
       "\n",
       "#sk-container-id-5 div.sk-toggleable__content pre {\n",
       "  margin: 0.2em;\n",
       "  border-radius: 0.25em;\n",
       "  color: var(--sklearn-color-text);\n",
       "  /* unfitted */\n",
       "  background-color: var(--sklearn-color-unfitted-level-0);\n",
       "}\n",
       "\n",
       "#sk-container-id-5 div.sk-toggleable__content.fitted pre {\n",
       "  /* unfitted */\n",
       "  background-color: var(--sklearn-color-fitted-level-0);\n",
       "}\n",
       "\n",
       "#sk-container-id-5 input.sk-toggleable__control:checked~div.sk-toggleable__content {\n",
       "  /* Expand drop-down */\n",
       "  max-height: 200px;\n",
       "  max-width: 100%;\n",
       "  overflow: auto;\n",
       "}\n",
       "\n",
       "#sk-container-id-5 input.sk-toggleable__control:checked~label.sk-toggleable__label-arrow:before {\n",
       "  content: \"▾\";\n",
       "}\n",
       "\n",
       "/* Pipeline/ColumnTransformer-specific style */\n",
       "\n",
       "#sk-container-id-5 div.sk-label input.sk-toggleable__control:checked~label.sk-toggleable__label {\n",
       "  color: var(--sklearn-color-text);\n",
       "  background-color: var(--sklearn-color-unfitted-level-2);\n",
       "}\n",
       "\n",
       "#sk-container-id-5 div.sk-label.fitted input.sk-toggleable__control:checked~label.sk-toggleable__label {\n",
       "  background-color: var(--sklearn-color-fitted-level-2);\n",
       "}\n",
       "\n",
       "/* Estimator-specific style */\n",
       "\n",
       "/* Colorize estimator box */\n",
       "#sk-container-id-5 div.sk-estimator input.sk-toggleable__control:checked~label.sk-toggleable__label {\n",
       "  /* unfitted */\n",
       "  background-color: var(--sklearn-color-unfitted-level-2);\n",
       "}\n",
       "\n",
       "#sk-container-id-5 div.sk-estimator.fitted input.sk-toggleable__control:checked~label.sk-toggleable__label {\n",
       "  /* fitted */\n",
       "  background-color: var(--sklearn-color-fitted-level-2);\n",
       "}\n",
       "\n",
       "#sk-container-id-5 div.sk-label label.sk-toggleable__label,\n",
       "#sk-container-id-5 div.sk-label label {\n",
       "  /* The background is the default theme color */\n",
       "  color: var(--sklearn-color-text-on-default-background);\n",
       "}\n",
       "\n",
       "/* On hover, darken the color of the background */\n",
       "#sk-container-id-5 div.sk-label:hover label.sk-toggleable__label {\n",
       "  color: var(--sklearn-color-text);\n",
       "  background-color: var(--sklearn-color-unfitted-level-2);\n",
       "}\n",
       "\n",
       "/* Label box, darken color on hover, fitted */\n",
       "#sk-container-id-5 div.sk-label.fitted:hover label.sk-toggleable__label.fitted {\n",
       "  color: var(--sklearn-color-text);\n",
       "  background-color: var(--sklearn-color-fitted-level-2);\n",
       "}\n",
       "\n",
       "/* Estimator label */\n",
       "\n",
       "#sk-container-id-5 div.sk-label label {\n",
       "  font-family: monospace;\n",
       "  font-weight: bold;\n",
       "  display: inline-block;\n",
       "  line-height: 1.2em;\n",
       "}\n",
       "\n",
       "#sk-container-id-5 div.sk-label-container {\n",
       "  text-align: center;\n",
       "}\n",
       "\n",
       "/* Estimator-specific */\n",
       "#sk-container-id-5 div.sk-estimator {\n",
       "  font-family: monospace;\n",
       "  border: 1px dotted var(--sklearn-color-border-box);\n",
       "  border-radius: 0.25em;\n",
       "  box-sizing: border-box;\n",
       "  margin-bottom: 0.5em;\n",
       "  /* unfitted */\n",
       "  background-color: var(--sklearn-color-unfitted-level-0);\n",
       "}\n",
       "\n",
       "#sk-container-id-5 div.sk-estimator.fitted {\n",
       "  /* fitted */\n",
       "  background-color: var(--sklearn-color-fitted-level-0);\n",
       "}\n",
       "\n",
       "/* on hover */\n",
       "#sk-container-id-5 div.sk-estimator:hover {\n",
       "  /* unfitted */\n",
       "  background-color: var(--sklearn-color-unfitted-level-2);\n",
       "}\n",
       "\n",
       "#sk-container-id-5 div.sk-estimator.fitted:hover {\n",
       "  /* fitted */\n",
       "  background-color: var(--sklearn-color-fitted-level-2);\n",
       "}\n",
       "\n",
       "/* Specification for estimator info (e.g. \"i\" and \"?\") */\n",
       "\n",
       "/* Common style for \"i\" and \"?\" */\n",
       "\n",
       ".sk-estimator-doc-link,\n",
       "a:link.sk-estimator-doc-link,\n",
       "a:visited.sk-estimator-doc-link {\n",
       "  float: right;\n",
       "  font-size: smaller;\n",
       "  line-height: 1em;\n",
       "  font-family: monospace;\n",
       "  background-color: var(--sklearn-color-background);\n",
       "  border-radius: 1em;\n",
       "  height: 1em;\n",
       "  width: 1em;\n",
       "  text-decoration: none !important;\n",
       "  margin-left: 0.5em;\n",
       "  text-align: center;\n",
       "  /* unfitted */\n",
       "  border: var(--sklearn-color-unfitted-level-1) 1pt solid;\n",
       "  color: var(--sklearn-color-unfitted-level-1);\n",
       "}\n",
       "\n",
       ".sk-estimator-doc-link.fitted,\n",
       "a:link.sk-estimator-doc-link.fitted,\n",
       "a:visited.sk-estimator-doc-link.fitted {\n",
       "  /* fitted */\n",
       "  border: var(--sklearn-color-fitted-level-1) 1pt solid;\n",
       "  color: var(--sklearn-color-fitted-level-1);\n",
       "}\n",
       "\n",
       "/* On hover */\n",
       "div.sk-estimator:hover .sk-estimator-doc-link:hover,\n",
       ".sk-estimator-doc-link:hover,\n",
       "div.sk-label-container:hover .sk-estimator-doc-link:hover,\n",
       ".sk-estimator-doc-link:hover {\n",
       "  /* unfitted */\n",
       "  background-color: var(--sklearn-color-unfitted-level-3);\n",
       "  color: var(--sklearn-color-background);\n",
       "  text-decoration: none;\n",
       "}\n",
       "\n",
       "div.sk-estimator.fitted:hover .sk-estimator-doc-link.fitted:hover,\n",
       ".sk-estimator-doc-link.fitted:hover,\n",
       "div.sk-label-container:hover .sk-estimator-doc-link.fitted:hover,\n",
       ".sk-estimator-doc-link.fitted:hover {\n",
       "  /* fitted */\n",
       "  background-color: var(--sklearn-color-fitted-level-3);\n",
       "  color: var(--sklearn-color-background);\n",
       "  text-decoration: none;\n",
       "}\n",
       "\n",
       "/* Span, style for the box shown on hovering the info icon */\n",
       ".sk-estimator-doc-link span {\n",
       "  display: none;\n",
       "  z-index: 9999;\n",
       "  position: relative;\n",
       "  font-weight: normal;\n",
       "  right: .2ex;\n",
       "  padding: .5ex;\n",
       "  margin: .5ex;\n",
       "  width: min-content;\n",
       "  min-width: 20ex;\n",
       "  max-width: 50ex;\n",
       "  color: var(--sklearn-color-text);\n",
       "  box-shadow: 2pt 2pt 4pt #999;\n",
       "  /* unfitted */\n",
       "  background: var(--sklearn-color-unfitted-level-0);\n",
       "  border: .5pt solid var(--sklearn-color-unfitted-level-3);\n",
       "}\n",
       "\n",
       ".sk-estimator-doc-link.fitted span {\n",
       "  /* fitted */\n",
       "  background: var(--sklearn-color-fitted-level-0);\n",
       "  border: var(--sklearn-color-fitted-level-3);\n",
       "}\n",
       "\n",
       ".sk-estimator-doc-link:hover span {\n",
       "  display: block;\n",
       "}\n",
       "\n",
       "/* \"?\"-specific style due to the `<a>` HTML tag */\n",
       "\n",
       "#sk-container-id-5 a.estimator_doc_link {\n",
       "  float: right;\n",
       "  font-size: 1rem;\n",
       "  line-height: 1em;\n",
       "  font-family: monospace;\n",
       "  background-color: var(--sklearn-color-background);\n",
       "  border-radius: 1rem;\n",
       "  height: 1rem;\n",
       "  width: 1rem;\n",
       "  text-decoration: none;\n",
       "  /* unfitted */\n",
       "  color: var(--sklearn-color-unfitted-level-1);\n",
       "  border: var(--sklearn-color-unfitted-level-1) 1pt solid;\n",
       "}\n",
       "\n",
       "#sk-container-id-5 a.estimator_doc_link.fitted {\n",
       "  /* fitted */\n",
       "  border: var(--sklearn-color-fitted-level-1) 1pt solid;\n",
       "  color: var(--sklearn-color-fitted-level-1);\n",
       "}\n",
       "\n",
       "/* On hover */\n",
       "#sk-container-id-5 a.estimator_doc_link:hover {\n",
       "  /* unfitted */\n",
       "  background-color: var(--sklearn-color-unfitted-level-3);\n",
       "  color: var(--sklearn-color-background);\n",
       "  text-decoration: none;\n",
       "}\n",
       "\n",
       "#sk-container-id-5 a.estimator_doc_link.fitted:hover {\n",
       "  /* fitted */\n",
       "  background-color: var(--sklearn-color-fitted-level-3);\n",
       "}\n",
       "</style><div id=\"sk-container-id-5\" class=\"sk-top-container\"><div class=\"sk-text-repr-fallback\"><pre>KNeighborsClassifier(n_neighbors=7)</pre><b>In a Jupyter environment, please rerun this cell to show the HTML representation or trust the notebook. <br />On GitHub, the HTML representation is unable to render, please try loading this page with nbviewer.org.</b></div><div class=\"sk-container\" hidden><div class=\"sk-item\"><div class=\"sk-estimator fitted sk-toggleable\"><input class=\"sk-toggleable__control sk-hidden--visually\" id=\"sk-estimator-id-5\" type=\"checkbox\" checked><label for=\"sk-estimator-id-5\" class=\"sk-toggleable__label fitted sk-toggleable__label-arrow\"><div><div>KNeighborsClassifier</div></div><div><a class=\"sk-estimator-doc-link fitted\" rel=\"noreferrer\" target=\"_blank\" href=\"https://scikit-learn.org/1.6/modules/generated/sklearn.neighbors.KNeighborsClassifier.html\">?<span>Documentation for KNeighborsClassifier</span></a><span class=\"sk-estimator-doc-link fitted\">i<span>Fitted</span></span></div></label><div class=\"sk-toggleable__content fitted\"><pre>KNeighborsClassifier(n_neighbors=7)</pre></div> </div></div></div></div>"
      ],
      "text/plain": [
       "KNeighborsClassifier(n_neighbors=7)"
      ]
     },
     "execution_count": 148,
     "metadata": {},
     "output_type": "execute_result"
    }
   ],
   "source": [
    "kn = KNeighborsClassifier(n_neighbors=7)\n",
    "kn.fit(train_scaled, train_label)"
   ]
  },
  {
   "cell_type": "code",
   "execution_count": 149,
   "metadata": {},
   "outputs": [
    {
     "data": {
      "text/plain": [
       "array([[ 1.97883576,  1.28077618,  1.17218278,  0.93942578,  1.43711616],\n",
       "       [ 0.45350113,  0.58491523,  0.47631458,  0.33276473,  1.15733506],\n",
       "       [-0.68489199, -0.48207156, -0.55460127, -0.86877569, -0.44926819],\n",
       "       [-0.71293123, -0.69546891, -0.66628382, -0.07718521, -0.64218857],\n",
       "       [-1.07744135, -1.5212239 , -1.53397133, -1.58535932, -1.81192838],\n",
       "       [ 0.60491302,  0.49213377,  0.65672486,  1.61503589,  0.4279494 ],\n",
       "       [ 0.29648139,  0.30657085,  0.46772362,  1.16814299, -0.01758265],\n",
       "       [ 0.29648139,  0.23234568,  0.45054169,  1.27961579,  0.32648585],\n",
       "       [ 1.57226679,  0.95604107,  1.12063699,  2.1995884 ,  1.10177445],\n",
       "       [-0.79704895, -0.66763447, -0.72642058, -0.75572881, -0.49057502],\n",
       "       [-0.29234264, -0.20372718, -0.15082589,  0.00371247,  0.05735144],\n",
       "       [ 1.55824717,  2.18075633,  2.07423415,  0.01549415,  1.03149465],\n",
       "       [ 1.69844337,  1.41994837,  1.2924563 ,  0.89263296,  2.17807936],\n",
       "       [-1.08585312, -1.63256165, -1.66283581, -1.70114889, -1.89070226],\n",
       "       [-1.08445116, -1.6418398 , -1.66283581, -1.64305139, -1.88395354],\n",
       "       [-0.90920591, -1.00164773, -1.07005919, -1.01914711, -0.847501  ],\n",
       "       [ 0.48434429,  1.65190201,  1.52441237, -0.25500747,  0.27447414],\n",
       "       [-0.34842112, -0.15733645, -0.14223493, -0.17072315, -0.08710613],\n",
       "       [ 1.69844337,  1.4663391 ,  1.34400209,  0.86515828,  1.86030761],\n",
       "       [-0.74097047, -0.63980004, -0.70064768, -0.59080916, -0.50279254],\n",
       "       [-1.06790801, -1.46555503, -1.49960747, -1.53382044, -1.82053882],\n",
       "       [-0.68489199, -0.57485301, -0.53741934, -0.72901731, -0.37456681],\n",
       "       [-0.69891161, -0.62124374, -0.58896513,  0.20872322, -0.72206785],\n",
       "       [ 1.19373706,  1.0024318 ,  0.88868092,  0.85144479,  1.71811901],\n",
       "       [ 0.91334466,  0.63130596,  0.82854417,  1.78885142,  0.98425359],\n",
       "       [ 0.29648139,  1.55912056,  1.46427561, -0.45343574,  0.28960059],\n",
       "       [-0.88116667, -0.85319739, -0.92401278, -0.76925151, -0.78426082],\n",
       "       [-1.08108645, -1.56761463, -1.57692615, -1.64157271, -1.81111388],\n",
       "       [-0.91200983, -0.92742256, -0.91542182, -0.84974374, -0.91719902],\n",
       "       [-0.82508819, -0.94597885, -1.00992244, -0.86784555, -0.62636398],\n",
       "       [ 0.63295226,  0.58491523,  0.75122548,  1.58872983,  0.51306476],\n",
       "       [ 0.17310874,  1.32716691,  1.24950147, -0.37711718, -0.04405393],\n",
       "       [ 3.38079774,  2.95084245,  2.83883008,  0.17619243,  1.01567006],\n",
       "       [ 0.29648139,  0.26018012,  0.45054169,  1.31414994,  0.24224317],\n",
       "       [-0.86714705, -0.79752852, -0.87246699, -0.88806997, -0.79205676],\n",
       "       [-0.5446958 , -0.48207156, -0.44291872,  0.35406238, -0.42739302],\n",
       "       [ 1.69844337,  1.37355764,  1.22372858,  0.73255477,  1.67495045],\n",
       "       [ 0.89652112,  0.72408742,  0.90586285,  1.82586593,  0.84549753],\n",
       "       [-0.76900971, -0.57485301, -0.64051092, -0.76824983, -0.50802862],\n",
       "       [-0.5446958 ,  0.38079602,  0.33026817, -0.7854215 , -0.59494751],\n",
       "       [-0.76900971, -0.66763447, -0.62332899, -0.65505985, -0.64224675],\n",
       "       [ 0.10020671,  0.0746172 ,  0.26154045,  0.85447368,  0.42806576],\n",
       "       [ 1.48814907,  1.04882253,  1.23231954,  2.3594281 ,  1.36805811],\n",
       "       [-0.95126477, -1.25215767, -1.2418785 , -0.48026649, -1.20529966],\n",
       "       [-1.07772174, -1.5212239 , -1.53397133, -1.58535932, -1.880521  ],\n",
       "       [-0.62881351, -0.69546891, -0.66628382,  0.12753934, -0.57470134],\n",
       "       [ 0.85726618,  0.44574304,  0.63095196,  1.43077425,  0.51614823],\n",
       "       [ 1.97883576,  1.37355764,  1.24950147,  0.87081062,  1.7559933 ],\n",
       "       [ 0.22638329,  0.26018012,  0.45054169,  1.28824933,  0.41072852],\n",
       "       [ 0.33573633,  0.42718675,  0.26154045,  0.2787455 ,  0.94236497],\n",
       "       [-0.4044996 , -0.06455499, -0.17659879, -0.37644939,  0.09772742],\n",
       "       [-0.42693099, -0.25939605, -0.08209817,  0.63410382, -0.22004433],\n",
       "       [ 0.82922694,  0.81686888,  0.71686162,  0.40793852,  1.14517572],\n",
       "       [-0.68489199, -0.76041593, -0.73501154,  0.0075284 , -0.64311943],\n",
       "       [-0.65685275, -0.52846229, -0.48587354, -0.43593017, -0.33622708],\n",
       "       [-0.78302933, -0.66763447, -0.72642058, -0.70206732, -0.63456717],\n",
       "       [ 1.27785477,  0.72408742,  0.91445382,  1.91472936,  1.04731924],\n",
       "       [-0.79704895, -0.68619077, -0.67487478, -0.64239574, -0.5832536 ],\n",
       "       [-1.0866943 , -1.70678682, -1.73156353, -1.69866854, -1.94934634],\n",
       "       [ 0.92736428,  0.63130596,  0.85431706,  1.78842213,  0.96284385],\n",
       "       [ 0.8011877 ,  0.63130596,  0.82854417,  1.57582723,  1.00787412],\n",
       "       [ 0.81520732,  0.77047815,  0.69108872,  0.48170519,  1.4345563 ],\n",
       "       [-0.76900971, -0.76041593, -0.75219347, -0.63087641, -0.47940473],\n",
       "       [-0.76900971, -0.57485301, -0.64051092, -0.65615693, -0.57638852],\n",
       "       [-0.2643034 , -0.08311128, -0.19378072, -0.12836635,  0.42998565],\n",
       "       [-1.07127271, -1.48411132, -1.50819843, -1.61481352, -1.74804823],\n",
       "       [-0.13812682,  0.95604107,  0.86290803, -0.58794721, -0.24506115],\n",
       "       [-0.63161744, -0.3892901 , -0.3226452 , -0.31644392, -0.32755847],\n",
       "       [ 1.41805097,  1.0024318 ,  0.89727189,  0.54266464,  1.80073268],\n",
       "       [-0.93724515, -1.1779325 , -1.16455981, -0.54473183, -1.21245564],\n",
       "       [-0.99332363, -1.22432323, -1.28483333, -1.20135769, -1.14392119],\n",
       "       [ 1.62834527,  1.18799472,  1.28386533,  2.33109483,  1.36666182],\n",
       "       [-0.4044996 , -0.01816426, -0.13364396, -0.2482342 , -0.11287927],\n",
       "       [ 0.85726618,  0.72408742,  0.63095196,  0.41685825,  1.36288021],\n",
       "       [ 1.41805097,  1.09521326,  0.99177251,  0.68418788,  1.6445812 ],\n",
       "       [-0.85312743, -0.97381329, -0.95837664, -0.34725754, -1.00371066],\n",
       "       [-0.62881351, -0.43568083, -0.51164644, -0.61680517, -0.39167133],\n",
       "       [-0.57834288, -0.33362122, -0.40855486, -0.50747883, -0.13521987],\n",
       "       [-0.01195024,  0.32512714,  0.3474501 ,  0.14876544,  0.55664056],\n",
       "       [ 0.15628519,  0.13956422,  0.32167721,  1.13074689,  0.30786868],\n",
       "       [ 1.24981553,  0.63130596,  0.54504231,  0.62656736,  1.97660672],\n",
       "       [ 1.27785477,  1.09521326,  0.97459058,  0.73155309,  1.57558133],\n",
       "       [-0.5446958 , -0.43568083, -0.35700906, -0.3492609 , -0.15767683],\n",
       "       [-0.99332363, -1.30782655, -1.2676514 , -1.12427594, -1.23933417],\n",
       "       [-0.86714705, -0.76041593, -0.85528506, -0.90133032, -0.94611381],\n",
       "       [-0.88677452, -0.88103183, -0.99274051, -0.87337865, -0.74167405],\n",
       "       [ 1.55824717,  1.18799472,  1.33541113,  2.08976122,  1.14744469],\n",
       "       [-0.65685275, -0.52846229, -0.51164644, -0.58699323, -0.34803735],\n",
       "       [-0.01195024,  0.16739866,  0.3474501 ,  0.90837367,  0.16975258],\n",
       "       [-0.69891161, -0.57485301, -0.5717832 , -0.53120913, -0.49476389],\n",
       "       [-0.2643034 , -0.20372718, -0.16800782,  0.5978525 , -0.09554203],\n",
       "       [-1.07828252, -1.59544907, -1.62847195, -1.58962839, -1.75596053],\n",
       "       [-0.68489199, -0.52846229, -0.5975561 , -0.49350299, -0.45043176],\n",
       "       [-0.75499009, -0.66763447, -0.72642058, -0.75572881, -0.42512405],\n",
       "       [ 3.24060154,  2.95084245,  2.83883008,  0.17619243,  1.01567006],\n",
       "       [ 3.52099394,  3.26629941,  3.18246869,  0.465249  ,  1.79293674],\n",
       "       [-0.79704895, -0.57485301, -0.64051092, -0.79627305, -0.23458899],\n",
       "       [ 0.15628519,  0.16739866,  0.35604107,  1.22674134,  0.25923134],\n",
       "       [ 0.85726618,  0.81686888,  0.72545258,  0.47073439,  1.08583351],\n",
       "       [-0.15214644,  0.35296158,  0.54504231,  1.20479975,  0.39246043],\n",
       "       [ 1.69844337,  1.09521326,  1.07768216,  0.83300908,  1.23733069],\n",
       "       [ 0.40863835,  1.37355764,  1.27527437, -0.25643844,  0.4255059 ],\n",
       "       [-0.08765619,  0.0746172 ,  0.21858562,  0.9226834 ,  0.03332366],\n",
       "       [ 0.85726618,  0.44574304,  0.64813389,  1.4492815 ,  0.4650092 ],\n",
       "       [-0.8615392 , -0.77897223, -0.75219347, -0.77383062, -0.71188659],\n",
       "       [-1.01575502, -1.34493913, -1.39651588, -1.27195236, -1.39571836],\n",
       "       [ 1.05354086,  1.83746493,  1.7391865 , -0.28171897,  0.56885808],\n",
       "       [ 0.29648139,  0.13956422,  0.30449527,  1.26838265,  0.5121339 ],\n",
       "       [ 0.10020671,  0.90965034,  0.8199532 , -0.37473222,  0.10371982],\n",
       "       [-0.49422516, -0.15733645, -0.25391748, -0.40382867, -0.14790281],\n",
       "       [-0.15214644, -0.15733645,  0.01240245,  0.83868528,  0.17330148],\n",
       "       [ 1.74050223,  1.09521326,  0.98318154,  0.83940076,  1.7826973 ],\n",
       "       [-0.76900971, -0.85319739, -0.82951216, -0.11186246, -0.86111481],\n",
       "       [-0.34842112, -0.20372718, -0.19378072, -0.11467671, -0.08762974],\n",
       "       [-0.20822492,  0.16739866,  0.05535728, -0.29707808,  0.21722635],\n",
       "       [-0.60077428, -0.27795234, -0.26250844, -0.42324221, -0.28636799],\n",
       "       [-1.07127271, -1.40988615, -1.47383457, -1.57031025, -1.8282184 ],\n",
       "       [ 1.13765858,  0.7612    ,  0.74263451,  0.69162894,  1.26560551],\n",
       "       [-0.65404883, -0.44495897, -0.36560003, -0.46409649, -0.4462429 ],\n",
       "       [-0.72695085, -0.57485301, -0.64051092, -0.71220338, -0.50802862],\n",
       "       [ 0.81520732,  0.5385245 ,  0.70827065,  1.70103737,  0.56560007],\n",
       "       [ 0.40863835,  0.26018012,  0.26154045,  0.4490313 ,  1.25885679],\n",
       "       [-1.07800213, -1.50266761, -1.52538036, -1.58762503, -1.89070226],\n",
       "       [-0.2643034 ,  0.63130596,  0.67390679, -0.69755975, -0.00804135],\n",
       "       [-0.88677452, -0.87175369, -0.83810313, -0.78360894, -0.86908528],\n",
       "       [-1.07800213, -1.57689278, -1.59410809, -1.61653068, -1.81576817],\n",
       "       [-0.29234264, -0.17589274,  0.02099342,  0.86305952, -0.05388613],\n",
       "       [-0.34281327, -0.11094572, -0.03055238, -0.06993495,  0.21838993],\n",
       "       [-0.2643034 ,  0.84470332,  0.75981644, -0.61360933, -0.22016069],\n",
       "       [-0.36244074, -0.06455499, -0.17659879, -0.43158955, -0.0367816 ],\n",
       "       [-0.55310757, -0.24083976, -0.33982713, -0.54859545, -0.0926331 ],\n",
       "       [ 0.71706998,  1.0024318 ,  0.89727189,  0.54266464,  0.93363817],\n",
       "       [-0.74097047, -0.57485301, -0.64051092, -0.65615693, -0.50802862],\n",
       "       [-0.9610785 , -1.11298548, -1.18174174, -1.01809773, -1.02779662],\n",
       "       [ 1.19373706,  1.09521326,  0.99177251,  0.54228305,  1.29841827],\n",
       "       [-1.0496825 , -1.22432323, -1.2676514 , -1.41404799, -1.46553274],\n",
       "       [ 0.50677569,  0.5385245 ,  0.73404355,  1.4947149 ,  0.68143375],\n",
       "       [-1.08893744, -1.83668087, -1.90338284, -1.60966201, -1.73967051],\n",
       "       [-0.2643034 ,  0.04678276, -0.0735072 , -0.30432834,  0.13798704],\n",
       "       [ 0.57687379,  0.35296158,  0.53645134,  1.45319283,  0.4494755 ],\n",
       "       [-0.69891161, -0.50990599, -0.58037416, -0.69355303, -0.44694104],\n",
       "       [-0.37646036, -0.06455499, -0.17659879, -0.40401947, -0.0367816 ]])"
      ]
     },
     "execution_count": 149,
     "metadata": {},
     "output_type": "execute_result"
    }
   ],
   "source": [
    "kn._fit_X"
   ]
  },
  {
   "cell_type": "code",
   "execution_count": 150,
   "metadata": {},
   "outputs": [
    {
     "data": {
      "text/plain": [
       "array(['Bream', 'Parkki', 'Perch', 'Pike', 'Roach', 'Smelt', 'Whitefish'],\n",
       "      dtype=object)"
      ]
     },
     "execution_count": 150,
     "metadata": {},
     "output_type": "execute_result"
    }
   ],
   "source": [
    "kn.classes_"
   ]
  },
  {
   "cell_type": "markdown",
   "metadata": {},
   "source": [
    "##### 평가"
   ]
  },
  {
   "cell_type": "code",
   "execution_count": 151,
   "metadata": {},
   "outputs": [
    {
     "data": {
      "text/plain": [
       "0.625"
      ]
     },
     "execution_count": 151,
     "metadata": {},
     "output_type": "execute_result"
    }
   ],
   "source": [
    "kn.score(test_scaled, test_label)"
   ]
  },
  {
   "cell_type": "markdown",
   "metadata": {},
   "source": [
    "##### 다중분류 작동 방식\n",
    "- 다중분류 클래스 값의 크기와 같은 배열 형태로 결과를 도출"
   ]
  },
  {
   "cell_type": "code",
   "execution_count": 154,
   "metadata": {},
   "outputs": [
    {
     "data": {
      "text/plain": [
       "array(['Bream', 'Roach', 'Roach', 'Roach', 'Pike'], dtype=object)"
      ]
     },
     "execution_count": 154,
     "metadata": {},
     "output_type": "execute_result"
    }
   ],
   "source": [
    "# 예측 Prediction\n",
    "kn.predict(test_scaled[5:10])"
   ]
  },
  {
   "cell_type": "code",
   "execution_count": 155,
   "metadata": {},
   "outputs": [
    {
     "data": {
      "text/plain": [
       "array(['Bream', 'Perch', 'Perch', 'Perch', 'Pike'], dtype=object)"
      ]
     },
     "execution_count": 155,
     "metadata": {},
     "output_type": "execute_result"
    }
   ],
   "source": [
    "# 정답 True Label\n",
    "test_label[5:10]"
   ]
  },
  {
   "cell_type": "code",
   "execution_count": 156,
   "metadata": {},
   "outputs": [
    {
     "data": {
      "text/plain": [
       "array([[1.        , 0.        , 0.        , 0.        , 0.        ,\n",
       "        0.        , 0.        ],\n",
       "       [0.        , 0.        , 0.42857143, 0.        , 0.57142857,\n",
       "        0.        , 0.        ],\n",
       "       [0.        , 0.        , 0.28571429, 0.        , 0.71428571,\n",
       "        0.        , 0.        ],\n",
       "       [0.        , 0.        , 0.28571429, 0.        , 0.71428571,\n",
       "        0.        , 0.        ],\n",
       "       [0.        , 0.        , 0.42857143, 0.57142857, 0.        ,\n",
       "        0.        , 0.        ]])"
      ]
     },
     "execution_count": 156,
     "metadata": {},
     "output_type": "execute_result"
    }
   ],
   "source": [
    "# predict_proba 예측 확률 (리스트에서 확률값이 높은 값을 도출) => 결국에는 해당 과정을 보여줌줌\n",
    "kn.predict_proba(test_scaled[5:10])"
   ]
  },
  {
   "cell_type": "code",
   "execution_count": 157,
   "metadata": {},
   "outputs": [
    {
     "data": {
      "text/plain": [
       "(array([[0.19718844, 0.19741724, 0.23533931, 0.27970693, 0.29358438,\n",
       "         0.29858608, 0.30654864]]),\n",
       " array([[ 76, 118, 115,  87,  77,  67,  54]]))"
      ]
     },
     "execution_count": 157,
     "metadata": {},
     "output_type": "execute_result"
    }
   ],
   "source": [
    "# n_neighbors 7로 설정하여 7개 반환\n",
    "distance, index = kn.kneighbors(test_scaled[7:8])\n",
    "distance, index"
   ]
  },
  {
   "cell_type": "code",
   "execution_count": 158,
   "metadata": {},
   "outputs": [
    {
     "data": {
      "text/plain": [
       "array([['Perch', 'Roach', 'Roach', 'Roach', 'Perch', 'Roach', 'Roach']],\n",
       "      dtype=object)"
      ]
     },
     "execution_count": 158,
     "metadata": {},
     "output_type": "execute_result"
    }
   ],
   "source": [
    "train_label[index]"
   ]
  },
  {
   "cell_type": "code",
   "execution_count": null,
   "metadata": {},
   "outputs": [],
   "source": []
  }
 ],
 "metadata": {
  "kernelspec": {
   "display_name": "Python 3",
   "language": "python",
   "name": "python3"
  },
  "language_info": {
   "codemirror_mode": {
    "name": "ipython",
    "version": 3
   },
   "file_extension": ".py",
   "mimetype": "text/x-python",
   "name": "python",
   "nbconvert_exporter": "python",
   "pygments_lexer": "ipython3",
   "version": "3.12.8"
  }
 },
 "nbformat": 4,
 "nbformat_minor": 2
}
