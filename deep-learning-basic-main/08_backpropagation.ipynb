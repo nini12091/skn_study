{
 "cells": [
  {
   "cell_type": "markdown",
   "metadata": {},
   "source": [
    "# 역전파 (Backpropagation)"
   ]
  },
  {
   "cell_type": "markdown",
   "metadata": {},
   "source": [
    "### 연쇄법칙"
   ]
  },
  {
   "cell_type": "code",
   "execution_count": 2,
   "metadata": {},
   "outputs": [
    {
     "name": "stdout",
     "output_type": "stream",
     "text": [
      "9.0\n",
      "6.0\n"
     ]
    }
   ],
   "source": [
    "import numpy as np\n",
    "\n",
    "def forward(x):\n",
    "    y = x**2\n",
    "    return y\n",
    "\n",
    "def backward(x):\n",
    "    dy_dx = 2 * x\n",
    "    dz_dy = 2\n",
    "    dz_dx = dz_dy * dy_dx\n",
    "    return dz_dx\n",
    "\n",
    "x = 3.0\n",
    "print(forward(x))\n",
    "print(backward(x))"
   ]
  },
  {
   "cell_type": "code",
   "execution_count": 6,
   "metadata": {},
   "outputs": [
    {
     "name": "stdout",
     "output_type": "stream",
     "text": [
      "[0.20474415 0.40759064]\n"
     ]
    }
   ],
   "source": [
    "def sigmoid(x):\n",
    "    return 1 / (1 + np.exp(-x))\n",
    "\n",
    "def sigmoid_d(x):\n",
    "    return sigmoid(x) * (1 - sigmoid(x))\n",
    "\n",
    "x = np.array([0.5, 0.8])\n",
    "y = np.array([1])\n",
    "\n",
    "w = np.array([0.2, 0.4])\n",
    "\n",
    "# 순전파\n",
    "z = np.dot(x, w)\n",
    "r = sigmoid(z)\n",
    "\n",
    "# 오차 계산\n",
    "loss = 0.5 * (y - r) ** 2\n",
    "\n",
    "# 역전파 (기울기 계산)\n",
    "delta = (r - y) * sigmoid_d(z)\n",
    "grad_w = delta * x\n",
    "\n",
    "# 가중치 계산\n",
    "w -= 0.1 * grad_w       # 0.1 == leraning_rate\n",
    "\n",
    "print(w)"
   ]
  },
  {
   "cell_type": "markdown",
   "metadata": {},
   "source": [
    "- 은닉층 추가"
   ]
  },
  {
   "cell_type": "code",
   "execution_count": 10,
   "metadata": {},
   "outputs": [
    {
     "name": "stdout",
     "output_type": "stream",
     "text": [
      "[[-0.0004928]\n",
      " [-0.0011264]]\n",
      "[[-0.00044   -0.000528 ]\n",
      " [-0.000704  -0.0008448]]\n"
     ]
    }
   ],
   "source": [
    "def relu(x):\n",
    "    return np.maximum(0, x)\n",
    "\n",
    "def relu_d(x):\n",
    "    return np.where(x > 0, 1, 0)\n",
    "\n",
    "X = np.array([0.5, 0.8])                    # (2, )\n",
    "y = np.array([1])\n",
    "\n",
    "# W1 = np.array([0.2, 0.4])                 # (1, 2)이여서\n",
    "W1 = np.array([[0.2, 0.4], [0.1, 0.3]])     # (2, 2)늘림\n",
    "b1 = np.array([0.1, 0.2])       # (2, )\n",
    "# W2 = np.array([0.5, 0.6])     # (2, )이여서\n",
    "W2 = np.array([[0.5], [0.6]])   # (2, 1)로 수정\n",
    "b2 = np.array([0.3])\n",
    "\n",
    "# 순전파\n",
    "z1 = np.dot(X, W1) + b1\n",
    "r1 = relu(z1)\n",
    "\n",
    "z2 = np.dot(r1, W2) + b2\n",
    "r2 = relu(z2)\n",
    "\n",
    "\n",
    "# 역전파 (기울기 계산)\n",
    "delta2 = (r2 - 1) * relu_d(z2)\n",
    "grad_W2 = np.outer(r1, delta2)\n",
    "\n",
    "delta1 = np.dot(W2, delta2) * relu_d(z1)\n",
    "grad_W1 = np.outer(X, delta1)\n",
    "\n",
    "# 가중치 갱신\n",
    "learning_rate = 0.01\n",
    "W2 = learning_rate * grad_W2\n",
    "W1 = learning_rate * grad_W1\n",
    "\n",
    "print(W2)\n",
    "print(W1)"
   ]
  },
  {
   "cell_type": "code",
   "execution_count": 11,
   "metadata": {},
   "outputs": [
    {
     "name": "stdout",
     "output_type": "stream",
     "text": [
      "6.000000000039306\n",
      "[1.41421356 1.74110113]\n"
     ]
    }
   ],
   "source": [
    "def f(x):\n",
    "    return x**2\n",
    "\n",
    "def num_d_gradient(f, x):\n",
    "    h = 1e-5\n",
    "    return (f(x + h) - f(x - h)) / (2 * h)\n",
    "\n",
    "def backward_gradient(x):\n",
    "    return 2 ** x\n",
    "\n",
    "print(num_d_gradient(f, 3.0))\n",
    "print(backward_gradient(3.0))"
   ]
  },
  {
   "cell_type": "markdown",
   "metadata": {},
   "source": [
    "숫자 맞추기 AI"
   ]
  },
  {
   "cell_type": "code",
   "execution_count": 12,
   "metadata": {},
   "outputs": [
    {
     "name": "stdout",
     "output_type": "stream",
     "text": [
      "epoch 0 | 예측값: 9.224566428611706, 손실 : 839.2414420253804\n",
      "epoch 5 | 예측값: 31.260145927327482, 손실 : 90.11286367367224\n",
      "epoch 10 | 예측값: 38.480764617466676, 손실 : 9.675795060683198\n",
      "epoch 15 | 예측값: 40.84681694985149, 손실 : 1.0389305837108085\n",
      "epoch 20 | 예측값: 41.62212497812733, 손실 : 0.11155432199630279\n",
      "epoch 25 | 예측값: 41.876177912832766, 손실 : 0.011978054117539407\n",
      "epoch 30 | 예측값: 41.959425978477036, 손실 : 0.001286133767613942\n",
      "epoch 35 | 예측값: 41.98670470462736, 손실 : 0.00013809756175455013\n",
      "epoch 40 | 예측값: 41.99564339761229, 손실 : 1.4828112784828144e-05\n",
      "epoch 45 | 예측값: 41.9985724285296, 손실 : 1.5921564867997663e-06\n",
      "최종 예측값: 41.99941526672573\n"
     ]
    }
   ],
   "source": [
    "target_number = 42\n",
    "guess = np.random.randn()\n",
    "learning_rate = 0.1\n",
    "\n",
    "for i in range(50):\n",
    "    # 오차 계산\n",
    "    loss = 0.5 * (guess- target_number) ** 2\n",
    "\n",
    "    # 역전파 (기울기 계산)\n",
    "    grad = 2 * (guess - target_number)\n",
    "\n",
    "    # 업데이트 (guess 업데이트)\n",
    "    guess -= learning_rate * grad\n",
    "\n",
    "    # epoch 5마다 예측값 손실 출력\n",
    "    if i % 5 == 0:\n",
    "        print(f'epoch {i} | 예측값: {guess}, 손실 : {loss}')\n",
    "\n",
    "# 최종 예측 값 guess 출력 \n",
    "print(f'최종 예측값: {guess}')"
   ]
  },
  {
   "cell_type": "code",
   "execution_count": null,
   "metadata": {},
   "outputs": [],
   "source": []
  }
 ],
 "metadata": {
  "kernelspec": {
   "display_name": "Python 3",
   "language": "python",
   "name": "python3"
  },
  "language_info": {
   "codemirror_mode": {
    "name": "ipython",
    "version": 3
   },
   "file_extension": ".py",
   "mimetype": "text/x-python",
   "name": "python",
   "nbconvert_exporter": "python",
   "pygments_lexer": "ipython3",
   "version": "3.12.8"
  }
 },
 "nbformat": 4,
 "nbformat_minor": 2
}
