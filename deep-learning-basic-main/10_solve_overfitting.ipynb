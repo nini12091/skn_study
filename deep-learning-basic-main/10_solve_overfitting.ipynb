{
 "cells": [
  {
   "cell_type": "markdown",
   "metadata": {},
   "source": [
    "# 과적합 해결"
   ]
  },
  {
   "cell_type": "code",
   "execution_count": 61,
   "metadata": {},
   "outputs": [],
   "source": [
    "import torch\n",
    "import torch.nn as nn\n",
    "import torch.optim as optim\n",
    "from torch.utils.data import DataLoader, random_split\n",
    "import torchvision.transforms as transforms\n",
    "import torchvision.datasets as datasets"
   ]
  },
  {
   "cell_type": "markdown",
   "metadata": {},
   "source": [
    "### 배치 정규화 적용"
   ]
  },
  {
   "cell_type": "code",
   "execution_count": 62,
   "metadata": {},
   "outputs": [],
   "source": [
    "# 데이터셋 로드\n",
    "transform = transforms.Compose([transforms.ToTensor(), transforms.Normalize((0.5), (0.5,))])\n",
    "dataset = datasets.MNIST(root='./data', train=True, transform=transform, download=True)"
   ]
  },
  {
   "cell_type": "code",
   "execution_count": 63,
   "metadata": {},
   "outputs": [],
   "source": [
    "# 데이터 분할\n",
    "train_size = int(0.8 * len(dataset))\n",
    "val_size = len(dataset) - train_size\n",
    "\n",
    "train_data, val_data = random_split(dataset, [train_size, val_size])\n",
    "train_loader = DataLoader(train_data, batch_size=64, shuffle=True)\n",
    "val_loader = DataLoader(val_data, batch_size=64, shuffle=False)"
   ]
  },
  {
   "cell_type": "code",
   "execution_count": 64,
   "metadata": {},
   "outputs": [],
   "source": [
    "class SimpleNN(nn.Module):\n",
    "    def __init__(self, use_bn=False):\n",
    "        super(SimpleNN, self).__init__()\n",
    "        self.fc1 = nn.Linear(28 * 28, 128)\n",
    "        self.bn1 = nn.BatchNorm1d(128) if use_bn else nn.Identity()\n",
    "        self.fc2 = nn.Linear(128, 64)\n",
    "        self.bn2 = nn.BatchNorm1d(64) if use_bn else nn.Identity()\n",
    "        self.fc3 = nn.Linear(64, 10)\n",
    "\n",
    "    def forward(self, x):\n",
    "        x = x.view(x.size(0), -1)    # (배치 크기, h, w) -> (배치 크기, 특성)\n",
    "        x = torch.relu(self.bn1(self.fc1(x)))\n",
    "        x = torch.relu(self.bn2(self.fc2(x)))\n",
    "        x = self.fc3(x)\n",
    "        return x"
   ]
  },
  {
   "cell_type": "code",
   "execution_count": 65,
   "metadata": {},
   "outputs": [],
   "source": [
    "def train(model, train_loader, val_loader, epochs=5):\n",
    "    criterion = nn.CrossEntropyLoss()\n",
    "    optimizer = optim.Adam(model.parameters(), lr=0.001)\n",
    "\n",
    "    for epoch in range(epochs):\n",
    "        model.train()\n",
    "        for images, labels in train_loader:\n",
    "            images = images.view(images.size(0), -1)\n",
    "            optimizer.zero_grad()\n",
    "            outputs = model(images)\n",
    "            loss = criterion(outputs, labels)\n",
    "            loss.backward()\n",
    "            optimizer.step()\n",
    "        \n",
    "        model.eval()\n",
    "        val_loss = 0\n",
    "        correct = 0\n",
    "        with torch.no_grad():\n",
    "            for images, labels in val_loader:\n",
    "                images = images.view(images.size(0), -1)\n",
    "                outputs = model(images)\n",
    "                val_loss += criterion(outputs, labels).item()\n",
    "                preds = outputs.argmax(dim=1)\n",
    "                correct += (preds == labels).sum().item()\n",
    "        print(f'Epoch {epoch + 1} | Val Loss: {val_loss/len(val_loader):.4f}, Accuracy: {correct/len(val_data):.4f}')"
   ]
  },
  {
   "cell_type": "code",
   "execution_count": 66,
   "metadata": {},
   "outputs": [
    {
     "name": "stdout",
     "output_type": "stream",
     "text": [
      "배치 정규화 적용 안함\n",
      "Epoch 1 | Val Loss: 0.2658, Accuracy: 0.9168\n",
      "Epoch 2 | Val Loss: 0.1959, Accuracy: 0.9392\n",
      "Epoch 3 | Val Loss: 0.1351, Accuracy: 0.9575\n",
      "Epoch 4 | Val Loss: 0.1338, Accuracy: 0.9564\n",
      "Epoch 5 | Val Loss: 0.1324, Accuracy: 0.9588\n",
      "\n",
      "배치 정규화 적용\n",
      "Epoch 1 | Val Loss: 0.1186, Accuracy: 0.9659\n",
      "Epoch 2 | Val Loss: 0.0892, Accuracy: 0.9727\n",
      "Epoch 3 | Val Loss: 0.0915, Accuracy: 0.9702\n",
      "Epoch 4 | Val Loss: 0.0806, Accuracy: 0.9756\n",
      "Epoch 5 | Val Loss: 0.0754, Accuracy: 0.9761\n"
     ]
    }
   ],
   "source": [
    "print('배치 정규화 적용 안함')\n",
    "model_without_bn = SimpleNN(use_bn=False)\n",
    "train(model_without_bn, train_loader, val_loader)\n",
    "\n",
    "print('\\n배치 정규화 적용')\n",
    "model_with_bn = SimpleNN(use_bn=True)\n",
    "train(model_with_bn, train_loader, val_loader)"
   ]
  },
  {
   "cell_type": "code",
   "execution_count": 67,
   "metadata": {},
   "outputs": [
    {
     "name": "stdout",
     "output_type": "stream",
     "text": [
      "batch size: 16\n",
      "Epoch 1 | Val Loss: 0.1191, Accuracy: 0.9644\n",
      "Epoch 2 | Val Loss: 0.0933, Accuracy: 0.9719\n",
      "Epoch 3 | Val Loss: 0.0788, Accuracy: 0.9768\n",
      "Epoch 4 | Val Loss: 0.0838, Accuracy: 0.9749\n",
      "Epoch 5 | Val Loss: 0.0719, Accuracy: 0.9791\n",
      "batch size: 32\n",
      "Epoch 1 | Val Loss: 0.1202, Accuracy: 0.9630\n",
      "Epoch 2 | Val Loss: 0.0875, Accuracy: 0.9728\n",
      "Epoch 3 | Val Loss: 0.0813, Accuracy: 0.9757\n",
      "Epoch 4 | Val Loss: 0.0710, Accuracy: 0.9770\n",
      "Epoch 5 | Val Loss: 0.0744, Accuracy: 0.9761\n",
      "batch size: 128\n",
      "Epoch 1 | Val Loss: 0.1448, Accuracy: 0.9593\n",
      "Epoch 2 | Val Loss: 0.1063, Accuracy: 0.9692\n",
      "Epoch 3 | Val Loss: 0.0960, Accuracy: 0.9698\n",
      "Epoch 4 | Val Loss: 0.0896, Accuracy: 0.9725\n",
      "Epoch 5 | Val Loss: 0.0870, Accuracy: 0.9746\n"
     ]
    }
   ],
   "source": [
    "for batch_size in [16, 32, 128]:\n",
    "    print(f\"batch size: {batch_size}\")\n",
    "    train_loader = DataLoader(train_data, batch_size=batch_size, shuffle=True)\n",
    "    val_loader = DataLoader(val_data, batch_size=batch_size, shuffle=False)\n",
    "    model = SimpleNN(use_bn=True)\n",
    "    train(model, train_loader, val_loader)"
   ]
  },
  {
   "cell_type": "markdown",
   "metadata": {},
   "source": [
    "### 드롭아웃 적용"
   ]
  },
  {
   "cell_type": "code",
   "execution_count": 68,
   "metadata": {},
   "outputs": [],
   "source": [
    "class DropoutNN(nn.Module):\n",
    "    def __init__(self, dropout_rate):\n",
    "        super(DropoutNN, self).__init__()\n",
    "        self.fc1 = nn.Linear(28 * 28, 128)\n",
    "        self.dropout1 = nn.Dropout(dropout_rate)\n",
    "        self.fc2 = nn.Linear(128, 64)\n",
    "        self.dropout2 = nn.Dropout(dropout_rate)\n",
    "        self.fc3 = nn.Linear(64, 10)\n",
    "\n",
    "    def forward(self, x):\n",
    "        x = x.view(x.size(0), -1)\n",
    "        x = torch.relu(self.dropout1(self.fc1(x)))\n",
    "        x = torch.relu(self.dropout2(self.fc2(x)))\n",
    "        x = self.fc3(x)\n",
    "        return x"
   ]
  },
  {
   "cell_type": "code",
   "execution_count": 69,
   "metadata": {},
   "outputs": [
    {
     "name": "stdout",
     "output_type": "stream",
     "text": [
      "Dropout Rate: 0.2\n",
      "Epoch 1 | Val Loss: 0.2586, Accuracy: 0.9214\n",
      "Epoch 2 | Val Loss: 0.1830, Accuracy: 0.9443\n",
      "Epoch 3 | Val Loss: 0.1582, Accuracy: 0.9499\n",
      "Epoch 4 | Val Loss: 0.1433, Accuracy: 0.9553\n",
      "Epoch 5 | Val Loss: 0.1380, Accuracy: 0.9605\n",
      "Dropout Rate: 0.5\n",
      "Epoch 1 | Val Loss: 0.3649, Accuracy: 0.8955\n",
      "Epoch 2 | Val Loss: 0.3027, Accuracy: 0.9113\n",
      "Epoch 3 | Val Loss: 0.2648, Accuracy: 0.9213\n",
      "Epoch 4 | Val Loss: 0.2554, Accuracy: 0.9240\n",
      "Epoch 5 | Val Loss: 0.2468, Accuracy: 0.9267\n",
      "Dropout Rate: 0.8\n",
      "Epoch 1 | Val Loss: 1.7162, Accuracy: 0.4833\n",
      "Epoch 2 | Val Loss: 1.6999, Accuracy: 0.5087\n",
      "Epoch 3 | Val Loss: 1.6075, Accuracy: 0.5774\n",
      "Epoch 4 | Val Loss: 1.6440, Accuracy: 0.5663\n",
      "Epoch 5 | Val Loss: 1.6145, Accuracy: 0.5871\n"
     ]
    }
   ],
   "source": [
    "train_loader = DataLoader(train_data, batch_size=64, shuffle=True)\n",
    "val_loader = DataLoader(val_data, batch_size=64, shuffle=False)\n",
    "\n",
    "for rate in [0.2, 0.5, 0.8]:\n",
    "    print(f'Dropout Rate: {rate}')\n",
    "    model = DropoutNN(dropout_rate=rate)\n",
    "    train(model, train_loader, val_loader)"
   ]
  },
  {
   "cell_type": "markdown",
   "metadata": {},
   "source": [
    "- 훈련 시 드롭아웃 활성화, 테스트 시 비활성화"
   ]
  },
  {
   "cell_type": "code",
   "execution_count": 70,
   "metadata": {},
   "outputs": [],
   "source": [
    "def train_do(model, train_loader, val_loader, epochs=5):\n",
    "    criterion = nn.CrossEntropyLoss()\n",
    "    optimizer = optim.Adam(model.parameters(), lr=0.001)\n",
    "\n",
    "    for epoch in range(epochs):\n",
    "        for images, labels in train_loader:\n",
    "            images = images.view(images.size(0), -1)\n",
    "            optimizer.zero_grad()\n",
    "            outputs = model(images)\n",
    "            loss = criterion(outputs, labels)\n",
    "            loss.backward()\n",
    "            optimizer.step()\n",
    "        \n",
    "        val_loss = 0\n",
    "        correct = 0\n",
    "        with torch.no_grad():\n",
    "            for images, labels in val_loader:\n",
    "                images = images.view(images.size(0), -1)\n",
    "                outputs = model(images)\n",
    "                val_loss += criterion(outputs, labels).item()\n",
    "                preds = outputs.argmax(dim=1)\n",
    "                correct += (preds == labels).sum().item()\n",
    "        print(f'Epoch {epoch + 1} | Val Loss: {val_loss/len(val_loader):.4f}, Accuracy: {correct/len(val_data):.4f}')"
   ]
  },
  {
   "cell_type": "code",
   "execution_count": 71,
   "metadata": {},
   "outputs": [
    {
     "name": "stdout",
     "output_type": "stream",
     "text": [
      "Epoch 1 | Val Loss: 0.3867, Accuracy: 0.8838\n",
      "Epoch 2 | Val Loss: 0.3024, Accuracy: 0.9142\n",
      "Epoch 3 | Val Loss: 0.2896, Accuracy: 0.9113\n",
      "Epoch 4 | Val Loss: 0.2667, Accuracy: 0.9227\n",
      "Epoch 5 | Val Loss: 0.2808, Accuracy: 0.9150\n",
      "\n",
      "Epoch 1 | Val Loss: 0.1212, Accuracy: 0.9641\n",
      "Epoch 2 | Val Loss: 0.1157, Accuracy: 0.9643\n",
      "Epoch 3 | Val Loss: 0.1280, Accuracy: 0.9637\n",
      "Epoch 4 | Val Loss: 0.1009, Accuracy: 0.9698\n",
      "Epoch 5 | Val Loss: 0.0945, Accuracy: 0.9729\n"
     ]
    }
   ],
   "source": [
    "model = DropoutNN(dropout_rate=0.3)\n",
    "\n",
    "# train 모드 == 드롭아웃 활성화\n",
    "model.train()\n",
    "train_do(model, train_loader, val_loader)\n",
    "\n",
    "print()\n",
    "\n",
    "# eval 모드 == 드롭아웃 비활성화\n",
    "model.eval()\n",
    "train_do(model, train_loader, val_loader)"
   ]
  },
  {
   "cell_type": "markdown",
   "metadata": {},
   "source": [
    "### Learning Rate Scheduler 적용"
   ]
  },
  {
   "cell_type": "code",
   "execution_count": 72,
   "metadata": {},
   "outputs": [],
   "source": [
    "class RealSimpleNN(nn.Module):\n",
    "    def __init__(self):\n",
    "        super(RealSimpleNN, self).__init__()\n",
    "        self.fc1 = nn.Linear(28 * 28, 128)\n",
    "        self.fc2 = nn.Linear(128, 64)\n",
    "        self.fc3 = nn.Linear(64, 10)\n",
    "\n",
    "    def forward(self, x):\n",
    "        x = x.view(x.size(0), -1)\n",
    "        x = torch.relu(self.fc1(x))\n",
    "        x = torch.relu(self.fc2(x))\n",
    "        x = self.fc3(x)\n",
    "        return x"
   ]
  },
  {
   "cell_type": "code",
   "execution_count": 73,
   "metadata": {},
   "outputs": [],
   "source": [
    "def train_lr(model, train_loader, val_loader, optimizer, scheduler, epochs=10):\n",
    "    criterion = nn.CrossEntropyLoss()\n",
    "\n",
    "    for epoch in range(epochs):\n",
    "        model.train()\n",
    "        for images, labels in train_loader:\n",
    "            images = images.view(images.size(0), -1)\n",
    "            optimizer.zero_grad()\n",
    "            outputs = model(images)\n",
    "            loss = criterion(outputs, labels)\n",
    "            loss.backward()\n",
    "            optimizer.step()\n",
    "\n",
    "        model.eval()\n",
    "        val_loss = 0\n",
    "        correct = 0\n",
    "        with torch.no_grad():\n",
    "            for images, labels in val_loader:\n",
    "                images = images.view(images.size(0), -1)\n",
    "                outputs = model(images)\n",
    "                val_loss += criterion(outputs, labels).item()\n",
    "                preds = outputs.argmax(dim=1)\n",
    "                correct += (preds == labels).sum().item()\n",
    "        \n",
    "        scheduler.step()\n",
    "        print(f\"Epoch {epoch+1} | Val Loss: {val_loss/len(val_loader):.4f}, Accuracy: {correct/len(val_data):.4f}, LearningRate: {scheduler.get_last_lr()[0]}\")"
   ]
  },
  {
   "cell_type": "code",
   "execution_count": 74,
   "metadata": {},
   "outputs": [
    {
     "name": "stdout",
     "output_type": "stream",
     "text": [
      "Epoch 1 | Val Loss: 0.2649, Accuracy: 0.9204, LearningRate: 0.01\n",
      "Epoch 2 | Val Loss: 0.2359, Accuracy: 0.9308, LearningRate: 0.01\n",
      "Epoch 3 | Val Loss: 0.2249, Accuracy: 0.9333, LearningRate: 0.001\n",
      "Epoch 4 | Val Loss: 0.1470, Accuracy: 0.9575, LearningRate: 0.001\n",
      "Epoch 5 | Val Loss: 0.1378, Accuracy: 0.9603, LearningRate: 0.001\n",
      "Epoch 6 | Val Loss: 0.1351, Accuracy: 0.9613, LearningRate: 0.0001\n",
      "Epoch 7 | Val Loss: 0.1301, Accuracy: 0.9624, LearningRate: 0.0001\n",
      "Epoch 8 | Val Loss: 0.1301, Accuracy: 0.9623, LearningRate: 0.0001\n",
      "Epoch 9 | Val Loss: 0.1297, Accuracy: 0.9632, LearningRate: 1e-05\n",
      "Epoch 10 | Val Loss: 0.1294, Accuracy: 0.9627, LearningRate: 1e-05\n"
     ]
    }
   ],
   "source": [
    "model = RealSimpleNN()\n",
    "optimizer = optim.Adam(model.parameters(), lr=0.01)\n",
    "scheduler = optim.lr_scheduler.StepLR(optimizer, step_size=3, gamma=0.1)\n",
    "\n",
    "train_lr(model, train_loader, val_loader, optimizer, scheduler)"
   ]
  },
  {
   "cell_type": "markdown",
   "metadata": {},
   "source": [
    "### 조기 종료 적용"
   ]
  },
  {
   "cell_type": "code",
   "execution_count": 75,
   "metadata": {},
   "outputs": [],
   "source": [
    "def train_es(model, train_loader, val_loader, optimizer, epochs=50, early_stopping=None):\n",
    "    criterion = nn.CrossEntropyLoss()\n",
    "    train_losses = []\n",
    "    val_losses = []\n",
    "\n",
    "    for epoch in range(epochs):\n",
    "        model.train()\n",
    "        train_loss = 0\n",
    "        for images, labels in train_loader:\n",
    "            images = images.view(images.size(0), -1)\n",
    "            optimizer.zero_grad()\n",
    "            outputs = model(images)\n",
    "            loss = criterion(outputs, labels)\n",
    "            loss.backward()\n",
    "            optimizer.step()\n",
    "            train_loss += loss.item()\n",
    "        train_loss /= len(train_loader)\n",
    "        train_losses.append(train_loss)\n",
    "\n",
    "        model.eval()\n",
    "        val_loss = 0\n",
    "        correct = 0\n",
    "        with torch.no_grad():\n",
    "            for images, labels in val_loader:\n",
    "                images = images.view(images.size(0), -1)\n",
    "                outputs = model(images)\n",
    "                loss = criterion(outputs, labels)\n",
    "                val_loss += loss.item()\n",
    "                preds = outputs.argmax(dim=1)\n",
    "                correct += (preds == labels).sum().item()\n",
    "\n",
    "        val_loss /= len(val_loader)\n",
    "        val_losses.append(val_loss)\n",
    "        accuracy = correct / len(val_data)\n",
    "\n",
    "        print(f'Epoch {epoch + 1} | Loss: {val_loss:.4f}, Accuracy: {accuracy:.4f}')\n",
    "\n",
    "        if early_stopping and early_stopping(val_loss):\n",
    "            print(f'조기 종료 epoch {epoch + 1}')\n",
    "            break\n",
    "\n",
    "    return train_losses, val_losses"
   ]
  },
  {
   "cell_type": "code",
   "execution_count": 76,
   "metadata": {},
   "outputs": [],
   "source": [
    "# !pip install skorch"
   ]
  },
  {
   "cell_type": "code",
   "execution_count": 77,
   "metadata": {},
   "outputs": [],
   "source": [
    "class EarlyStopping:\n",
    "    def __init__(self, patience=5, min_delta=0.001):\n",
    "        self.patience = patience\n",
    "        self.min_delta = min_delta\n",
    "        self.best_loss = float('inf')\n",
    "        self.counter = 0\n",
    "\n",
    "    def __call__(self, val_loss):\n",
    "        if val_loss < self.best_loss - self.min_delta:\n",
    "            self.best_loss = val_loss\n",
    "            self.counter = 0\n",
    "        else:\n",
    "            self.counter += 1\n",
    "\n",
    "        return self.counter >= self.patience"
   ]
  },
  {
   "cell_type": "code",
   "execution_count": 78,
   "metadata": {},
   "outputs": [
    {
     "name": "stdout",
     "output_type": "stream",
     "text": [
      "Epoch 1 | Loss: 0.3778, Accuracy: 0.8828\n",
      "Epoch 2 | Loss: 0.2432, Accuracy: 0.9278\n",
      "Epoch 3 | Loss: 0.2326, Accuracy: 0.9316\n",
      "Epoch 4 | Loss: 0.2665, Accuracy: 0.9234\n",
      "Epoch 5 | Loss: 0.2115, Accuracy: 0.9407\n",
      "Epoch 6 | Loss: 0.1951, Accuracy: 0.9458\n",
      "Epoch 7 | Loss: 0.2447, Accuracy: 0.9350\n",
      "Epoch 8 | Loss: 0.2494, Accuracy: 0.9377\n",
      "Epoch 9 | Loss: 0.2202, Accuracy: 0.9426\n",
      "Epoch 10 | Loss: 0.2485, Accuracy: 0.9376\n",
      "Epoch 11 | Loss: 0.2243, Accuracy: 0.9391\n",
      "Epoch 12 | Loss: 0.2585, Accuracy: 0.9333\n",
      "Epoch 13 | Loss: 0.2419, Accuracy: 0.9411\n",
      "Epoch 14 | Loss: 0.2318, Accuracy: 0.9420\n",
      "Epoch 15 | Loss: 0.2450, Accuracy: 0.9372\n",
      "Epoch 16 | Loss: 0.2570, Accuracy: 0.9347\n",
      "Epoch 17 | Loss: 0.2434, Accuracy: 0.9413\n",
      "Epoch 18 | Loss: 0.2274, Accuracy: 0.9441\n",
      "Epoch 19 | Loss: 0.2176, Accuracy: 0.9494\n",
      "Epoch 20 | Loss: 0.2144, Accuracy: 0.9467\n",
      "Epoch 21 | Loss: 0.2302, Accuracy: 0.9431\n",
      "Epoch 22 | Loss: 0.2691, Accuracy: 0.9370\n",
      "Epoch 23 | Loss: 0.2231, Accuracy: 0.9479\n",
      "Epoch 24 | Loss: 0.2569, Accuracy: 0.9368\n",
      "Epoch 25 | Loss: 0.2065, Accuracy: 0.9509\n",
      "Epoch 26 | Loss: 0.2302, Accuracy: 0.9465\n",
      "Epoch 27 | Loss: 0.2304, Accuracy: 0.9500\n",
      "Epoch 28 | Loss: 0.2503, Accuracy: 0.9400\n",
      "Epoch 29 | Loss: 0.2395, Accuracy: 0.9453\n",
      "Epoch 30 | Loss: 0.2336, Accuracy: 0.9454\n",
      "Epoch 31 | Loss: 0.3023, Accuracy: 0.9359\n",
      "Epoch 32 | Loss: 0.2585, Accuracy: 0.9406\n",
      "Epoch 33 | Loss: 0.2709, Accuracy: 0.9457\n",
      "Epoch 34 | Loss: 0.2662, Accuracy: 0.9414\n",
      "Epoch 35 | Loss: 0.2817, Accuracy: 0.9333\n",
      "Epoch 36 | Loss: 0.2390, Accuracy: 0.9463\n",
      "Epoch 37 | Loss: 0.2588, Accuracy: 0.9470\n",
      "Epoch 38 | Loss: 0.2498, Accuracy: 0.9463\n",
      "Epoch 39 | Loss: 0.2591, Accuracy: 0.9459\n",
      "Epoch 40 | Loss: 0.2615, Accuracy: 0.9459\n",
      "Epoch 41 | Loss: 0.2714, Accuracy: 0.9420\n",
      "Epoch 42 | Loss: 0.2707, Accuracy: 0.9452\n",
      "Epoch 43 | Loss: 0.2529, Accuracy: 0.9473\n",
      "Epoch 44 | Loss: 0.2668, Accuracy: 0.9499\n",
      "Epoch 45 | Loss: 0.2252, Accuracy: 0.9512\n",
      "Epoch 46 | Loss: 0.2271, Accuracy: 0.9502\n",
      "Epoch 47 | Loss: 0.2312, Accuracy: 0.9502\n",
      "Epoch 48 | Loss: 0.2552, Accuracy: 0.9477\n",
      "Epoch 49 | Loss: 0.2259, Accuracy: 0.9514\n",
      "Epoch 50 | Loss: 0.2521, Accuracy: 0.9462\n",
      "Epoch 1 | Loss: 0.2848, Accuracy: 0.9157\n",
      "Epoch 2 | Loss: 0.2630, Accuracy: 0.9215\n",
      "Epoch 3 | Loss: 0.2544, Accuracy: 0.9219\n",
      "Epoch 4 | Loss: 0.2097, Accuracy: 0.9377\n",
      "Epoch 5 | Loss: 0.2010, Accuracy: 0.9457\n",
      "Epoch 6 | Loss: 0.2152, Accuracy: 0.9381\n",
      "Epoch 7 | Loss: 0.2244, Accuracy: 0.9421\n",
      "Epoch 8 | Loss: 0.2306, Accuracy: 0.9383\n",
      "Epoch 9 | Loss: 0.1928, Accuracy: 0.9513\n",
      "Epoch 10 | Loss: 0.2540, Accuracy: 0.9344\n",
      "Epoch 11 | Loss: 0.2226, Accuracy: 0.9451\n",
      "Epoch 12 | Loss: 0.2272, Accuracy: 0.9422\n",
      "Epoch 13 | Loss: 0.2086, Accuracy: 0.9475\n",
      "Epoch 14 | Loss: 0.1948, Accuracy: 0.9518\n",
      "조기 종료 epoch 14\n"
     ]
    }
   ],
   "source": [
    "model_no_es = RealSimpleNN()\n",
    "optim_no_es = optim.Adam(model_no_es.parameters(), lr=0.01)\n",
    "train_losses, val_losses = train_es(model_no_es, train_loader, val_loader, optim_no_es)\n",
    "\n",
    "model_es = RealSimpleNN()\n",
    "optim_es = optim.Adam(model_es.parameters(), lr=0.01)\n",
    "early_stopping = EarlyStopping(patience=5)\n",
    "train_es_losses, val_es_losses = train_es(model_es, train_loader, val_loader, optim_es, early_stopping=early_stopping)"
   ]
  },
  {
   "cell_type": "code",
   "execution_count": 79,
   "metadata": {},
   "outputs": [
    {
     "data": {
      "image/png": "[encoded data removed]",
      "text/plain": [
       "<Figure size 1000x400 with 1 Axes>"
      ]
     },
     "metadata": {},
     "output_type": "display_data"
    }
   ],
   "source": [
    "import matplotlib.pyplot as plt\n",
    "\n",
    "plt.figure(figsize=(10,4))\n",
    "plt.plot(train_losses, label='Train Loss (All epoch)', linestyle='dashed')\n",
    "plt.plot(val_losses, label='Valid Loss (All epoch)')\n",
    "plt.plot(train_es_losses, label=\"Train Loss (Early Stopping)\", linestyle='dashed')\n",
    "plt.plot(val_es_losses, label=\"Valid Loss (Early Stopping)\")\n",
    "\n",
    "plt.xlabel('Epoch')\n",
    "plt.ylabel('Loss')\n",
    "plt.legend()\n",
    "plt.show()"
   ]
  },
  {
   "cell_type": "markdown",
   "metadata": {},
   "source": [
    "### (L1, )L2 적용"
   ]
  },
  {
   "cell_type": "code",
   "execution_count": 80,
   "metadata": {},
   "outputs": [],
   "source": [
    "def train_reg(model, train_loader, val_loader, optimizer, epochs=10):\n",
    "    criterion = nn.CrossEntropyLoss()\n",
    "    train_losses = []\n",
    "    val_losses = []\n",
    "     \n",
    "    for epoch in range(epochs):\n",
    "        model.train()\n",
    "        train_loss = 0\n",
    "        for images, labels in train_loader:\n",
    "            images = images.view(images.size(0), -1)\n",
    "            optimizer.zero_grad()\n",
    "            outputs = model(images)\n",
    "            loss = criterion(outputs, labels)\n",
    "            loss.backward()\n",
    "            optimizer.step()\n",
    "            train_loss += loss.item()\n",
    "        train_loss /= len(train_loader)\n",
    "        train_losses.append(train_loss)\n",
    "\n",
    "        model.eval()\n",
    "        val_loss = 0\n",
    "        correct = 0\n",
    "        with torch.no_grad():\n",
    "            for images, labels in val_loader:\n",
    "                images = images.view(images.size(0), -1)\n",
    "                outputs = model(images)\n",
    "                loss = criterion(outputs, labels)\n",
    "                val_loss += loss.item()\n",
    "                preds = outputs.argmax(dim=1)\n",
    "                correct += (preds == labels).sum().item()\n",
    "\n",
    "        val_loss /= len(val_loader)\n",
    "        val_losses.append(val_loss)\n",
    "        accuracy = correct / len(val_data)\n",
    "\n",
    "        print(f'Epoch {epoch + 1} | Train Loss: {train_loss: .4f} Val Loss {val_loss:.4f}, Accuracy: {accuracy:.4f}')\n",
    "\n",
    "        if early_stopping and early_stopping(val_loss):\n",
    "            print(f'조기 종료 epoch {epoch + 1}')\n",
    "            break\n",
    "\n",
    "    return train_losses, val_losses"
   ]
  },
  {
   "cell_type": "code",
   "execution_count": 83,
   "metadata": {},
   "outputs": [
    {
     "name": "stdout",
     "output_type": "stream",
     "text": [
      "Epoch 1 | Train Loss:  0.4793 Val Loss 0.2362, Accuracy: 0.9297\n",
      "조기 종료 epoch 1\n",
      "Epoch 1 | Train Loss:  0.5087 Val Loss 0.3170, Accuracy: 0.9041\n",
      "조기 종료 epoch 1\n"
     ]
    },
    {
     "data": {
      "text/plain": [
       "([0.5087099563380082], [0.3169670968930772])"
      ]
     },
     "execution_count": 83,
     "metadata": {},
     "output_type": "execute_result"
    }
   ],
   "source": [
    "model_no_reg = RealSimpleNN()\n",
    "optim_no_reg = optim.SGD(model_no_reg.parameters(), lr=0.01, weight_decay=0.0, momentum=0.9)\n",
    "train_losses, val_losses = train_reg(model_no_reg, train_loader, val_loader, optim_no_reg)\n",
    "\n",
    "model_reg = RealSimpleNN()\n",
    "optim_reg = optim.SGD(model_reg.parameters(), lr=0.01, weight_decay=0.01, momentum=0.9)\n",
    "\n",
    "train_reg(model_reg, train_loader, val_loader, optim_reg)"
   ]
  },
  {
   "cell_type": "code",
   "execution_count": 84,
   "metadata": {},
   "outputs": [],
   "source": [
    "def train_reg(model, train_loader, val_loader, optimizer, epochs=10):\n",
    "    criterion = nn.CrossEntropyLoss()\n",
    "    train_losses = []\n",
    "    val_losses = []\n",
    "    weight_norms = []\n",
    "\n",
    "    for epoch in range(epochs):\n",
    "        model.train()\n",
    "        train_loss = 0\n",
    "        for images, labels in train_loader:\n",
    "            images = images.view(images.size(0), -1)\n",
    "            optimizer.zero_grad()\n",
    "            outputs = model(images)\n",
    "            loss = criterion(outputs, labels)\n",
    "            loss.backward()\n",
    "            optimizer.step()\n",
    "            train_loss += loss.item()\n",
    "        train_loss /= len(train_loader)\n",
    "        train_losses.append(train_loss)\n",
    "\n",
    "\n",
    "        model.eval()\n",
    "        val_loss = 0\n",
    "        correct = 0\n",
    "        with torch.no_grad():\n",
    "            for images, labels in val_loader:\n",
    "                images = images.view(images.size(0), -1)\n",
    "                outputs = model(images)\n",
    "                loss = criterion(outputs, labels)\n",
    "                val_loss += loss.item()\n",
    "                preds = outputs.argmax(dim=1)\n",
    "                correct += (preds == labels).sum().item()\n",
    "        \n",
    "        val_loss /= len(val_loader)\n",
    "        val_losses.append(val_loss)\n",
    "        accuracy = correct / len(val_data)\n",
    "\n",
    "        print(f'Epoch {epoch + 1} | Train Loss: {train_loss:.4f}, Val Loss: {val_loss:.4f}, Accuracy: {accuracy:.4f}')\n",
    "    \n",
    "    weight_norms = sum(torch.norm(p).item() for p in model.parameters())\n",
    "    weight_norms.append(weight_norms)\n",
    "\n",
    "    return train_losses, val_losses"
   ]
  },
  {
   "cell_type": "code",
   "execution_count": null,
   "metadata": {},
   "outputs": [],
   "source": []
  }
 ],
 "metadata": {
  "kernelspec": {
   "display_name": "pystudy_env",
   "language": "python",
   "name": "python3"
  },
  "language_info": {
   "codemirror_mode": {
    "name": "ipython",
    "version": 3
   },
   "file_extension": ".py",
   "mimetype": "text/x-python",
   "name": "python",
   "nbconvert_exporter": "python",
   "pygments_lexer": "ipython3",
   "version": "3.12.8"
  }
 },
 "nbformat": 4,
 "nbformat_minor": 2
}
