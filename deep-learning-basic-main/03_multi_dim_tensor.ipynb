{
 "cells": [
  {
   "cell_type": "markdown",
   "metadata": {},
   "source": [
    "# 다차원 텐서 (다차원 배열)"
   ]
  },
  {
   "cell_type": "markdown",
   "metadata": {},
   "source": [
    "### 다차원 배열의 계산 복습"
   ]
  },
  {
   "cell_type": "code",
   "execution_count": 1,
   "metadata": {},
   "outputs": [],
   "source": [
    "import numpy as np"
   ]
  },
  {
   "cell_type": "code",
   "execution_count": 6,
   "metadata": {},
   "outputs": [
    {
     "name": "stdout",
     "output_type": "stream",
     "text": [
      "[[ 8 10 12]\n",
      " [14 16 18]]\n",
      "[[2 4 6]\n",
      " [5 7 9]]\n",
      "[[ 50  68]\n",
      " [122 167]]\n"
     ]
    }
   ],
   "source": [
    "A = np.array([[1, 2, 3], \n",
    "              [4, 5, 6]])\n",
    "B = np.array([[7, 8, 9], \n",
    "              [10, 11, 12]])\n",
    "\n",
    "add_result = A + B\n",
    "\n",
    "vec = np.array([1, 2, 3])\n",
    "add_result2 = A + vec   # 브로드캐스팅\n",
    "\n",
    "print(add_result)\n",
    "print(add_result2)\n",
    "\n",
    "dot_result = A.dot(B.T) # 전치행렬 T\n",
    "print(dot_result)"
   ]
  },
  {
   "cell_type": "markdown",
   "metadata": {},
   "source": [
    "### 다차원 배열의 계산으로 순전파 구현"
   ]
  },
  {
   "cell_type": "code",
   "execution_count": 11,
   "metadata": {},
   "outputs": [
    {
     "name": "stdout",
     "output_type": "stream",
     "text": [
      "[[0.37341617 1.06298974 1.98610425]\n",
      " [0.62963835 0.         1.61614001]\n",
      " [1.59626658 0.40155146 1.92635206]\n",
      " [0.         3.05868947 1.1874179 ]]\n"
     ]
    }
   ],
   "source": [
    "# 입력 데이터\n",
    "X = np.random.randn(4, 5)       # 4개의 샘플, 5차원 feature\n",
    "\n",
    "# 가중치\n",
    "W = np.random.randn(5, 3)       # 5개의 입력(feature)와 3개의 뉴런으로 구성된 레이어\n",
    "\n",
    "# 편향\n",
    "b = np.random.randn(1, 3)       \n",
    "\n",
    "# 선형 계산(W*X + b)\n",
    "z = np.dot(X, W) + b\n",
    "\n",
    "# ReLU 활성화 함수\n",
    "result = np.maximum(0, z)\n",
    "\n",
    "print(result)"
   ]
  },
  {
   "cell_type": "markdown",
   "metadata": {},
   "source": [
    "### 다층 퍼셉트론"
   ]
  },
  {
   "cell_type": "code",
   "execution_count": 21,
   "metadata": {},
   "outputs": [
    {
     "name": "stdout",
     "output_type": "stream",
     "text": [
      "[[0.12656851 0.05797321 0.73085214 0.08460613]\n",
      " [0.58505622 0.07684621 0.0009901  0.33710747]\n",
      " [0.67192646 0.23883977 0.03183719 0.05739658]\n",
      " [0.11435838 0.06145637 0.80725308 0.01693217]\n",
      " [0.38718353 0.08156482 0.00670844 0.52454321]\n",
      " [0.6059051  0.28749916 0.02055046 0.08604528]]\n"
     ]
    }
   ],
   "source": [
    "X = np.random.randn(6, 10)\n",
    "\n",
    "# 은닉층 : 10개의 입력 -> 8개의 뉴런\n",
    "W1 = np.random.randn(10, 8)\n",
    "b1 = np.random.randn(1, 8)\n",
    "\n",
    "\n",
    "# 출력층 : 8개의 입력 -> 4개의 클래스\n",
    "W2 = np.random.randn(8, 4)\n",
    "b2 = np.random.randn(1, 4)\n",
    "\n",
    "# 은닉층 계산 (선형 계산 + tanh 활성화 함수)\n",
    "z1 = np.dot(X, W1) + b1\n",
    "result1 = np.tanh(z1)\n",
    "\n",
    "# 출력층 계산 (선형 계산 + softmax 활성화 함수)\n",
    "z2 = np.dot(result1, W2) + b2\n",
    "exp_x = np.exp(z2 - np.max(z2, axis=1, keepdims=True))\n",
    "reuslt2 = exp_x / np.sum(exp_x, axis=1, keepdims=True)\n",
    "\n",
    "print(reuslt2)"
   ]
  },
  {
   "cell_type": "markdown",
   "metadata": {},
   "source": [
    "### 이미지 데이터 예시"
   ]
  },
  {
   "cell_type": "code",
   "execution_count": 26,
   "metadata": {},
   "outputs": [
    {
     "data": {
      "text/plain": [
       "(np.float64(-0.5), np.float64(31.5), np.float64(31.5), np.float64(-0.5))"
      ]
     },
     "execution_count": 26,
     "metadata": {},
     "output_type": "execute_result"
    },
    {
     "data": {
      "image/png": "[encoded data removed]",
      "text/plain": [
       "<Figure size 640x480 with 3 Axes>"
      ]
     },
     "metadata": {},
     "output_type": "display_data"
    }
   ],
   "source": [
    "import matplotlib.pyplot as plt\n",
    "\n",
    "# 이미지 생성\n",
    "batch_size = 5\n",
    "channels = 3\n",
    "height = 32\n",
    "width = 32\n",
    "\n",
    "images = np.random.rand(batch_size, channels, height, width)    # channels는 컬러로 3개 r,g,b\n",
    "\n",
    "bright_images = np.clip(images + 0.2, 0, 1)\n",
    "\n",
    "gray_images = np.mean(images, axis=1) # 흑백 이미지로 r, g, b를 평균값으로\n",
    "\n",
    "# PyTorch 프레임워크에서는 이미지 데이터를 (채널, 높이, 너비) 순서로 저장\n",
    "# matplotlib.pyploy.imshow()는 (높이, 너비, 채널) 순으로 기대\n",
    "# 따라서 transpose()를 이용해 축의 순서를 재배열\n",
    "images_for_display = images[0].transpose(1, 2, 0) # 임의로 순서 변경\n",
    "bright_images_display = bright_images[0].transpose(1, 2, 0)\n",
    "\n",
    "plt.subplot(1, 3, 1)\n",
    "plt.imshow(images_for_display) # 높이 너비 채널 순으로\n",
    "plt.axis('off')\n",
    "\n",
    "plt.subplot(1, 3, 2)\n",
    "plt.imshow(bright_images_display)\n",
    "plt.axis('off')\n",
    "\n",
    "plt.subplot(1, 3, 3)\n",
    "plt.imshow(gray_images[0], cmap='gray')\n",
    "plt.axis('off')\n"
   ]
  },
  {
   "cell_type": "code",
   "execution_count": null,
   "metadata": {},
   "outputs": [],
   "source": []
  }
 ],
 "metadata": {
  "kernelspec": {
   "display_name": "Python 3",
   "language": "python",
   "name": "python3"
  },
  "language_info": {
   "codemirror_mode": {
    "name": "ipython",
    "version": 3
   },
   "file_extension": ".py",
   "mimetype": "text/x-python",
   "name": "python",
   "nbconvert_exporter": "python",
   "pygments_lexer": "ipython3",
   "version": "3.12.8"
  }
 },
 "nbformat": 4,
 "nbformat_minor": 2
}
