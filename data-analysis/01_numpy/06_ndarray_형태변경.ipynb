{
 "cells": [
  {
   "cell_type": "markdown",
   "metadata": {},
   "source": [
    "### ndarray 형태 변경"
   ]
  },
  {
   "cell_type": "code",
   "execution_count": 2,
   "metadata": {},
   "outputs": [],
   "source": [
    "import numpy as np"
   ]
  },
  {
   "cell_type": "code",
   "execution_count": 10,
   "metadata": {},
   "outputs": [
    {
     "name": "stdout",
     "output_type": "stream",
     "text": [
      "1 [ 0  1  2  3  4  5  6  7  8  9 10 11]\n",
      "---------------\n",
      "[[ 0  1  2  3]\n",
      " [ 4  5  6  7]\n",
      " [ 8  9 10 11]]\n",
      "1 [ 0  1  2  3  4  5  6  7  8  9 10 11]\n",
      "---------------\n",
      "3 (2, 2, 3)\n",
      "---------------\n",
      "[[[ 0  1  2]\n",
      "  [ 3  4  5]]\n",
      "\n",
      " [[ 6  7  8]\n",
      "  [ 9 10 11]]]\n"
     ]
    }
   ],
   "source": [
    "# reshape()\n",
    "# 요소의 개수와 맞는 shape이어야 함\n",
    "arr = np.arange(12)\n",
    "print(arr.ndim, arr)\n",
    "print(\"---------------\")\n",
    "\n",
    "print(arr.reshape(3, 4))\n",
    "print(arr.ndim, arr)\n",
    "print(\"---------------\")\n",
    "\n",
    "arr = arr.reshape(3, 4)\n",
    "arr = arr.reshape(6, 2)\n",
    "arr = arr.reshape(1, 12)\n",
    "arr = arr.reshape(2, 2, 3)\n",
    "# arr = arr.reshape(2, 7)\n",
    "print(arr.ndim, arr.shape)\n",
    "print(\"---------------\")\n",
    "print(arr)"
   ]
  },
  {
   "cell_type": "code",
   "execution_count": 12,
   "metadata": {},
   "outputs": [
    {
     "name": "stdout",
     "output_type": "stream",
     "text": [
      "[ 0  1  2  3  4  5  6  7  8  9 10 11]\n",
      "[[ 0  1  2  3]\n",
      " [ 4  5  6  7]\n",
      " [ 8  9 10 11]]\n"
     ]
    }
   ],
   "source": [
    "# reshape() -> -1\n",
    "arr = arr.reshape(-1)\n",
    "print(arr)\n",
    "\n",
    "# -1인 축은 자동 계산\n",
    "arr = arr.reshape(4, -1)\n",
    "arr = arr.reshape(-1, 4)\n",
    "print(arr)"
   ]
  },
  {
   "cell_type": "code",
   "execution_count": 16,
   "metadata": {},
   "outputs": [
    {
     "name": "stdout",
     "output_type": "stream",
     "text": [
      "[[ 0  1  2  3  4  5  6  7  8  9]\n",
      " [10 11 12 13 14 15 16 17 18 19]\n",
      " [20 21 22 23 24 25 26 27 28 29]\n",
      " [30 31 32 33 34 35 36 37 38 39]\n",
      " [40 41 42 43 44 45 46 47 48 49]]\n",
      "[ 0  1  2  3  4  5  6  7  8  9 10 11 12 13 14 15 16 17 18 19 20 21 22 23\n",
      " 24 25 26 27 28 29 30 31 32 33 34 35 36 37 38 39 40 41 42 43 44 45 46 47\n",
      " 48 49]\n"
     ]
    }
   ],
   "source": [
    "# np.ravel()\n",
    "arr = np.arange(50).reshape(5, 10)\n",
    "print(arr)\n",
    "print(np.ravel(arr))"
   ]
  },
  {
   "cell_type": "code",
   "execution_count": 22,
   "metadata": {},
   "outputs": [
    {
     "name": "stdout",
     "output_type": "stream",
     "text": [
      "(10,) [0 1 2 3 4 5 6 7 8 9]\n",
      "[[0 1 2 3 4 5 6 7 8 9]]\n",
      "(1, 10)\n",
      "(10, 1)\n",
      "(2, 2) [[1 2]\n",
      " [3 4]]\n",
      "[[[1 2]\n",
      "  [3 4]]]\n",
      "(1, 2, 2)\n",
      "(2, 1, 2)\n"
     ]
    }
   ],
   "source": [
    "# np.expand_dims()\n",
    "arr_1d = np.arange(10)\n",
    "print(arr_1d.shape, arr_1d)\n",
    "\n",
    "print(np.expand_dims(arr_1d, axis=0))\n",
    "print(np.expand_dims(arr_1d, axis=0).shape)\n",
    "\n",
    "print(np.expand_dims(arr_1d, axis=1).shape)\n",
    "\n",
    "\n",
    "arr_2d = np.array([[1, 2], [3, 4]])\n",
    "print(arr_2d.shape, arr_2d)\n",
    "\n",
    "print(np.expand_dims(arr_2d, axis=0))\n",
    "print(np.expand_dims(arr_2d, axis=0).shape)\n",
    "\n",
    "print(np.expand_dims(arr_2d, axis=1).shape)"
   ]
  },
  {
   "cell_type": "code",
   "execution_count": 26,
   "metadata": {},
   "outputs": [
    {
     "name": "stdout",
     "output_type": "stream",
     "text": [
      "(1, 2)\n",
      "(2,)\n"
     ]
    }
   ],
   "source": [
    "# np,squeese() : 차원의 값이 1일 때 제거 \n",
    "arr = np.array([[1, 2]])\n",
    "print(arr.shape)\n",
    "\n",
    "arr2 = np.squeeze(arr)\n",
    "arr2 = np.squeeze(arr, axis=0)\n",
    "print(arr2.shape)"
   ]
  },
  {
   "cell_type": "code",
   "execution_count": null,
   "metadata": {},
   "outputs": [],
   "source": []
  }
 ],
 "metadata": {
  "kernelspec": {
   "display_name": "Python 3",
   "language": "python",
   "name": "python3"
  },
  "language_info": {
   "codemirror_mode": {
    "name": "ipython",
    "version": 3
   },
   "file_extension": ".py",
   "mimetype": "text/x-python",
   "name": "python",
   "nbconvert_exporter": "python",
   "pygments_lexer": "ipython3",
   "version": "3.12.8"
  }
 },
 "nbformat": 4,
 "nbformat_minor": 2
}
