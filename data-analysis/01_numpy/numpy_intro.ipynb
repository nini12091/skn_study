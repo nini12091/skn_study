{
 "cells": [
  {
   "cell_type": "markdown",
   "metadata": {},
   "source": [
    "## ndarray indexing & slicing"
   ]
  },
  {
   "cell_type": "code",
   "execution_count": 3,
   "metadata": {},
   "outputs": [],
   "source": [
    "import numpy as np"
   ]
  },
  {
   "cell_type": "code",
   "execution_count": 3,
   "metadata": {},
   "outputs": [
    {
     "name": "stdout",
     "output_type": "stream",
     "text": [
      "[ 1  2  3  4  5  6  7  8  9 10]\n",
      "2 4 10\n"
     ]
    }
   ],
   "source": [
    "arr = np.arange(1, 11)\n",
    "print(arr)\n",
    "print(arr[1], arr[3], arr[9])"
   ]
  },
  {
   "cell_type": "code",
   "execution_count": 22,
   "metadata": {},
   "outputs": [
    {
     "name": "stdout",
     "output_type": "stream",
     "text": [
      "[3 4 5 6 7]\n",
      "[1 3 5 7 9]\n",
      "[ 5  6  7  8  9 10]\n",
      "[1 2 3 4 5 6 7]\n",
      "[10  9  8  7  6  5  4  3  2  1]\n"
     ]
    }
   ],
   "source": [
    "arr = np.arange(1, 11)\n",
    "\n",
    "# print(arr)\n",
    "print(arr[2:7])\n",
    "print(arr[0:9:2])\n",
    "print(arr[4:11])\n",
    "print(arr[0:7])\n",
    "print(arr[::-1])"
   ]
  },
  {
   "cell_type": "code",
   "execution_count": 33,
   "metadata": {},
   "outputs": [
    {
     "name": "stdout",
     "output_type": "stream",
     "text": [
      "[[10]\n",
      " [40]] (1, 1)\n",
      "[10 40] (1, 1)\n"
     ]
    }
   ],
   "source": [
    "# 2차원 배열 슬라이싱\n",
    "\n",
    "arr = np.array([[10, 20, 30], [40, 50, 60],[70, 80, 90]])\n",
    "# print(arr)\n",
    "\n",
    "# print(arr[0:2, 1:2]) # [행 슬라이싱 , 열 슬라이싱]\n",
    "\n",
    "# print(arr[0:2])\n",
    "\n",
    "# print(arr[:, 1:3])\n",
    "\n",
    "# 슬라이싱 = shape 유지 (차원 유지지)\n",
    "print(arr[:-1, 0:1], arr[:-2, 0:1].shape)\n",
    "\n",
    "# index 접근 -> 값을 꺼내서 반환 (차원 제거)\n",
    "print(arr[:-1, 0], arr[:-2, 0:1].shape)"
   ]
  },
  {
   "cell_type": "code",
   "execution_count": 38,
   "metadata": {},
   "outputs": [
    {
     "name": "stdout",
     "output_type": "stream",
     "text": [
      "[ 5 10 15 20 25 30]\n",
      "[10 20 30]\n",
      "[10 20 30]\n"
     ]
    }
   ],
   "source": [
    "#  1차원 배열 fancy indexing\n",
    "arr = np.arange(5, 31, 5)\n",
    "print(arr)\n",
    "print(arr[[1, 3, 5]])\n",
    "\n",
    "indices = [1, 3, 5]\n",
    "print(arr[indices])"
   ]
  },
  {
   "cell_type": "code",
   "execution_count": 56,
   "metadata": {},
   "outputs": [
    {
     "name": "stdout",
     "output_type": "stream",
     "text": [
      "10 35\n",
      "[10 35]\n"
     ]
    }
   ],
   "source": [
    "# 2차원 배열 fancy indexing\n",
    "\n",
    "arr = np.array([\n",
    "    [5, 10, 15, 20],\n",
    "    [25, 30, 35, 40],\n",
    "    [45, 50, 55, 60],\n",
    "])\n",
    "\n",
    "print(arr[0][1], arr[1][2])\n",
    "\n",
    "indices1 = [0, 1]\n",
    "indices2 = [1, 2]\n",
    "indicess = (indices1, indices2)\n",
    "\n",
    "\n",
    "print(arr[[0, 1], [1, 2]])"
   ]
  },
  {
   "cell_type": "code",
   "execution_count": 59,
   "metadata": {},
   "outputs": [
    {
     "name": "stdout",
     "output_type": "stream",
     "text": [
      "[1 5]\n"
     ]
    }
   ],
   "source": [
    "# boolean indexing\n",
    "arr = np.arange(1, 6)\n",
    "\n",
    "bools = [True, False, False, False, True]\n",
    "print(arr[bools])"
   ]
  },
  {
   "cell_type": "code",
   "execution_count": 62,
   "metadata": {},
   "outputs": [
    {
     "name": "stdout",
     "output_type": "stream",
     "text": [
      "[12 15 18 21 24 27]\n",
      "[ 6 12 18 24]\n"
     ]
    }
   ],
   "source": [
    "# 2차원 배열 boolean indexing\n",
    "arr = np.array([\n",
    "    [3, 6, 9],\n",
    "    [12, 15, 18],\n",
    "    [21, 24, 27]\n",
    "])\n",
    "\n",
    "print(arr[arr > 10])\n",
    "print(arr[arr % 2 == 0])\n"
   ]
  },
  {
   "cell_type": "code",
   "execution_count": 64,
   "metadata": {},
   "outputs": [
    {
     "name": "stdout",
     "output_type": "stream",
     "text": [
      "모든 수는 양수 입니다.\n"
     ]
    }
   ],
   "source": [
    "arr = np.array([10, 20, 30, 40, 50])\n",
    "is_all_positive = np.all(arr > 0)\n",
    "\n",
    "if is_all_positive:\n",
    "    print('모든 수는 양수 입니다.')\n",
    "else:\n",
    "    print('모든 수가 양수는 아닙니다.')"
   ]
  },
  {
   "cell_type": "markdown",
   "metadata": {},
   "source": [
    "np.all() : ndarray의 모든 요소가 조건을 만족할떄 True 반환\n",
    "\n",
    "np.any() : ndarray의 하나라도 조건을 만족할떄 True 반환"
   ]
  },
  {
   "cell_type": "code",
   "execution_count": 65,
   "metadata": {},
   "outputs": [
    {
     "name": "stdout",
     "output_type": "stream",
     "text": [
      "양수가 포함되어 있습니다다\n"
     ]
    }
   ],
   "source": [
    "has_positive = np.all(arr > 0)\n",
    "\n",
    "if has_positive:\n",
    "    print('양수가 포함되어 있습니다다')\n",
    "else:\n",
    "    print('모든 수가 음수입니다.')"
   ]
  },
  {
   "cell_type": "markdown",
   "metadata": {},
   "source": [
    "---"
   ]
  },
  {
   "cell_type": "markdown",
   "metadata": {},
   "source": [
    "실습"
   ]
  },
  {
   "cell_type": "markdown",
   "metadata": {},
   "source": [
    "아래 배열에서 인덱싱과 슬라이싱을 사용하여 다음 작업을 수행하세요.\n",
    "\n",
    "1. 배열 `arr`에서 2번째 행, 3번째 열의 값을 출력\n",
    "2. 배열 `arr`에서 1번째 열만 추출\n",
    "3. 배열 `arr`에서 첫 번째 행부터 두 번째 행까지 선택하고, 0번째와 1번째 열만 추출\n",
    "\n",
    "arr = np.array([[10, 20, 30], [40, 50, 60], [70, 80, 90]])"
   ]
  },
  {
   "cell_type": "code",
   "execution_count": 11,
   "metadata": {},
   "outputs": [
    {
     "name": "stdout",
     "output_type": "stream",
     "text": [
      "[[60]]\n",
      "---답안---\n",
      "60\n",
      "---\n",
      "---\n",
      "[[10]\n",
      " [40]\n",
      " [70]]\n",
      "---답안---\n",
      "[10 40 70]\n",
      "---\n",
      "---\n",
      "[[10 20]]\n",
      "---\n",
      "[[10 20]\n",
      " [40 50]]\n",
      "---\n"
     ]
    }
   ],
   "source": [
    "arr = np.array([[10, 20, 30], [40, 50, 60], [70, 80, 90]])\n",
    "\n",
    "print(arr[1:2, 2:3])\n",
    "\n",
    "print(\"---답안---\")\n",
    "print(arr[1, 2])\n",
    "\n",
    "print(\"---\")\n",
    "print(\"---\")\n",
    "print(arr[:, 0:1])\n",
    "print(\"---답안---\")\n",
    "\n",
    "print(arr[:, 0])\n",
    "print(\"---\")\n",
    "print(\"---\")\n",
    "print(arr[0:1, 0:2])\n",
    "print(\"---\")\n",
    "\n",
    "print(arr[0:2, 0:2])\n",
    "print(\"---\")"
   ]
  },
  {
   "cell_type": "markdown",
   "metadata": {},
   "source": [
    "아래 배열에서 팬시 인덱싱과 불리언 인덱싱을 사용하여 다음 작업을 수행하세요.\n",
    "\n",
    "1. 팬시 인덱싱을 사용하여 배열의 0번째, 2번째, 4번째 요소를 출력\n",
    "2. 배열의 값 중 50보다 큰 값만 추출\n",
    "\n",
    "arr = np.array([10, 20, 30, 40, 50, 60, 70])"
   ]
  },
  {
   "cell_type": "code",
   "execution_count": 16,
   "metadata": {},
   "outputs": [
    {
     "name": "stdout",
     "output_type": "stream",
     "text": [
      "[10 30 50]\n",
      "---답안---\n",
      "[10 30 50]\n",
      "[10 30 50]\n",
      "------\n",
      "[60 70]\n",
      "---답안---\n"
     ]
    }
   ],
   "source": [
    "arr = np.array([10, 20, 30, 40, 50, 60, 70])\n",
    "\n",
    "arr1 = arr[0:5:2]\n",
    "print(arr1)\n",
    "\n",
    "print(\"---답안---\")\n",
    "list = [0, 2, 4]\n",
    "print(arr[list])\n",
    "print(arr[[0, 2, 4]])\n",
    "\n",
    "print(\"------\")\n",
    "print(arr[arr > 50])\n",
    "print(\"---답안---\")\n",
    "\n"
   ]
  },
  {
   "cell_type": "code",
   "execution_count": 17,
   "metadata": {},
   "outputs": [],
   "source": [
    "sales = np.array([[120, 150, 100],\n",
    "                  [80, 90, 110],\n",
    "                  [200, 180, 220],\n",
    "                  [50, 45, 70],\n",
    "                  [300, 320, 310]])"
   ]
  },
  {
   "cell_type": "markdown",
   "metadata": {},
   "source": [
    "어느 마트에서 판매되는 제품들의 월별 매출량이 아래와 같이 주어졌습니다. 각각의 행은 제품을 나타내고, 열은 각 월의 판매량을 나타냅니다.\n",
    "\n",
    "1. 월별 판매량이 200개 이상인 제품의 판매량을 선택하라.\n",
    "2. 3월(세 번째 열)의 판매량이 100개 이하인 제품의 1월과 2월 판매량을 추출하라.\n",
    "3. 2월(두 번째 열)의 판매량이 150개 이상인 제품들의 전체 월별 판매량을 출력하라."
   ]
  },
  {
   "cell_type": "code",
   "execution_count": 54,
   "metadata": {},
   "outputs": [
    {
     "name": "stdout",
     "output_type": "stream",
     "text": [
      "[200 220 300 320 310]\n",
      "----\n",
      "[[50 45]]\n",
      "----\n",
      "[ 80  90 110]\n",
      "[200 180 220]\n",
      "[50 45 70]\n"
     ]
    }
   ],
   "source": [
    "print(sales[sales >= 200])\n",
    "\n",
    "print(\"----\")\n",
    "# print(sales[:,2:3])\n",
    "third = sales[:,2:3]\n",
    "# print(third <= 100)\n",
    "print(sales[3:4, :2])\n",
    "print(\"----\")\n",
    "\n",
    "second = sales[:, 1:2]\n",
    "# print(second)\n",
    "# print(second >= 150)\n",
    "bools = second >= 150\n",
    "lists = []\n",
    "a = 0\n",
    "\n",
    "for i in bools:\n",
    "    if i:\n",
    "        # print(i)\n",
    "        # print(sales[a])\n",
    "        a += 1\n",
    "        lists.append(sales[a])\n",
    "\n",
    "for list in lists:\n",
    "    print(list)\n"
   ]
  },
  {
   "cell_type": "code",
   "execution_count": 52,
   "metadata": {},
   "outputs": [
    {
     "name": "stdout",
     "output_type": "stream",
     "text": [
      "[[120 150]\n",
      " [ 50  45]]\n"
     ]
    }
   ],
   "source": [
    "print(sales[sales[:, 2] <= 100, 0:2])"
   ]
  },
  {
   "cell_type": "code",
   "execution_count": 59,
   "metadata": {},
   "outputs": [
    {
     "name": "stdout",
     "output_type": "stream",
     "text": [
      "[[120 150 100]\n",
      " [200 180 220]\n",
      " [300 320 310]]\n"
     ]
    }
   ],
   "source": [
    "print(sales[sales[:, 1] >= 150, :])"
   ]
  }
 ],
 "metadata": {
  "kernelspec": {
   "display_name": "Python 3",
   "language": "python",
   "name": "python3"
  },
  "language_info": {
   "codemirror_mode": {
    "name": "ipython",
    "version": 3
   },
   "file_extension": ".py",
   "mimetype": "text/x-python",
   "name": "python",
   "nbconvert_exporter": "python",
   "pygments_lexer": "ipython3",
   "version": "3.12.8"
  }
 },
 "nbformat": 4,
 "nbformat_minor": 2
}
