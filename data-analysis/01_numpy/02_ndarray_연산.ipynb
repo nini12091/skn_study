{
 "cells": [
  {
   "cell_type": "markdown",
   "metadata": {},
   "source": [
    "### ndarray 연산"
   ]
  },
  {
   "cell_type": "code",
   "execution_count": 2,
   "metadata": {},
   "outputs": [],
   "source": [
    "import numpy as np"
   ]
  },
  {
   "cell_type": "code",
   "execution_count": 10,
   "metadata": {},
   "outputs": [
    {
     "name": "stdout",
     "output_type": "stream",
     "text": [
      "[[1 2 3]\n",
      " [4 5 6]\n",
      " [7 8 9]]\n",
      "[[3 3 3]\n",
      " [3 3 3]\n",
      " [3 3 3]]\n"
     ]
    }
   ],
   "source": [
    "arr_a = np.arange(1, 10).reshape(3, 3)\n",
    "arr_b = np.full_like(arr_a, 3)\n",
    "print(arr_a)\n",
    "print(arr_b)"
   ]
  },
  {
   "cell_type": "code",
   "execution_count": 24,
   "metadata": {},
   "outputs": [
    {
     "name": "stdout",
     "output_type": "stream",
     "text": [
      "[[ 2  4  6]\n",
      " [ 8 10 12]\n",
      " [14 16 18]]\n",
      "[[ 2  4  6]\n",
      " [ 8 10 12]\n",
      " [14 16 18]]\n"
     ]
    }
   ],
   "source": [
    "# 덧셈\n",
    "print(arr_a + arr_b)\n",
    "print(np.add(arr_a, arr_b))\n"
   ]
  },
  {
   "cell_type": "markdown",
   "metadata": {},
   "source": []
  },
  {
   "cell_type": "code",
   "execution_count": 22,
   "metadata": {},
   "outputs": [
    {
     "name": "stdout",
     "output_type": "stream",
     "text": [
      "[[-2 -1  0]\n",
      " [ 1  2  3]\n",
      " [ 4  5  6]]\n",
      "[[-2 -1  0]\n",
      " [ 1  2  3]\n",
      " [ 4  5  6]]\n"
     ]
    }
   ],
   "source": [
    "# 뺼셈\n",
    "print(arr_a - arr_b)\n",
    "print(np.subtract(arr_a, arr_b))"
   ]
  },
  {
   "cell_type": "code",
   "execution_count": 25,
   "metadata": {},
   "outputs": [
    {
     "name": "stdout",
     "output_type": "stream",
     "text": [
      "[[ 1  4  9]\n",
      " [16 25 36]\n",
      " [49 64 81]]\n",
      "[[ 1  4  9]\n",
      " [16 25 36]\n",
      " [49 64 81]]\n"
     ]
    }
   ],
   "source": [
    "# 곱셈\n",
    "print(arr_a * arr_b)\n",
    "print(np.multiply(arr_a, arr_b))"
   ]
  },
  {
   "cell_type": "code",
   "execution_count": 26,
   "metadata": {},
   "outputs": [
    {
     "name": "stdout",
     "output_type": "stream",
     "text": [
      "[[1. 1. 1.]\n",
      " [1. 1. 1.]\n",
      " [1. 1. 1.]]\n",
      "[[1. 1. 1.]\n",
      " [1. 1. 1.]\n",
      " [1. 1. 1.]]\n"
     ]
    }
   ],
   "source": [
    "# 나눗셈\n",
    "print(arr_a / arr_b)\n",
    "print(np.divide(arr_a, arr_b))"
   ]
  },
  {
   "cell_type": "code",
   "execution_count": 31,
   "metadata": {},
   "outputs": [
    {
     "name": "stdout",
     "output_type": "stream",
     "text": [
      "[[                   1                   16                19683]\n",
      " [          4294967296   298023223876953125 -5108087961858080768]\n",
      " [ 6812400838176574343                    0  8677311020002933897]]\n",
      "[[                   1                   16                19683]\n",
      " [          4294967296   298023223876953125 -5108087961858080768]\n",
      " [ 6812400838176574343                    0  8677311020002933897]]\n",
      "[[ 1  4  9]\n",
      " [16 25 36]\n",
      " [49 64 81]]\n"
     ]
    }
   ],
   "source": [
    "# 특수연산 1: 거듭제곱\n",
    "print(arr_a ** arr_b)\n",
    "print(np.power(arr_a, arr_b))\n",
    "print(np.square(arr_a, arr_b)) # 제곱"
   ]
  },
  {
   "cell_type": "code",
   "execution_count": 34,
   "metadata": {},
   "outputs": [
    {
     "name": "stdout",
     "output_type": "stream",
     "text": [
      "[[1 0 0]\n",
      " [0 0 0]\n",
      " [0 0 0]]\n",
      "[[1 0 0]\n",
      " [0 0 0]\n",
      " [0 0 0]]\n"
     ]
    }
   ],
   "source": [
    "# 특수연산 2: 몫\n",
    "print(arr_a // arr_b)\n",
    "print(np.floor_divide(arr_a, arr_b))"
   ]
  },
  {
   "cell_type": "code",
   "execution_count": 33,
   "metadata": {},
   "outputs": [
    {
     "name": "stdout",
     "output_type": "stream",
     "text": [
      "[[0 2 3]\n",
      " [4 5 6]\n",
      " [7 8 9]]\n",
      "[[0 2 3]\n",
      " [4 5 6]\n",
      " [7 8 9]]\n"
     ]
    }
   ],
   "source": [
    "# 특수연산 3: 나머지\n",
    "print(arr_a % arr_b)\n",
    "print(np.mod(arr_a, arr_b))"
   ]
  },
  {
   "cell_type": "code",
   "execution_count": 35,
   "metadata": {},
   "outputs": [
    {
     "name": "stdout",
     "output_type": "stream",
     "text": [
      "[[1.         1.41421356 1.73205081]\n",
      " [2.         2.23606798 2.44948974]\n",
      " [2.64575131 2.82842712 3.        ]]\n"
     ]
    }
   ],
   "source": [
    "# 제곱근\n",
    "print(np.sqrt(arr_a))"
   ]
  },
  {
   "cell_type": "markdown",
   "metadata": {},
   "source": [
    "다음과 같은 과일 판매량 데이터가 있습니다. 각 과일의 1분기와 2분기 판매량이 주어졌을 때, NumPy 배열을 사용하여 아래 문제를 해결하세요.\n",
    "\n",
    "1. 1분기와 2분기의 과일별 총 판매량을 구하세요.\n",
    "2. 과일별 평균 판매량을 구하세요.\n",
    "\n",
    "- **데이터**:\n",
    "    - 1분기 판매량: `[200, 340, 150, 400]` (사과, 배, 오렌지, 바나나)\n",
    "    - 2분기 판매량: `[220, 300, 180, 420]` (사과, 배, 오렌지, 바나나)"
   ]
  },
  {
   "cell_type": "code",
   "execution_count": 7,
   "metadata": {},
   "outputs": [
    {
     "name": "stdout",
     "output_type": "stream",
     "text": [
      "[420 640 330 820]\n",
      "[210. 320. 165. 410.]\n"
     ]
    }
   ],
   "source": [
    "sales_q1 = np.array([200, 340, 150, 400])\n",
    "sales_q2 = np.array([220, 300, 180, 420])\n",
    "\n",
    "print(sales_q1 + sales_q2)\n",
    "\n",
    "print((sales_q1 + sales_q2) /2)\n"
   ]
  },
  {
   "cell_type": "code",
   "execution_count": 39,
   "metadata": {},
   "outputs": [
    {
     "name": "stdout",
     "output_type": "stream",
     "text": [
      "2210\n",
      "552.5\n"
     ]
    }
   ],
   "source": [
    "first = [200, 340, 150, 400]\n",
    "second = [220, 300, 180, 420]\n",
    "\n",
    "total = sum(first) + sum(second)\n",
    "print(total)\n",
    "print(total/4)"
   ]
  },
  {
   "cell_type": "markdown",
   "metadata": {},
   "source": [
    "다음 두 배열을 사용하여 각각의 요소별로 덧셈, 뺄셈, 곱셈, 나눗셈을 수행하세요.\n",
    "\n",
    "arr1 = np.array([10, 20, 30, 40])\n",
    "arr2 = np.array([1, 2, 3, 4])"
   ]
  },
  {
   "cell_type": "code",
   "execution_count": 42,
   "metadata": {},
   "outputs": [
    {
     "name": "stdout",
     "output_type": "stream",
     "text": [
      "[11 22 33 44]\n",
      "[ 9 18 27 36]\n",
      "[ 10  40  90 160]\n",
      "[10. 10. 10. 10.]\n"
     ]
    }
   ],
   "source": [
    "\n",
    "arr1 = np.array([10, 20, 30, 40])\n",
    "arr2 = np.array([1, 2, 3, 4])\n",
    "\n",
    "print(arr1 + arr2)\n",
    "print(arr1 - arr2)\n",
    "print(arr1 * arr2)\n",
    "print(arr1 / arr2)"
   ]
  },
  {
   "cell_type": "markdown",
   "metadata": {},
   "source": [
    "---"
   ]
  },
  {
   "cell_type": "markdown",
   "metadata": {},
   "source": [
    "### broadcasting 연산\n",
    "- 두 배열의 shape이 다르면 broadcasting 연산을 수행한다.\n",
    "- shape이 작은 쪽이 큰 쪽에 맞춰 확장한다.\n",
    "- 두 배열의 행 또는 열이 일치해야 확장 가능하다.\n",
    "- 크기가 1인 경우 무조건 확장 가능하다.\n",
    "- shape이 다른 경우 마지막 축부터 차원이 동일한지 비교한다."
   ]
  },
  {
   "cell_type": "code",
   "execution_count": 15,
   "metadata": {},
   "outputs": [
    {
     "data": {
      "text/plain": [
       "array([[ 5, 10, 15],\n",
       "       [20, 25, 30],\n",
       "       [35, 40, 45]])"
      ]
     },
     "execution_count": 15,
     "metadata": {},
     "output_type": "execute_result"
    }
   ],
   "source": [
    "arr_a = np.arange(1, 10).reshape(3, 3)\n",
    "arr_b = np.full_like(arr_a, 3)\n",
    "\n",
    "result_arr = arr_a * np.array([[5, 5, 5],[5, 5, 5],[5, 5, 5]]) # (3, 3)\n",
    "result_arr = arr_a * np.array([5, 5, 5]) #(3, )\n",
    "result_arr = arr_a * np.array([5]) #(1, )\n",
    "result_arr = arr_a * 5 # 스칼라값\n",
    "\n",
    "result_arr "
   ]
  },
  {
   "cell_type": "code",
   "execution_count": 17,
   "metadata": {},
   "outputs": [
    {
     "data": {
      "text/plain": [
       "array([[  6,  12, 103],\n",
       "       [  9,  15, 106]])"
      ]
     },
     "execution_count": 17,
     "metadata": {},
     "output_type": "execute_result"
    }
   ],
   "source": [
    "arr1 = np.array([[1, 2, 3], [4, 5, 6]])  # (2, 3)\n",
    "arr2 = np.array([5, 10, 100])            # (3, )\n",
    "\n",
    "arr1 + arr2"
   ]
  },
  {
   "cell_type": "code",
   "execution_count": 19,
   "metadata": {},
   "outputs": [
    {
     "data": {
      "text/plain": [
       "array([[101, 102, 103],\n",
       "       [204, 205, 206]])"
      ]
     },
     "execution_count": 19,
     "metadata": {},
     "output_type": "execute_result"
    }
   ],
   "source": [
    "arr1 = np.array([[1, 2, 3], [4, 5, 6]]) # (2, 3)\n",
    "arr2 = np.array([[100], [200]]) # (2, 1)\n",
    "\n",
    "arr1 + arr2"
   ]
  },
  {
   "cell_type": "code",
   "execution_count": 20,
   "metadata": {},
   "outputs": [
    {
     "name": "stdout",
     "output_type": "stream",
     "text": [
      "(3, 1) (3, 1)\n",
      "[[5 6 7]\n",
      " [6 7 8]\n",
      " [7 8 9]]\n"
     ]
    }
   ],
   "source": [
    "arr1 = np.array([1, 2, 3])        # (3, )\n",
    "arr2 = np.array([[4], [5], [6]])  # (3, 1)\n",
    "print(arr2.shape, arr2.shape)\n",
    "print(arr1 + arr2)                # (3, 3)"
   ]
  },
  {
   "cell_type": "code",
   "execution_count": 23,
   "metadata": {},
   "outputs": [
    {
     "ename": "ValueError",
     "evalue": "operands could not be broadcast together with shapes (2,3) (2,) ",
     "output_type": "error",
     "traceback": [
      "\u001b[1;31m---------------------------------------------------------------------------\u001b[0m",
      "\u001b[1;31mValueError\u001b[0m                                Traceback (most recent call last)",
      "Cell \u001b[1;32mIn[23], line 4\u001b[0m\n\u001b[0;32m      1\u001b[0m arr1 \u001b[38;5;241m=\u001b[39m np\u001b[38;5;241m.\u001b[39marray([[\u001b[38;5;241m1\u001b[39m, \u001b[38;5;241m2\u001b[39m, \u001b[38;5;241m3\u001b[39m], [\u001b[38;5;241m4\u001b[39m, \u001b[38;5;241m5\u001b[39m, \u001b[38;5;241m6\u001b[39m]]) \u001b[38;5;66;03m# (2, 3)\u001b[39;00m\n\u001b[0;32m      2\u001b[0m arr2 \u001b[38;5;241m=\u001b[39m np\u001b[38;5;241m.\u001b[39marray([\u001b[38;5;241m1\u001b[39m, \u001b[38;5;241m2\u001b[39m]) \u001b[38;5;66;03m# (2, )\u001b[39;00m\n\u001b[1;32m----> 4\u001b[0m \u001b[38;5;28mprint\u001b[39m(\u001b[43marr1\u001b[49m\u001b[43m \u001b[49m\u001b[38;5;241;43m+\u001b[39;49m\u001b[43m \u001b[49m\u001b[43marr2\u001b[49m)\n",
      "\u001b[1;31mValueError\u001b[0m: operands could not be broadcast together with shapes (2,3) (2,) "
     ]
    }
   ],
   "source": [
    "arr1 = np.array([[1, 2, 3], [4, 5, 6]]) # (2, 3)\n",
    "arr2 = np.array([1, 2]) # (2, )\n",
    "\n",
    "print(arr1 + arr2)"
   ]
  },
  {
   "cell_type": "markdown",
   "metadata": {},
   "source": [
    "### 행렬 곱셈\n",
    "- 점곱연산 (Dot Product / 내적)\n",
    "    - 두 행렬 A, B의 곱셈은 첫 번째 행렬 A의 행과 두 번쨰 행렬 B의 열 간의 곱셈을 수행한다.\n",
    "    - 첫 번째 행렬 A의 열의 수와 두 번째 행렬 B의 행의 수가 같아야 한다.\n",
    "    - 연산 결관의 shape은 (첫 번째 행렬A의 행수, 두 번째 행렬 B의 열수)이다."
   ]
  },
  {
   "cell_type": "code",
   "execution_count": 28,
   "metadata": {},
   "outputs": [
    {
     "name": "stdout",
     "output_type": "stream",
     "text": [
      "[[ 5 12]\n",
      " [21 32]]\n",
      "(2, 2) (2, 2) (2, 2)\n",
      "[[19 22]\n",
      " [43 50]]\n",
      "(2, 2)\n"
     ]
    }
   ],
   "source": [
    "arr1 = np.array([[1, 2], [3, 4]])\n",
    "arr2 = np.array([[5, 6], [7, 8]])\n",
    "print(arr1 * arr2)\n",
    "print(arr1.shape, arr2.shape, (arr1*arr2).shape)\n",
    "\n",
    "print(np.dot(arr1, arr2))\n",
    "print(np.dot(arr1, arr2).shape)"
   ]
  },
  {
   "cell_type": "code",
   "execution_count": 38,
   "metadata": {},
   "outputs": [
    {
     "name": "stdout",
     "output_type": "stream",
     "text": [
      "[[ 58  64]\n",
      " [139 154]]\n",
      "[[ 39  54  69]\n",
      " [ 49  68  87]\n",
      " [ 59  82 105]]\n"
     ]
    }
   ],
   "source": [
    "arr3 = np.array([[1, 2, 3], [4, 5, 6]])\n",
    "arr4 = np.array([[7, 8], [9, 10], [11, 12]])\n",
    "arr3.shape, arr4.shape\n",
    "print(np.dot(arr3, arr4)) # (2, 3) * (3, 2) => (2, 2)\n",
    "print(np.dot(arr4, arr3)) # (3, 2) * (2, 3) => (3, 3)"
   ]
  },
  {
   "cell_type": "code",
   "execution_count": 39,
   "metadata": {},
   "outputs": [],
   "source": [
    "# (100, 20000) (20000, 100) : (100, 100)\n",
    "# (20000, 1000) (100, 20000) : (20000, 20000)\n",
    "# (100, 20000) (100, 20000) : (2, ) : 내적 안됨"
   ]
  },
  {
   "cell_type": "code",
   "execution_count": 46,
   "metadata": {},
   "outputs": [
    {
     "name": "stdout",
     "output_type": "stream",
     "text": [
      "[[1 2 3]\n",
      " [4 5 6]]\n",
      "---------\n",
      "[[1 4]\n",
      " [2 5]\n",
      " [3 6]]\n",
      "---------\n",
      "[[14 32]\n",
      " [32 77]]\n",
      "---------\n",
      "[[14 32]\n",
      " [32 77]]\n"
     ]
    }
   ],
   "source": [
    "arr = np.array([[1, 2, 3], [4, 5, 6]])\n",
    "\n",
    "# @\n",
    "# print(arr @ arr)\n",
    "\n",
    "# .T\n",
    "print(arr)\n",
    "print(\"---------\")\n",
    "print(arr.T)  #  arr.T = arr의 전치행렬 (행-열을 교환)\n",
    "print(\"---------\")\n",
    "print(arr @ arr.T)\n",
    "print(\"---------\")\n",
    "#matmul()\n",
    "print(np.matmul(arr, arr.T))"
   ]
  },
  {
   "cell_type": "markdown",
   "metadata": {},
   "source": [
    "다음 두 배열 간의 내적 연산을 수행하세요."
   ]
  },
  {
   "cell_type": "code",
   "execution_count": 49,
   "metadata": {},
   "outputs": [
    {
     "name": "stdout",
     "output_type": "stream",
     "text": [
      "32\n"
     ]
    }
   ],
   "source": [
    "arr1 = np.array([1, 2, 3])\n",
    "arr2 = np.array([4, 5, 6])\n",
    "\n",
    "print(np.dot(arr1, arr2))"
   ]
  },
  {
   "cell_type": "markdown",
   "metadata": {},
   "source": [
    "아래의 2차원 배열과 1차원 배열을 브로드캐스팅하여 더하세요."
   ]
  },
  {
   "cell_type": "code",
   "execution_count": 51,
   "metadata": {},
   "outputs": [
    {
     "name": "stdout",
     "output_type": "stream",
     "text": [
      "[[11 22 33]\n",
      " [14 25 36]]\n"
     ]
    }
   ],
   "source": [
    "arr2d = np.array([[1, 2, 3], [4, 5, 6]])\n",
    "arr1d = np.array([10, 20, 30])\n",
    "\n",
    "print(np.add(arr2d, arr1d))"
   ]
  },
  {
   "cell_type": "markdown",
   "metadata": {},
   "source": [
    "---"
   ]
  },
  {
   "cell_type": "markdown",
   "metadata": {},
   "source": [
    "### 연산 함수 및 집계 함수"
   ]
  },
  {
   "cell_type": "code",
   "execution_count": 52,
   "metadata": {},
   "outputs": [],
   "source": [
    "arr_negative = np.array([[-1, -2], [-100, -200]])\n",
    "arr_float = np.array([[1.234, 5.678], [7.89, 10.123]])\n",
    "arr = np.arange(1, 7).reshape(2, 3)"
   ]
  },
  {
   "cell_type": "code",
   "execution_count": 53,
   "metadata": {},
   "outputs": [
    {
     "data": {
      "text/plain": [
       "array([[  1,   2],\n",
       "       [100, 200]])"
      ]
     },
     "execution_count": 53,
     "metadata": {},
     "output_type": "execute_result"
    }
   ],
   "source": [
    "# 절대값\n",
    "\n",
    "np.abs(arr_negative)"
   ]
  },
  {
   "cell_type": "code",
   "execution_count": 56,
   "metadata": {},
   "outputs": [
    {
     "name": "stdout",
     "output_type": "stream",
     "text": [
      "[[ 2.  6.]\n",
      " [ 8. 11.]]\n",
      "[[ 1.  6.]\n",
      " [ 8. 10.]]\n",
      "[[ 1.23  5.68]\n",
      " [ 7.89 10.12]]\n"
     ]
    }
   ],
   "source": [
    "# 올림/ 반올림\n",
    "print(np.ceil(arr_float))\n",
    "print(np.round(arr_float))\n",
    "print(np.round(arr_float, 2))"
   ]
  },
  {
   "cell_type": "code",
   "execution_count": 59,
   "metadata": {},
   "outputs": [
    {
     "name": "stdout",
     "output_type": "stream",
     "text": [
      "[[ 1.  5.]\n",
      " [ 7. 10.]]\n",
      "[[ 1.  5.]\n",
      " [ 7. 10.]]\n"
     ]
    }
   ],
   "source": [
    "arr_float = np.array([[1.234, 5.678], [7.89, 10.123]])\n",
    "\n",
    "# 내림\n",
    "print(np.floor(arr_float))\n",
    "\n",
    "# 버림 (절삭)\n",
    "print(np.trunc(arr_float))"
   ]
  },
  {
   "cell_type": "code",
   "execution_count": 63,
   "metadata": {},
   "outputs": [
    {
     "name": "stdout",
     "output_type": "stream",
     "text": [
      "[[1 2 3]\n",
      " [4 5 6]]\n",
      "6\n",
      "1\n",
      "[4 5 6]\n",
      "[1 4]\n"
     ]
    }
   ],
   "source": [
    "print(arr)\n",
    "print(np.max(arr))\n",
    "print(np.min(arr))\n",
    "\n",
    "print(np.max(arr, axis=0)) # 행 기준 (행을 고정하고, 같은 열에서 가장 큰 값)\n",
    "print(np.min(arr, axis=1)) # 열 기준 (열을 고정하고, 같은 행에서 가장 작은 값)"
   ]
  },
  {
   "cell_type": "code",
   "execution_count": 71,
   "metadata": {},
   "outputs": [
    {
     "name": "stdout",
     "output_type": "stream",
     "text": [
      "21\n",
      "21\n",
      "[[1 2 3]\n",
      " [4 5 6]]\n",
      "[5 7 9]\n",
      "[ 6 15]\n"
     ]
    }
   ],
   "source": [
    "# 합계\n",
    "print(arr.sum())  #axis=Npne\n",
    "print(np.sum(arr))\n",
    "\n",
    "print(arr)\n",
    "print(arr.sum(axis=0))  # 행 기준 (행방향 덧셈)\n",
    "print(arr.sum(axis=1))  # 열 기준 (열 방향 덧셈)\n"
   ]
  },
  {
   "cell_type": "code",
   "execution_count": 72,
   "metadata": {},
   "outputs": [
    {
     "name": "stdout",
     "output_type": "stream",
     "text": [
      "3.5\n",
      "3.5\n",
      "[2.5 3.5 4.5]\n",
      "[2. 5.]\n"
     ]
    }
   ],
   "source": [
    "print(arr.mean())\n",
    "print(np.mean(arr))\n",
    "\n",
    "print(arr.mean(axis=0))\n",
    "print(arr.mean(axis=1))\n"
   ]
  },
  {
   "cell_type": "markdown",
   "metadata": {},
   "source": [
    "1. 배열에서 20보다 큰 값을 찾아 출력하세요.\n",
    "2. 배열의 합계, 최대값, 최소값, 평균을 계산하세요."
   ]
  },
  {
   "cell_type": "code",
   "execution_count": 77,
   "metadata": {},
   "outputs": [
    {
     "name": "stdout",
     "output_type": "stream",
     "text": [
      "[30 40 50]\n",
      "150\n",
      "50\n",
      "10\n",
      "30.0\n"
     ]
    }
   ],
   "source": [
    "arr = np.array([10, 20, 30, 40, 50])\n",
    "\n",
    "print(arr[arr > 20])\n",
    "print(np.sum(arr))\n",
    "print(np.max(arr))\n",
    "print(np.min(arr))\n",
    "print(np.average(arr))"
   ]
  }
 ],
 "metadata": {
  "kernelspec": {
   "display_name": "Python 3",
   "language": "python",
   "name": "python3"
  },
  "language_info": {
   "codemirror_mode": {
    "name": "ipython",
    "version": 3
   },
   "file_extension": ".py",
   "mimetype": "text/x-python",
   "name": "python",
   "nbconvert_exporter": "python",
   "pygments_lexer": "ipython3",
   "version": "3.12.8"
  }
 },
 "nbformat": 4,
 "nbformat_minor": 2
}
