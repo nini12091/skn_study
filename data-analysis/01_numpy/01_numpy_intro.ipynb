{
 "cells": [
  {
   "cell_type": "markdown",
   "metadata": {},
   "source": [
    "# Data Science\n",
    " - 방대한 양의 데이터를 수집, 분석, 시각화 처리하여 유의미한 정보를 추출하는 것\n",
    " - 파이썬 패키지로는 numpy, pandas, matplotlib, seaborn 등이 주로 사용됨\n"
   ]
  },
  {
   "cell_type": "markdown",
   "metadata": {},
   "source": [
    "---"
   ]
  },
  {
   "cell_type": "markdown",
   "metadata": {},
   "source": [
    "## numpy\n",
    "- 대규모의 다차원 배열, 수치 연산을 지원하는 라이브러리"
   ]
  },
  {
   "cell_type": "code",
   "execution_count": 1,
   "metadata": {},
   "outputs": [
    {
     "name": "stdout",
     "output_type": "stream",
     "text": [
      "Requirement already satisfied: numpy in c:\\users\\playdata\\appdata\\local\\anaconda3\\envs\\sky_env\\lib\\site-packages (2.2.1)\n"
     ]
    }
   ],
   "source": [
    "!pip install numpy"
   ]
  },
  {
   "cell_type": "markdown",
   "metadata": {},
   "source": [
    "## 다차원 배열 생성"
   ]
  },
  {
   "cell_type": "code",
   "execution_count": 2,
   "metadata": {},
   "outputs": [],
   "source": [
    "import numpy as np\n"
   ]
  },
  {
   "cell_type": "code",
   "execution_count": 5,
   "metadata": {},
   "outputs": [
    {
     "name": "stdout",
     "output_type": "stream",
     "text": [
      "[2025    1    9   11   34] <class 'numpy.ndarray'>\n",
      "[2025, 1, 9, 11, 34] <class 'list'>\n"
     ]
    }
   ],
   "source": [
    "arr = np.array([2025, 1, 9, 11, 34])\n",
    "today_arr = [2025,1, 9, 11, 34]\n",
    "\n",
    "print(arr, type(arr))\n",
    "print(today_arr, type(today_arr))"
   ]
  },
  {
   "cell_type": "code",
   "execution_count": 7,
   "metadata": {},
   "outputs": [
    {
     "name": "stdout",
     "output_type": "stream",
     "text": [
      "[1 2 3 4 5] <class 'numpy.ndarray'>\n"
     ]
    }
   ],
   "source": [
    "arr = np.array((1, 2, 3, 4, 5))\n",
    "\n",
    "print(arr, type(arr))"
   ]
  },
  {
   "cell_type": "code",
   "execution_count": 8,
   "metadata": {},
   "outputs": [
    {
     "name": "stdout",
     "output_type": "stream",
     "text": [
      "(5,)\n",
      "1\n",
      "5\n",
      "int64\n"
     ]
    }
   ],
   "source": [
    "arr = np.array([2025, 1, 9, 11, 34])\n",
    "\n",
    "print(arr.shape)\n",
    "print(arr.ndim)\n",
    "print(arr.size)\n",
    "print(arr.dtype)"
   ]
  },
  {
   "cell_type": "code",
   "execution_count": 13,
   "metadata": {},
   "outputs": [
    {
     "name": "stdout",
     "output_type": "stream",
     "text": [
      "[[1 2 3]\n",
      " [4 5 6]]\n",
      "[[1, 2, 3], [4, 5, 6]]\n",
      "(2, 3)\n",
      "2\n",
      "6\n",
      "int64\n"
     ]
    }
   ],
   "source": [
    "arr_2d = np.array([[1,2,3],[4,5,6]])\n",
    "print(arr_2d)\n",
    "print([[1,2,3],[4,5,6]])\n",
    "\n",
    "print(arr_2d.shape)\n",
    "print(arr_2d.ndim)\n",
    "print(arr_2d.size)\n",
    "print(arr_2d.dtype)"
   ]
  },
  {
   "cell_type": "code",
   "execution_count": 17,
   "metadata": {},
   "outputs": [
    {
     "name": "stdout",
     "output_type": "stream",
     "text": [
      "int64\n",
      "float64\n",
      "bool\n",
      "<U9\n"
     ]
    }
   ],
   "source": [
    "arr_int = np.array([2025, 1, 9])\n",
    "print(arr_int.dtype)\n",
    "\n",
    "arr_float = np.array([1.234, 2.445, 3.566, 10]) # ndarray는 하나의 타입만 저장 가능\n",
    "print(arr_float.dtype)\n",
    "\n",
    "arr_bool = np.array([True, True, False, False])\n",
    "print(arr_bool.dtype)\n",
    "\n",
    "arr_str = np.array(['Hello', 'World', 'numpu-lib', 'great'])\n",
    "print(arr_str.dtype) # <U9 : 유니코드 9글자까지 저장 가능한 문자열"
   ]
  },
  {
   "cell_type": "code",
   "execution_count": 23,
   "metadata": {},
   "outputs": [
    {
     "data": {
      "text/plain": [
       "(array([1, 5, 4, 2]), dtype('int64'))"
      ]
     },
     "execution_count": 23,
     "metadata": {},
     "output_type": "execute_result"
    }
   ],
   "source": [
    "# 형변환\n",
    "arr = np.array([1.234, 5.345, 4, 2])\n",
    "arr = np.array([1.234, 5.345, 4, 2], dtype=float)\n",
    "arr = np.array([1.234, 5.345, 4, 2], dtype=int)\n",
    "\n",
    "arr = np.array([1.234, 5.345, 4, 2])\n",
    "arr = arr.astype(int)\n",
    "arr, arr.dtype"
   ]
  },
  {
   "cell_type": "markdown",
   "metadata": {},
   "source": [
    "#### python list와 ndarrary의 차이\n",
    "- ndarray는 동일한 자료형만 저장 가능\n",
    "- ndarray는 다차원인 경우, 중첩 배열은 동일한 크기만 허용\n",
    "- 형태/길이를 확인하는 방법의 차이\n",
    "    - python list : len()\n",
    "    - ndarrayL ndarray.shape, ndarray.ndim, ndarray.dtype"
   ]
  },
  {
   "cell_type": "code",
   "execution_count": 26,
   "metadata": {},
   "outputs": [
    {
     "name": "stdout",
     "output_type": "stream",
     "text": [
      "[2025, 1, 9, 'numpy', True]\n",
      "[[1, 2, 3], [4, 5], [6]]\n",
      "3\n",
      "3\n"
     ]
    }
   ],
   "source": [
    "my_list = [2025, 1, 9, 'numpy', True]\n",
    "print(my_list)\n",
    "\n",
    "my_list = [[1,2,3],[4,5],[6]]\n",
    "print(my_list)\n",
    "print(len(my_list))\n",
    "print(len(my_list[0]))\n"
   ]
  },
  {
   "cell_type": "code",
   "execution_count": 28,
   "metadata": {},
   "outputs": [
    {
     "ename": "ValueError",
     "evalue": "setting an array element with a sequence. The requested array has an inhomogeneous shape after 1 dimensions. The detected shape was (3,) + inhomogeneous part.",
     "output_type": "error",
     "traceback": [
      "\u001b[1;31m---------------------------------------------------------------------------\u001b[0m",
      "\u001b[1;31mValueError\u001b[0m                                Traceback (most recent call last)",
      "Cell \u001b[1;32mIn[28], line 2\u001b[0m\n\u001b[0;32m      1\u001b[0m arr \u001b[38;5;241m=\u001b[39m np\u001b[38;5;241m.\u001b[39marray([\u001b[38;5;241m2024\u001b[39m, \u001b[38;5;241m1\u001b[39m, \u001b[38;5;241m9\u001b[39m, \u001b[38;5;124m'\u001b[39m\u001b[38;5;124mnumpy\u001b[39m\u001b[38;5;124m'\u001b[39m, \u001b[38;5;28;01mTrue\u001b[39;00m])\n\u001b[1;32m----> 2\u001b[0m arr \u001b[38;5;241m=\u001b[39m \u001b[43mnp\u001b[49m\u001b[38;5;241;43m.\u001b[39;49m\u001b[43marray\u001b[49m\u001b[43m(\u001b[49m\u001b[43m[\u001b[49m\u001b[43m[\u001b[49m\u001b[38;5;241;43m1\u001b[39;49m\u001b[43m,\u001b[49m\u001b[38;5;241;43m2\u001b[39;49m\u001b[43m,\u001b[49m\u001b[38;5;241;43m3\u001b[39;49m\u001b[43m]\u001b[49m\u001b[43m,\u001b[49m\u001b[43m[\u001b[49m\u001b[38;5;241;43m4\u001b[39;49m\u001b[43m,\u001b[49m\u001b[38;5;241;43m5\u001b[39;49m\u001b[43m]\u001b[49m\u001b[43m,\u001b[49m\u001b[43m[\u001b[49m\u001b[38;5;241;43m6\u001b[39;49m\u001b[43m]\u001b[49m\u001b[43m]\u001b[49m\u001b[43m)\u001b[49m\n\u001b[0;32m      4\u001b[0m \u001b[38;5;28mprint\u001b[39m(arr\u001b[38;5;241m.\u001b[39mshape)\n\u001b[0;32m      5\u001b[0m \u001b[38;5;28mprint\u001b[39m(arr\u001b[38;5;241m.\u001b[39mndim)\n",
      "\u001b[1;31mValueError\u001b[0m: setting an array element with a sequence. The requested array has an inhomogeneous shape after 1 dimensions. The detected shape was (3,) + inhomogeneous part."
     ]
    }
   ],
   "source": [
    "arr = np.array([2024, 1, 9, 'numpy', True])\n",
    "arr = np.array([[1,2,3],[4,5],[6]])\n",
    "\n",
    "print(arr.shape)\n",
    "print(arr.ndim)\n",
    "print(arr.size)\n",
    "print(arr.dtype)"
   ]
  },
  {
   "cell_type": "markdown",
   "metadata": {},
   "source": [
    "## 특정 수로 초기화된 ndarray 생성"
   ]
  },
  {
   "cell_type": "code",
   "execution_count": 36,
   "metadata": {},
   "outputs": [
    {
     "name": "stdout",
     "output_type": "stream",
     "text": [
      "[[0. 0. 0.]\n",
      " [0. 0. 0.]\n",
      " [0. 0. 0.]]\n",
      "[[1. 1.]\n",
      " [1. 1.]\n",
      " [1. 1.]\n",
      " [1. 1.]\n",
      " [1. 1.]]\n",
      "[[9]\n",
      " [9]\n",
      " [9]\n",
      " [9]]\n",
      "[9 9 9 9]\n"
     ]
    }
   ],
   "source": [
    "# zeros\n",
    "arr = np.zeros((3, 3))\n",
    "print(arr)\n",
    "\n",
    "# ones\n",
    "arr = np.ones((5, 2))\n",
    "print(arr)\n",
    "\n",
    "# full\n",
    "arr = np.full((4, 1), 9)\n",
    "print(arr)\n",
    "\n",
    "arr = np.full((4, ), 9)\n",
    "print(arr)"
   ]
  },
  {
   "cell_type": "code",
   "execution_count": 40,
   "metadata": {},
   "outputs": [
    {
     "name": "stdout",
     "output_type": "stream",
     "text": [
      "(2, 2)\n",
      "[[0 0]\n",
      " [0 0]]\n",
      "[[1 1]\n",
      " [1 1]]\n",
      "[[9 9]\n",
      " [9 9]]\n"
     ]
    }
   ],
   "source": [
    "arr = np.array([[10, 20], [30, 40]])\n",
    "print(arr.shape)\n",
    "\n",
    "# zeros_like\n",
    "print(np.zeros_like(arr))\n",
    "\n",
    "# ones_like\n",
    "print(np.ones_like(arr))\n",
    "\n",
    "# full_like\n",
    "print(np.full_like(arr, 9))"
   ]
  },
  {
   "cell_type": "markdown",
   "metadata": {},
   "source": [
    "## 수열 생성\n",
    "- np.arange(start, end, step)\n",
    "    - start : 시작하는 숫자\n",
    "    - end : 끝나는 숫자 + 1\n",
    "    - step : 건너뛰는 숫자"
   ]
  },
  {
   "cell_type": "code",
   "execution_count": 44,
   "metadata": {},
   "outputs": [
    {
     "name": "stdout",
     "output_type": "stream",
     "text": [
      "[0 1 2 3 4 5 6 7 8 9]\n"
     ]
    }
   ],
   "source": [
    "arr = np.arange(1, 10)\n",
    "arr = np.arange(1, 10, .1)\n",
    "arr = np.arange(10)\n",
    "print(arr)"
   ]
  },
  {
   "cell_type": "markdown",
   "metadata": {},
   "source": [
    "- np.linspace(start, end, num)\n",
    "    - start : 시작하는 숫자\n",
    "    - end : 끝나는 숫자\n",
    "    - num : 결과로 만들어진 수열의 요소 갯수"
   ]
  },
  {
   "cell_type": "code",
   "execution_count": 51,
   "metadata": {},
   "outputs": [
    {
     "name": "stdout",
     "output_type": "stream",
     "text": [
      "[ 0.          0.20408163  0.40816327  0.6122449   0.81632653  1.02040816\n",
      "  1.2244898   1.42857143  1.63265306  1.83673469  2.04081633  2.24489796\n",
      "  2.44897959  2.65306122  2.85714286  3.06122449  3.26530612  3.46938776\n",
      "  3.67346939  3.87755102  4.08163265  4.28571429  4.48979592  4.69387755\n",
      "  4.89795918  5.10204082  5.30612245  5.51020408  5.71428571  5.91836735\n",
      "  6.12244898  6.32653061  6.53061224  6.73469388  6.93877551  7.14285714\n",
      "  7.34693878  7.55102041  7.75510204  7.95918367  8.16326531  8.36734694\n",
      "  8.57142857  8.7755102   8.97959184  9.18367347  9.3877551   9.59183673\n",
      "  9.79591837 10.        ]\n"
     ]
    }
   ],
   "source": [
    "arr = np.linspace(0, 10, 5)\n",
    "arr = np.linspace(0, 10)\n",
    "# arr = np.linspace(10)\n",
    "print(arr)"
   ]
  },
  {
   "cell_type": "markdown",
   "metadata": {},
   "source": [
    "- np.logspace(start_ext, end_ext, num, base)"
   ]
  },
  {
   "cell_type": "markdown",
   "metadata": {},
   "source": [
    "실습 문제"
   ]
  },
  {
   "cell_type": "markdown",
   "metadata": {},
   "source": [
    "NumPy를 사용하여 다음과 같은 배열을 생성해 보세요.\n",
    "\n",
    "1. 크기가 4x3인 모든 값이 0인 배열\n",
    "2. 크기가 3x3인 모든 값이 1인 배열\n",
    "3. 0에서 20까지 5씩 증가하는 값으로 구성된 배열\n",
    "4. 0과 1 사이의 4개의 등간격 값을 가진 배열\n",
    "5. *크기가 2x2인 정규 분포로 구성된 배열*"
   ]
  },
  {
   "cell_type": "code",
   "execution_count": 66,
   "metadata": {},
   "outputs": [
    {
     "name": "stdout",
     "output_type": "stream",
     "text": [
      "[[0. 0. 0.]\n",
      " [0. 0. 0.]\n",
      " [0. 0. 0.]\n",
      " [0. 0. 0.]]\n"
     ]
    }
   ],
   "source": [
    "# 1\n",
    "\n",
    "arr = np.zeros((4, 3))\n",
    "print(arr)"
   ]
  },
  {
   "cell_type": "code",
   "execution_count": 59,
   "metadata": {},
   "outputs": [
    {
     "name": "stdout",
     "output_type": "stream",
     "text": [
      "[[1. 1. 1.]\n",
      " [1. 1. 1.]\n",
      " [1. 1. 1.]]\n"
     ]
    }
   ],
   "source": [
    "# 2\n",
    "\n",
    "arr = np.ones((3, 3))\n",
    "print(arr)"
   ]
  },
  {
   "cell_type": "code",
   "execution_count": 67,
   "metadata": {},
   "outputs": [
    {
     "data": {
      "text/plain": [
       "array([ 0,  5, 10, 15, 20])"
      ]
     },
     "execution_count": 67,
     "metadata": {},
     "output_type": "execute_result"
    }
   ],
   "source": [
    "# 3\n",
    "\n",
    "arr = np.arange(0, 25, 5)\n",
    "arr"
   ]
  },
  {
   "cell_type": "code",
   "execution_count": 63,
   "metadata": {},
   "outputs": [
    {
     "data": {
      "text/plain": [
       "array([0.        , 0.33333333, 0.66666667, 1.        ])"
      ]
     },
     "execution_count": 63,
     "metadata": {},
     "output_type": "execute_result"
    }
   ],
   "source": [
    "# 4\n",
    "\n",
    "arr = np.linspace(0, 1, 4)\n",
    "arr"
   ]
  },
  {
   "cell_type": "code",
   "execution_count": 79,
   "metadata": {},
   "outputs": [
    {
     "name": "stdout",
     "output_type": "stream",
     "text": [
      "[[-0.97866284  0.48447494]\n",
      " [ 0.33517116  0.87636672]]\n",
      "[[-0.88838699 -0.41124575]\n",
      " [-1.74227876  0.3313011 ]]\n"
     ]
    }
   ],
   "source": [
    "# 5\n",
    "arr = np.random.randn(2, 2)\n",
    "print(arr)\n",
    "\n",
    "arr = np.random.normal(loc=0, scale=1, size=(2, 2))\n",
    "print(arr)"
   ]
  }
 ],
 "metadata": {
  "kernelspec": {
   "display_name": "Python 3",
   "language": "python",
   "name": "python3"
  },
  "language_info": {
   "codemirror_mode": {
    "name": "ipython",
    "version": 3
   },
   "file_extension": ".py",
   "mimetype": "text/x-python",
   "name": "python",
   "nbconvert_exporter": "python",
   "pygments_lexer": "ipython3",
   "version": "3.12.8"
  }
 },
 "nbformat": 4,
 "nbformat_minor": 2
}
