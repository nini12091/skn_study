{
 "cells": [
  {
   "cell_type": "code",
   "execution_count": 5,
   "metadata": {},
   "outputs": [
    {
     "name": "stdout",
     "output_type": "stream",
     "text": [
      "0      Alice\n",
      "1        Bob\n",
      "2    Charlie\n",
      "3      David\n",
      "Name: Name, dtype: object\n"
     ]
    }
   ],
   "source": [
    "import pandas as pd\n",
    "\n",
    "data = {\n",
    "    'Name': ['Alice', 'Bob', 'Charlie', 'David'],\n",
    "    'Age': [25, 30, 35, 40],\n",
    "    'City': ['New York', 'Los Angeles', 'Chicago', 'Houston']\n",
    "}\n",
    "\n",
    "df = pd.DataFrame(data)\n",
    "\n",
    "print(df['Name'])"
   ]
  },
  {
   "cell_type": "code",
   "execution_count": 7,
   "metadata": {},
   "outputs": [
    {
     "name": "stdout",
     "output_type": "stream",
     "text": [
      "      Name  Age         City Country\n",
      "0    Alice   25     New York     USA\n",
      "1      Bob   30  Los Angeles     USA\n",
      "2  Charlie   35      Chicago     USA\n",
      "3    David   40      Houston     USA\n"
     ]
    }
   ],
   "source": [
    "df['Country'] = ['USA', 'USA', 'USA', 'USA']\n",
    "print(df)"
   ]
  },
  {
   "cell_type": "code",
   "execution_count": 8,
   "metadata": {},
   "outputs": [
    {
     "name": "stdout",
     "output_type": "stream",
     "text": [
      "      Name  Age           City Country\n",
      "0    Alice   25       New York     USA\n",
      "1      Bob   30    Los Angeles     USA\n",
      "2  Charlie   35        Chicago     USA\n",
      "3    David   40        Houston     USA\n",
      "4      Eve   28  San Francisco     USA\n"
     ]
    }
   ],
   "source": [
    "df.loc[4] = ['Eve', 28, 'San Francisco', 'USA']\n",
    "print(df)"
   ]
  },
  {
   "cell_type": "code",
   "execution_count": 9,
   "metadata": {},
   "outputs": [
    {
     "name": "stdout",
     "output_type": "stream",
     "text": [
      "      Name  Age           City Country\n",
      "0    Alice   25       New York     USA\n",
      "1      Bob   31    Los Angeles     USA\n",
      "2  Charlie   35        Chicago     USA\n",
      "3    David   40        Houston     USA\n",
      "4      Eve   28  San Francisco     USA\n"
     ]
    }
   ],
   "source": [
    "df.loc[1, 'Age'] = 31\n",
    "print(df)"
   ]
  },
  {
   "cell_type": "code",
   "execution_count": 10,
   "metadata": {},
   "outputs": [
    {
     "name": "stdout",
     "output_type": "stream",
     "text": [
      "Name        object\n",
      "Age        float64\n",
      "City        object\n",
      "Country     object\n",
      "dtype: object\n"
     ]
    }
   ],
   "source": [
    "df['Age'] = df['Age'].astype(float)\n",
    "print(df.dtypes)"
   ]
  },
  {
   "cell_type": "code",
   "execution_count": 12,
   "metadata": {},
   "outputs": [
    {
     "name": "stdout",
     "output_type": "stream",
     "text": [
      "      Name   Age         City Country\n",
      "1      Bob  31.0  Los Angeles     USA\n",
      "2  Charlie  35.0      Chicago     USA\n",
      "3    David  40.0      Houston     USA\n"
     ]
    }
   ],
   "source": [
    "df_filtered = df[df['Age'] >= 30]\n",
    "print(df_filtered)"
   ]
  },
  {
   "cell_type": "code",
   "execution_count": 13,
   "metadata": {},
   "outputs": [
    {
     "name": "stdout",
     "output_type": "stream",
     "text": [
      "      Name   Age     City Country\n",
      "2  Charlie  35.0  Chicago     USA\n"
     ]
    }
   ],
   "source": [
    "df_filtered = df[(df['Age'] >= 30) & (df['City'] == 'Chicago')]\n",
    "print(df_filtered)"
   ]
  },
  {
   "cell_type": "code",
   "execution_count": 14,
   "metadata": {},
   "outputs": [
    {
     "name": "stdout",
     "output_type": "stream",
     "text": [
      "                  Value\n",
      "Group  Subgroup        \n",
      "Group1 Subgroup1     10\n",
      "       Subgroup2     20\n",
      "Group2 Subgroup1     30\n",
      "       Subgroup2     40\n"
     ]
    }
   ],
   "source": [
    "arrays = [\n",
    "    ['Group1', 'Group1', 'Group2', 'Group2'],\n",
    "    ['Subgroup1', 'Subgroup2', 'Subgroup1', 'Subgroup2']\n",
    "]\n",
    "index = pd.MultiIndex.from_arrays(arrays, names=('Group', 'Subgroup'))\n",
    "\n",
    "data = {'Value': [10, 20, 30, 40]}\n",
    "df_multi = pd.DataFrame(data, index=index)\n",
    "print(df_multi)"
   ]
  },
  {
   "cell_type": "code",
   "execution_count": 15,
   "metadata": {},
   "outputs": [
    {
     "name": "stdout",
     "output_type": "stream",
     "text": [
      "           Value\n",
      "Subgroup        \n",
      "Subgroup1     10\n",
      "Subgroup2     20\n"
     ]
    }
   ],
   "source": [
    "print(df_multi.loc['Group1'])"
   ]
  },
  {
   "cell_type": "code",
   "execution_count": 20,
   "metadata": {},
   "outputs": [
    {
     "name": "stdout",
     "output_type": "stream",
     "text": [
      "      Name   Age           City Country\n",
      "0    Alice  25.0       New York     USA\n",
      "1      Bob  31.0    Los Angeles     USA\n",
      "2  Charlie  35.0        Chicago     USA\n",
      "3    David  40.0        Houston     USA\n",
      "4      Eve  28.0  San Francisco     USA\n",
      "Bob\n"
     ]
    }
   ],
   "source": [
    "print(df)\n",
    "print(df.loc[1, 'Name'])"
   ]
  },
  {
   "cell_type": "code",
   "execution_count": 21,
   "metadata": {},
   "outputs": [
    {
     "name": "stdout",
     "output_type": "stream",
     "text": [
      "Bob\n"
     ]
    }
   ],
   "source": [
    "print(df.iloc[1, 0])"
   ]
  },
  {
   "cell_type": "code",
   "execution_count": 22,
   "metadata": {},
   "outputs": [
    {
     "name": "stdout",
     "output_type": "stream",
     "text": [
      "Bob\n"
     ]
    }
   ],
   "source": [
    "print(df.at[1, 'Name'])"
   ]
  },
  {
   "cell_type": "code",
   "execution_count": 23,
   "metadata": {},
   "outputs": [
    {
     "name": "stdout",
     "output_type": "stream",
     "text": [
      "Bob\n"
     ]
    }
   ],
   "source": [
    "print(df.iat[1, 0])"
   ]
  },
  {
   "cell_type": "code",
   "execution_count": 24,
   "metadata": {},
   "outputs": [
    {
     "name": "stdout",
     "output_type": "stream",
     "text": [
      "0    False\n",
      "1    False\n",
      "2     True\n",
      "3    False\n",
      "dtype: bool\n"
     ]
    }
   ],
   "source": [
    "data = {'Name': ['Alice', 'Bob', 'Alice', 'David'],\n",
    "        'Age': [25, 30, 25, 40]}\n",
    "\n",
    "df = pd.DataFrame(data)\n",
    "\n",
    "# 중복값 확인\n",
    "print(df.duplicated())"
   ]
  },
  {
   "cell_type": "code",
   "execution_count": 25,
   "metadata": {},
   "outputs": [
    {
     "name": "stdout",
     "output_type": "stream",
     "text": [
      "    Name  Age\n",
      "0  Alice   25\n",
      "1    Bob   30\n",
      "3  David   40\n"
     ]
    }
   ],
   "source": [
    "df_no_duplicates = df.drop_duplicates()\n",
    "print(df_no_duplicates)"
   ]
  },
  {
   "cell_type": "code",
   "execution_count": 26,
   "metadata": {},
   "outputs": [
    {
     "name": "stdout",
     "output_type": "stream",
     "text": [
      "    Name  Age\n",
      "0  Alice   25\n",
      "2  Alice   25\n",
      "1    Bob   30\n",
      "3  David   40\n"
     ]
    }
   ],
   "source": [
    "df_sorted = df.sort_values(by='Age')\n",
    "print(df_sorted)"
   ]
  },
  {
   "cell_type": "code",
   "execution_count": 27,
   "metadata": {},
   "outputs": [
    {
     "name": "stdout",
     "output_type": "stream",
     "text": [
      "    Name  Age\n",
      "3  David   40\n",
      "1    Bob   30\n",
      "0  Alice   25\n",
      "2  Alice   25\n"
     ]
    }
   ],
   "source": [
    "df_sorted_desc = df.sort_values(by='Age', ascending=False)\n",
    "print(df_sorted_desc)"
   ]
  },
  {
   "cell_type": "code",
   "execution_count": 28,
   "metadata": {},
   "outputs": [
    {
     "name": "stdout",
     "output_type": "stream",
     "text": [
      "    Name  Age\n",
      "0  Alice   25\n",
      "1    Bob   30\n",
      "2  Alice   25\n",
      "3  David   40\n"
     ]
    }
   ],
   "source": [
    "df_sorted_index = df.sort_index()\n",
    "print(df_sorted_index)"
   ]
  },
  {
   "cell_type": "code",
   "execution_count": 29,
   "metadata": {},
   "outputs": [],
   "source": [
    "import pandas as pd\n",
    "\n",
    "data = {\n",
    "    'Name': ['Alice', 'Bob', 'Charlie', 'David'],\n",
    "    'Score': [85, 90, 78, 92]\n",
    "}\n",
    "\n",
    "df = pd.DataFrame(data)\n"
   ]
  },
  {
   "cell_type": "code",
   "execution_count": 31,
   "metadata": {},
   "outputs": [
    {
     "name": "stdout",
     "output_type": "stream",
     "text": [
      "      Name  Score  AdjustedScore\n",
      "0    Alice     85             95\n",
      "1      Bob     90            100\n",
      "2  Charlie     78             88\n",
      "3    David     92            102\n"
     ]
    }
   ],
   "source": [
    "df['AdjustedScore'] = df['Score'].apply(lambda x: x + 10)\n",
    "print(df)"
   ]
  },
  {
   "cell_type": "code",
   "execution_count": 33,
   "metadata": {},
   "outputs": [
    {
     "name": "stdout",
     "output_type": "stream",
     "text": [
      "0    0\n",
      "1    1\n",
      "2    1\n",
      "3    0\n",
      "dtype: int64\n"
     ]
    }
   ],
   "source": [
    "gender_data = pd.Series(['Male', 'Female', 'Female', 'Male'])\n",
    "\n",
    "gender_numeric = gender_data.map(lambda x: 0 if x == 'Male' else 1)\n",
    "print(gender_numeric)"
   ]
  },
  {
   "cell_type": "code",
   "execution_count": 35,
   "metadata": {},
   "outputs": [
    {
     "name": "stdout",
     "output_type": "stream",
     "text": [
      "   CustomerID   Product Location\n",
      "0           2     Mouse      USA\n",
      "1           3  Keyboard   Canada\n"
     ]
    }
   ],
   "source": [
    "df1 = pd.DataFrame({'CustomerID': [1, 2, 3], 'Product': ['Laptop', 'Mouse', 'Keyboard']})\n",
    "df2 = pd.DataFrame({'CustomerID': [2, 3, 4], 'Location': ['USA', 'Canada', 'Mexico']})\n",
    "\n",
    "df_merged = pd.merge(df1, df2, on='CustomerID', how='inner')\n",
    "print(df_merged)"
   ]
  },
  {
   "cell_type": "code",
   "execution_count": 38,
   "metadata": {},
   "outputs": [
    {
     "name": "stdout",
     "output_type": "stream",
     "text": [
      "    A   B\n",
      "0  A0  B0\n",
      "1  A1  B1\n",
      "    A   B\n",
      "0  A2  B2\n",
      "1  A3  B3\n",
      "    A   B\n",
      "0  A0  B0\n",
      "1  A1  B1\n",
      "0  A2  B2\n",
      "1  A3  B3\n"
     ]
    }
   ],
   "source": [
    "df1 = pd.DataFrame({'A': ['A0', 'A1'], 'B': ['B0', 'B1']})\n",
    "df2 = pd.DataFrame({'A': ['A2', 'A3'], 'B': ['B2', 'B3']})\n",
    "\n",
    "df_concat = pd.concat([df1, df2], axis=0)\n",
    "print(df1)\n",
    "print(df2)\n",
    "print(df_concat)"
   ]
  },
  {
   "cell_type": "code",
   "execution_count": 41,
   "metadata": {},
   "outputs": [
    {
     "name": "stdout",
     "output_type": "stream",
     "text": [
      "     A\n",
      "K0  A0\n",
      "K1  A1\n",
      "     B\n",
      "K0  B0\n",
      "K1  B1\n",
      "     A   B\n",
      "K0  A0  B0\n",
      "K1  A1  B1\n"
     ]
    }
   ],
   "source": [
    "df1 = pd.DataFrame({'A': ['A0', 'A1']}, index=['K0', 'K1'])\n",
    "df2 = pd.DataFrame({'B': ['B0', 'B1']}, index=['K0', 'K1'])\n",
    "\n",
    "df_join = df1.join(df2)\n",
    "print(df1)\n",
    "print(df2)\n",
    "print(df_join)"
   ]
  },
  {
   "cell_type": "code",
   "execution_count": 44,
   "metadata": {},
   "outputs": [
    {
     "name": "stdout",
     "output_type": "stream",
     "text": [
      "City        Los Angeles  New York\n",
      "Date                             \n",
      "2024-01-01         68.0      55.0\n",
      "2024-01-02          NaN      52.0\n",
      "---------\n",
      "         Date         City  Temperature\n",
      "0  2024-01-01     New York           55\n",
      "1  2024-01-01  Los Angeles           68\n",
      "2  2024-01-02     New York           52\n"
     ]
    }
   ],
   "source": [
    "data = {'Date': ['2024-01-01', '2024-01-01', '2024-01-02'],\n",
    "        'City': ['New York', 'Los Angeles', 'New York'],\n",
    "        'Temperature': [55, 68, 52]}\n",
    "\n",
    "df_weather = pd.DataFrame(data)\n",
    "\n",
    "df_pivot = df_weather.pivot(index='Date', columns=\"City\", values=\"Temperature\")\n",
    "print(df_pivot)\n",
    "print(\"---------\")\n",
    "print(df_weather)"
   ]
  },
  {
   "cell_type": "code",
   "execution_count": 45,
   "metadata": {},
   "outputs": [
    {
     "name": "stdout",
     "output_type": "stream",
     "text": [
      "Product      A      B\n",
      "Region               \n",
      "North    300.0    NaN\n",
      "South      NaN  400.0\n"
     ]
    }
   ],
   "source": [
    "sales_data = {\n",
    "    'Product': ['A', 'B', 'A', 'B'],\n",
    "    'Sales': [100, 150, 200, 250],\n",
    "    'Region': ['North', 'South', 'North', 'South']\n",
    "}\n",
    "\n",
    "df_sales = pd.DataFrame(sales_data)\n",
    "df_pivot_table = df_sales.pivot_table(values='Sales', index='Region', columns='Product', aggfunc='sum')\n",
    "print(df_pivot_table)\n"
   ]
  },
  {
   "cell_type": "code",
   "execution_count": 49,
   "metadata": {},
   "outputs": [
    {
     "name": "stdout",
     "output_type": "stream",
     "text": [
      "   ID  Subject  Score\n",
      "0   1     Math     85\n",
      "1   2     Math     90\n",
      "2   3     Math     88\n",
      "3   1  English     78\n",
      "4   2  English     85\n",
      "5   3  English     90\n",
      "---------\n",
      "   ID  Math  English\n",
      "0   1    85       78\n",
      "1   2    90       85\n",
      "2   3    88       90\n"
     ]
    }
   ],
   "source": [
    "df_wide = pd.DataFrame({\n",
    "    'ID': [1, 2, 3],\n",
    "    'Math': [85, 90, 88],\n",
    "    'English': [78, 85, 90]\n",
    "})\n",
    "\n",
    "df_melt = pd.melt(df_wide, id_vars=['ID'], value_vars=['Math', 'English'], var_name=\"Subject\", value_name=\"Score\")\n",
    "df_melt = pd.melt(df_wide, id_vars=['ID'], value_vars=['Math', 'English'], var_name='Subject', value_name='Score')\n",
    "\n",
    "print(df_melt)\n",
    "print(\"---------\")\n",
    "print(df_wide)"
   ]
  },
  {
   "cell_type": "code",
   "execution_count": 57,
   "metadata": {},
   "outputs": [
    {
     "name": "stdout",
     "output_type": "stream",
     "text": [
      "   ID  Subject  Score\n",
      "0   1     Math     85\n",
      "1   2     Math     90\n",
      "2   3     Math     88\n",
      "3   1  English     78\n",
      "4   2  English     85\n",
      "5   3  English     90\n"
     ]
    }
   ],
   "source": [
    "df_wide = pd.DataFrame({\n",
    "    'ID': [1, 2, 3],\n",
    "    'Math': [85, 90, 88],\n",
    "    'English': [78, 85, 90]\n",
    "})\n",
    "\n",
    "df_melt = pd.melt(df_wide, id_vars=['ID'], value_vars=['Math', 'English'], var_name='Subject', value_name='Score')\n",
    "print(df_melt)"
   ]
  },
  {
   "cell_type": "code",
   "execution_count": 59,
   "metadata": {},
   "outputs": [
    {
     "name": "stdout",
     "output_type": "stream",
     "text": [
      "Department\n",
      "Finance    85000.0\n",
      "HR         51000.0\n",
      "IT         62500.0\n",
      "Name: Salary, dtype: float64\n"
     ]
    }
   ],
   "source": [
    "data = {\n",
    "    'Department': ['HR', 'IT', 'HR', 'Finance', 'IT', 'Finance'],\n",
    "    'Salary': [50000, 60000, 52000, 80000, 65000, 90000]\n",
    "}\n",
    "df = pd.DataFrame(data)\n",
    "\n",
    "groups = df.groupby('Department')['Salary'].mean()\n",
    "print(groups)"
   ]
  },
  {
   "cell_type": "code",
   "execution_count": 61,
   "metadata": {},
   "outputs": [
    {
     "name": "stdout",
     "output_type": "stream",
     "text": [
      "Department  Location\n",
      "Finance     Chicago     85000.0\n",
      "HR          Chicago     52000.0\n",
      "            New York    50000.0\n",
      "IT          New York    62500.0\n",
      "Name: Salary, dtype: float64\n"
     ]
    }
   ],
   "source": [
    "data = {\n",
    "    'Department': ['HR', 'IT', 'HR', 'Finance', 'IT', 'Finance'],\n",
    "    'Location': ['New York', 'New York', 'Chicago', 'Chicago', 'New York', 'Chicago'],\n",
    "    'Salary': [50000, 60000, 52000, 80000, 65000, 90000]\n",
    "}\n",
    "df = pd.DataFrame(data)\n",
    "\n",
    "grouped = df.groupby(['Department', 'Location'])[\"Salary\"].mean()\n",
    "print(grouped)"
   ]
  },
  {
   "cell_type": "code",
   "execution_count": 63,
   "metadata": {},
   "outputs": [
    {
     "name": "stdout",
     "output_type": "stream",
     "text": [
      "            Salary               \n",
      "               sum     mean count\n",
      "Department                       \n",
      "Finance     170000  85000.0     2\n",
      "HR          102000  51000.0     2\n",
      "IT          125000  62500.0     2\n"
     ]
    }
   ],
   "source": [
    "aggregated = df.groupby('Department').agg({\n",
    "    'Salary' : ['sum', 'mean', 'count']\n",
    "})\n",
    "print(aggregated)"
   ]
  },
  {
   "cell_type": "code",
   "execution_count": 65,
   "metadata": {},
   "outputs": [
    {
     "name": "stdout",
     "output_type": "stream",
     "text": [
      "Location    Chicago  New York\n",
      "Department                   \n",
      "Finance     85000.0       NaN\n",
      "HR          52000.0   50000.0\n",
      "IT              NaN   62500.0\n"
     ]
    }
   ],
   "source": [
    "unstacked = df.groupby(['Department','Location'])['Salary'].mean().unstack()\n",
    "print(unstacked)"
   ]
  },
  {
   "cell_type": "code",
   "execution_count": 66,
   "metadata": {},
   "outputs": [
    {
     "name": "stdout",
     "output_type": "stream",
     "text": [
      "Department  Location\n",
      "Finance     Chicago     85000.0\n",
      "HR          Chicago     52000.0\n",
      "            New York    50000.0\n",
      "IT          New York    62500.0\n",
      "dtype: float64\n"
     ]
    }
   ],
   "source": [
    "stacked = unstacked.stack()\n",
    "print(stacked)"
   ]
  },
  {
   "cell_type": "code",
   "execution_count": 67,
   "metadata": {},
   "outputs": [
    {
     "name": "stdout",
     "output_type": "stream",
     "text": [
      "  Department   Salary\n",
      "0    Finance  85000.0\n",
      "1         HR  51000.0\n",
      "2         IT  62500.0\n"
     ]
    }
   ],
   "source": [
    "df_reset = df.groupby('Department')['Salary'].mean().reset_index()\n",
    "print(df_reset)"
   ]
  },
  {
   "cell_type": "code",
   "execution_count": 77,
   "metadata": {},
   "outputs": [
    {
     "name": "stdout",
     "output_type": "stream",
     "text": [
      "  Month  Sales       Date\n",
      "0   Jan    200 2024-01-01\n",
      "1   Feb    300 2024-02-01\n",
      "2   Mar    400 2024-03-01\n",
      "3   Apr    500 2024-04-01\n",
      "4   May    450 2024-05-01\n"
     ]
    },
    {
     "name": "stderr",
     "output_type": "stream",
     "text": [
      "C:\\Users\\Playdata\\AppData\\Local\\Temp\\ipykernel_23680\\1838352714.py:5: UserWarning: Could not infer format, so each element will be parsed individually, falling back to `dateutil`. To ensure parsing is consistent and as-expected, please specify a format.\n",
      "  df['Date'] = pd.to_datetime(df['Month'] + \"2024\")\n"
     ]
    }
   ],
   "source": [
    "data = {'Month': ['Jan', 'Feb', 'Mar', 'Apr', 'May'],\n",
    "        'Sales': [200, 300, 400, 500, 450]}\n",
    "df = pd.DataFrame(data)\n",
    "\n",
    "df['Date'] = pd.to_datetime(df['Month'] + \"2024\")\n",
    "print(df)\n"
   ]
  },
  {
   "cell_type": "code",
   "execution_count": 78,
   "metadata": {},
   "outputs": [
    {
     "name": "stdout",
     "output_type": "stream",
     "text": [
      "           Month  Sales\n",
      "Date                   \n",
      "2024-01-31   Jan    200\n",
      "2024-02-29   Feb    300\n",
      "2024-03-31   Mar    400\n",
      "2024-04-30   Apr    500\n",
      "2024-05-31   May    450\n"
     ]
    },
    {
     "name": "stderr",
     "output_type": "stream",
     "text": [
      "C:\\Users\\Playdata\\AppData\\Local\\Temp\\ipykernel_23680\\3376258447.py:2: FutureWarning: 'M' is deprecated and will be removed in a future version, please use 'ME' instead.\n",
      "  monthly_sales = df.resample('M').sum()\n"
     ]
    }
   ],
   "source": [
    "df.set_index('Date', inplace=True)\n",
    "monthly_sales = df.resample('M').sum()\n",
    "print(monthly_sales)"
   ]
  },
  {
   "cell_type": "code",
   "execution_count": 79,
   "metadata": {},
   "outputs": [
    {
     "data": {
      "text/html": [
       "<div>\n",
       "<style scoped>\n",
       "    .dataframe tbody tr th:only-of-type {\n",
       "        vertical-align: middle;\n",
       "    }\n",
       "\n",
       "    .dataframe tbody tr th {\n",
       "        vertical-align: top;\n",
       "    }\n",
       "\n",
       "    .dataframe thead th {\n",
       "        text-align: right;\n",
       "    }\n",
       "</style>\n",
       "<table border=\"1\" class=\"dataframe\">\n",
       "  <thead>\n",
       "    <tr style=\"text-align: right;\">\n",
       "      <th></th>\n",
       "      <th>Name</th>\n",
       "      <th>Phone</th>\n",
       "      <th>Email</th>\n",
       "    </tr>\n",
       "  </thead>\n",
       "  <tbody>\n",
       "    <tr>\n",
       "      <th>0</th>\n",
       "      <td>김민수</td>\n",
       "      <td>010-1234-5678</td>\n",
       "      <td>minsu.kim@gmail.com</td>\n",
       "    </tr>\n",
       "    <tr>\n",
       "      <th>1</th>\n",
       "      <td>이지은</td>\n",
       "      <td>010-2345-6789</td>\n",
       "      <td>jieun.lee@naver.com</td>\n",
       "    </tr>\n",
       "    <tr>\n",
       "      <th>2</th>\n",
       "      <td>박철수</td>\n",
       "      <td>010-3456-7890</td>\n",
       "      <td>chulsoo.park@hotmail.com</td>\n",
       "    </tr>\n",
       "    <tr>\n",
       "      <th>3</th>\n",
       "      <td>홍길동</td>\n",
       "      <td>010-4567-8901</td>\n",
       "      <td>gildong.hong@daum.net</td>\n",
       "    </tr>\n",
       "    <tr>\n",
       "      <th>4</th>\n",
       "      <td>김영희</td>\n",
       "      <td>010-5678-9012</td>\n",
       "      <td>younghee.kim@gmail.com</td>\n",
       "    </tr>\n",
       "    <tr>\n",
       "      <th>...</th>\n",
       "      <td>...</td>\n",
       "      <td>...</td>\n",
       "      <td>...</td>\n",
       "    </tr>\n",
       "    <tr>\n",
       "      <th>72</th>\n",
       "      <td>범수정</td>\n",
       "      <td>010-3456-7892</td>\n",
       "      <td>soojeong.beom@gmail.com</td>\n",
       "    </tr>\n",
       "    <tr>\n",
       "      <th>73</th>\n",
       "      <td>이호진</td>\n",
       "      <td>010-4567-8904</td>\n",
       "      <td>hojin.lee@daum.net</td>\n",
       "    </tr>\n",
       "    <tr>\n",
       "      <th>74</th>\n",
       "      <td>정지윤</td>\n",
       "      <td>010-5678-9015</td>\n",
       "      <td>jungzee@naver.com</td>\n",
       "    </tr>\n",
       "    <tr>\n",
       "      <th>75</th>\n",
       "      <td>김지현</td>\n",
       "      <td>010-6789-0126</td>\n",
       "      <td>jh.kim@gmail.com</td>\n",
       "    </tr>\n",
       "    <tr>\n",
       "      <th>76</th>\n",
       "      <td>이지훈</td>\n",
       "      <td>010-7890-1237</td>\n",
       "      <td>leejh@gmail.com</td>\n",
       "    </tr>\n",
       "  </tbody>\n",
       "</table>\n",
       "<p>77 rows × 3 columns</p>\n",
       "</div>"
      ],
      "text/plain": [
       "   Name          Phone                     Email\n",
       "0   김민수  010-1234-5678       minsu.kim@gmail.com\n",
       "1   이지은  010-2345-6789       jieun.lee@naver.com\n",
       "2   박철수  010-3456-7890  chulsoo.park@hotmail.com\n",
       "3   홍길동  010-4567-8901     gildong.hong@daum.net\n",
       "4   김영희  010-5678-9012    younghee.kim@gmail.com\n",
       "..  ...            ...                       ...\n",
       "72  범수정  010-3456-7892   soojeong.beom@gmail.com\n",
       "73  이호진  010-4567-8904        hojin.lee@daum.net\n",
       "74  정지윤  010-5678-9015         jungzee@naver.com\n",
       "75  김지현  010-6789-0126          jh.kim@gmail.com\n",
       "76  이지훈  010-7890-1237           leejh@gmail.com\n",
       "\n",
       "[77 rows x 3 columns]"
      ]
     },
     "execution_count": 79,
     "metadata": {},
     "output_type": "execute_result"
    }
   ],
   "source": [
    "df = pd.read_csv('./data/contacts.csv')\n",
    "df"
   ]
  },
  {
   "cell_type": "code",
   "execution_count": 80,
   "metadata": {},
   "outputs": [
    {
     "data": {
      "text/html": [
       "<div>\n",
       "<style scoped>\n",
       "    .dataframe tbody tr th:only-of-type {\n",
       "        vertical-align: middle;\n",
       "    }\n",
       "\n",
       "    .dataframe tbody tr th {\n",
       "        vertical-align: top;\n",
       "    }\n",
       "\n",
       "    .dataframe thead th {\n",
       "        text-align: right;\n",
       "    }\n",
       "</style>\n",
       "<table border=\"1\" class=\"dataframe\">\n",
       "  <thead>\n",
       "    <tr style=\"text-align: right;\">\n",
       "      <th></th>\n",
       "      <th>Name</th>\n",
       "      <th>Phone</th>\n",
       "      <th>Email</th>\n",
       "    </tr>\n",
       "  </thead>\n",
       "  <tbody>\n",
       "    <tr>\n",
       "      <th>2</th>\n",
       "      <td>박철수</td>\n",
       "      <td>010-3456-7890</td>\n",
       "      <td>chulsoo.park@hotmail.com</td>\n",
       "    </tr>\n",
       "    <tr>\n",
       "      <th>31</th>\n",
       "      <td>박철수</td>\n",
       "      <td>010-1234-5681</td>\n",
       "      <td>chulsoo.park@gmail.com</td>\n",
       "    </tr>\n",
       "  </tbody>\n",
       "</table>\n",
       "</div>"
      ],
      "text/plain": [
       "   Name          Phone                     Email\n",
       "2   박철수  010-3456-7890  chulsoo.park@hotmail.com\n",
       "31  박철수  010-1234-5681    chulsoo.park@gmail.com"
      ]
     },
     "execution_count": 80,
     "metadata": {},
     "output_type": "execute_result"
    }
   ],
   "source": [
    "df[df['Name'] == '박철수']"
   ]
  },
  {
   "cell_type": "code",
   "execution_count": 83,
   "metadata": {},
   "outputs": [
    {
     "data": {
      "text/html": [
       "<div>\n",
       "<style scoped>\n",
       "    .dataframe tbody tr th:only-of-type {\n",
       "        vertical-align: middle;\n",
       "    }\n",
       "\n",
       "    .dataframe tbody tr th {\n",
       "        vertical-align: top;\n",
       "    }\n",
       "\n",
       "    .dataframe thead th {\n",
       "        text-align: right;\n",
       "    }\n",
       "</style>\n",
       "<table border=\"1\" class=\"dataframe\">\n",
       "  <thead>\n",
       "    <tr style=\"text-align: right;\">\n",
       "      <th></th>\n",
       "      <th>Name</th>\n",
       "      <th>Phone</th>\n",
       "      <th>Email</th>\n",
       "    </tr>\n",
       "  </thead>\n",
       "  <tbody>\n",
       "    <tr>\n",
       "      <th>1</th>\n",
       "      <td>이지은</td>\n",
       "      <td>010-2345-6789</td>\n",
       "      <td>jieun.lee@naver.com</td>\n",
       "    </tr>\n",
       "    <tr>\n",
       "      <th>71</th>\n",
       "      <td>엄정희</td>\n",
       "      <td>010-2345-6789</td>\n",
       "      <td>jeonghee.eom@hotmail.com</td>\n",
       "    </tr>\n",
       "  </tbody>\n",
       "</table>\n",
       "</div>"
      ],
      "text/plain": [
       "   Name          Phone                     Email\n",
       "1   이지은  010-2345-6789       jieun.lee@naver.com\n",
       "71  엄정희  010-2345-6789  jeonghee.eom@hotmail.com"
      ]
     },
     "execution_count": 83,
     "metadata": {},
     "output_type": "execute_result"
    }
   ],
   "source": [
    "df[df['Phone'] == '010-2345-6789']"
   ]
  },
  {
   "cell_type": "code",
   "execution_count": null,
   "metadata": {},
   "outputs": [],
   "source": []
  }
 ],
 "metadata": {
  "kernelspec": {
   "display_name": "Python 3",
   "language": "python",
   "name": "python3"
  },
  "language_info": {
   "codemirror_mode": {
    "name": "ipython",
    "version": 3
   },
   "file_extension": ".py",
   "mimetype": "text/x-python",
   "name": "python",
   "nbconvert_exporter": "python",
   "pygments_lexer": "ipython3",
   "version": "3.12.8"
  }
 },
 "nbformat": 4,
 "nbformat_minor": 2
}
